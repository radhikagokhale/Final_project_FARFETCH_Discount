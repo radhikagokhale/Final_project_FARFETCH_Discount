{
 "cells": [
  {
   "cell_type": "markdown",
   "metadata": {},
   "source": [
    "### Import libraries and data"
   ]
  },
  {
   "cell_type": "code",
   "execution_count": 3,
   "metadata": {},
   "outputs": [
    {
     "ename": "ModuleNotFoundError",
     "evalue": "No module named 'wikipedia'",
     "output_type": "error",
     "traceback": [
      "\u001b[1;31m---------------------------------------------------------------------------\u001b[0m",
      "\u001b[1;31mModuleNotFoundError\u001b[0m                       Traceback (most recent call last)",
      "\u001b[1;32m~\\AppData\\Local\\Temp/ipykernel_19576/1743706205.py\u001b[0m in \u001b[0;36m<module>\u001b[1;34m\u001b[0m\n\u001b[0;32m      4\u001b[0m \u001b[1;32mimport\u001b[0m \u001b[0mmatplotlib\u001b[0m\u001b[1;33m.\u001b[0m\u001b[0mpyplot\u001b[0m \u001b[1;32mas\u001b[0m \u001b[0mplt\u001b[0m\u001b[1;33m\u001b[0m\u001b[1;33m\u001b[0m\u001b[0m\n\u001b[0;32m      5\u001b[0m \u001b[1;32mimport\u001b[0m \u001b[0mseaborn\u001b[0m \u001b[1;32mas\u001b[0m \u001b[0msns\u001b[0m\u001b[1;33m\u001b[0m\u001b[1;33m\u001b[0m\u001b[0m\n\u001b[1;32m----> 6\u001b[1;33m \u001b[1;32mimport\u001b[0m \u001b[0mwikipedia\u001b[0m\u001b[1;33m\u001b[0m\u001b[1;33m\u001b[0m\u001b[0m\n\u001b[0m\u001b[0;32m      7\u001b[0m \u001b[1;32mfrom\u001b[0m \u001b[0mwordcloud\u001b[0m \u001b[1;32mimport\u001b[0m \u001b[0mWordCloud\u001b[0m\u001b[1;33m,\u001b[0m \u001b[0mSTOPWORDS\u001b[0m\u001b[1;33m\u001b[0m\u001b[1;33m\u001b[0m\u001b[0m\n",
      "\u001b[1;31mModuleNotFoundError\u001b[0m: No module named 'wikipedia'"
     ]
    }
   ],
   "source": [
    "import numpy as np \n",
    "import pandas as pd \n",
    "import re\n",
    "import matplotlib.pyplot as plt\n",
    "import seaborn as sns\n",
    "import wikipedia\n",
    "from wordcloud import WordCloud, STOPWORDS\n",
    "import warnings\n",
    "warnings.filterwarnings('ignore')"
   ]
  },
  {
   "cell_type": "markdown",
   "metadata": {},
   "source": [
    "#### Convert csv file dataset into pandas dataframe. Import our data using .read_csv()"
   ]
  },
  {
   "cell_type": "code",
   "execution_count": 5,
   "metadata": {},
   "outputs": [],
   "source": [
    "data = pd.read_csv(r'C:\\Users\\parag\\Desktop\\ironhack\\test\\final_project_discount\\current_farfetch_listings.csv\\current_farfetch_listings.csv')"
   ]
  },
  {
   "cell_type": "markdown",
   "metadata": {},
   "source": [
    "#### Pandas Dataframe information "
   ]
  },
  {
   "cell_type": "code",
   "execution_count": 6,
   "metadata": {},
   "outputs": [
    {
     "name": "stdout",
     "output_type": "stream",
     "text": [
      "<class 'pandas.core.frame.DataFrame'>\n",
      "RangeIndex: 188817 entries, 0 to 188816\n",
      "Data columns (total 23 columns):\n",
      " #   Column                           Non-Null Count   Dtype  \n",
      "---  ------                           --------------   -----  \n",
      " 0   Unnamed: 0                       188817 non-null  int64  \n",
      " 1   availableSizes                   162711 non-null  object \n",
      " 2   brand.id                         188817 non-null  int64  \n",
      " 3   brand.name                       188817 non-null  object \n",
      " 4   gender                           188817 non-null  object \n",
      " 5   hasSimilarProducts               188817 non-null  bool   \n",
      " 6   id                               188817 non-null  int64  \n",
      " 7   images.cutOut                    188817 non-null  object \n",
      " 8   images.model                     188817 non-null  object \n",
      " 9   isCustomizable                   188817 non-null  bool   \n",
      " 10  merchandiseLabel                 56441 non-null   object \n",
      " 11  merchandiseLabelField            188817 non-null  object \n",
      " 12  merchantId                       188817 non-null  int64  \n",
      " 13  priceInfo.currencyCode           188817 non-null  object \n",
      " 14  priceInfo.discountLabel          68287 non-null   object \n",
      " 15  priceInfo.finalPrice             188817 non-null  int64  \n",
      " 16  priceInfo.formattedFinalPrice    188817 non-null  object \n",
      " 17  priceInfo.formattedInitialPrice  188817 non-null  object \n",
      " 18  priceInfo.initialPrice           188817 non-null  int64  \n",
      " 19  priceInfo.installmentsLabel      0 non-null       float64\n",
      " 20  priceInfo.isOnSale               188817 non-null  bool   \n",
      " 21  shortDescription                 188817 non-null  object \n",
      " 22  stockTotal                       188817 non-null  int64  \n",
      "dtypes: bool(3), float64(1), int64(7), object(12)\n",
      "memory usage: 29.4+ MB\n"
     ]
    }
   ],
   "source": [
    "data.info()"
   ]
  },
  {
   "cell_type": "markdown",
   "metadata": {},
   "source": [
    "### Exploratory Data Analysis (EDA)"
   ]
  },
  {
   "cell_type": "markdown",
   "metadata": {},
   "source": [
    "#### Statistical overview from numerical columns"
   ]
  },
  {
   "cell_type": "code",
   "execution_count": 7,
   "metadata": {},
   "outputs": [
    {
     "data": {
      "text/html": [
       "<div>\n",
       "<style scoped>\n",
       "    .dataframe tbody tr th:only-of-type {\n",
       "        vertical-align: middle;\n",
       "    }\n",
       "\n",
       "    .dataframe tbody tr th {\n",
       "        vertical-align: top;\n",
       "    }\n",
       "\n",
       "    .dataframe thead th {\n",
       "        text-align: right;\n",
       "    }\n",
       "</style>\n",
       "<table border=\"1\" class=\"dataframe\">\n",
       "  <thead>\n",
       "    <tr style=\"text-align: right;\">\n",
       "      <th></th>\n",
       "      <th>Unnamed: 0</th>\n",
       "      <th>brand.id</th>\n",
       "      <th>id</th>\n",
       "      <th>merchantId</th>\n",
       "      <th>priceInfo.finalPrice</th>\n",
       "      <th>priceInfo.initialPrice</th>\n",
       "      <th>priceInfo.installmentsLabel</th>\n",
       "      <th>stockTotal</th>\n",
       "    </tr>\n",
       "  </thead>\n",
       "  <tbody>\n",
       "    <tr>\n",
       "      <th>count</th>\n",
       "      <td>188817.000000</td>\n",
       "      <td>1.888170e+05</td>\n",
       "      <td>1.888170e+05</td>\n",
       "      <td>188817.000000</td>\n",
       "      <td>188817.000000</td>\n",
       "      <td>188817.000000</td>\n",
       "      <td>0.0</td>\n",
       "      <td>188817.000000</td>\n",
       "    </tr>\n",
       "    <tr>\n",
       "      <th>mean</th>\n",
       "      <td>89.498594</td>\n",
       "      <td>1.227366e+06</td>\n",
       "      <td>1.354713e+07</td>\n",
       "      <td>10091.138753</td>\n",
       "      <td>1079.983513</td>\n",
       "      <td>1230.788859</td>\n",
       "      <td>NaN</td>\n",
       "      <td>27.833055</td>\n",
       "    </tr>\n",
       "    <tr>\n",
       "      <th>std</th>\n",
       "      <td>51.960075</td>\n",
       "      <td>2.194786e+06</td>\n",
       "      <td>6.310952e+05</td>\n",
       "      <td>838.257401</td>\n",
       "      <td>1910.217119</td>\n",
       "      <td>1984.018813</td>\n",
       "      <td>NaN</td>\n",
       "      <td>464.593973</td>\n",
       "    </tr>\n",
       "    <tr>\n",
       "      <th>min</th>\n",
       "      <td>0.000000</td>\n",
       "      <td>6.000000e+00</td>\n",
       "      <td>1.004756e+07</td>\n",
       "      <td>9003.000000</td>\n",
       "      <td>2.000000</td>\n",
       "      <td>2.000000</td>\n",
       "      <td>NaN</td>\n",
       "      <td>0.000000</td>\n",
       "    </tr>\n",
       "    <tr>\n",
       "      <th>25%</th>\n",
       "      <td>44.000000</td>\n",
       "      <td>1.828600e+04</td>\n",
       "      <td>1.337835e+07</td>\n",
       "      <td>9449.000000</td>\n",
       "      <td>303.000000</td>\n",
       "      <td>378.000000</td>\n",
       "      <td>NaN</td>\n",
       "      <td>1.000000</td>\n",
       "    </tr>\n",
       "    <tr>\n",
       "      <th>50%</th>\n",
       "      <td>89.000000</td>\n",
       "      <td>1.184510e+05</td>\n",
       "      <td>1.370027e+07</td>\n",
       "      <td>9843.000000</td>\n",
       "      <td>612.000000</td>\n",
       "      <td>730.000000</td>\n",
       "      <td>NaN</td>\n",
       "      <td>4.000000</td>\n",
       "    </tr>\n",
       "    <tr>\n",
       "      <th>75%</th>\n",
       "      <td>134.000000</td>\n",
       "      <td>1.175963e+06</td>\n",
       "      <td>1.397942e+07</td>\n",
       "      <td>10600.000000</td>\n",
       "      <td>1163.000000</td>\n",
       "      <td>1360.000000</td>\n",
       "      <td>NaN</td>\n",
       "      <td>10.000000</td>\n",
       "    </tr>\n",
       "    <tr>\n",
       "      <th>max</th>\n",
       "      <td>179.000000</td>\n",
       "      <td>1.094619e+07</td>\n",
       "      <td>1.429129e+07</td>\n",
       "      <td>12418.000000</td>\n",
       "      <td>89724.000000</td>\n",
       "      <td>89724.000000</td>\n",
       "      <td>NaN</td>\n",
       "      <td>16987.000000</td>\n",
       "    </tr>\n",
       "  </tbody>\n",
       "</table>\n",
       "</div>"
      ],
      "text/plain": [
       "          Unnamed: 0      brand.id            id     merchantId  \\\n",
       "count  188817.000000  1.888170e+05  1.888170e+05  188817.000000   \n",
       "mean       89.498594  1.227366e+06  1.354713e+07   10091.138753   \n",
       "std        51.960075  2.194786e+06  6.310952e+05     838.257401   \n",
       "min         0.000000  6.000000e+00  1.004756e+07    9003.000000   \n",
       "25%        44.000000  1.828600e+04  1.337835e+07    9449.000000   \n",
       "50%        89.000000  1.184510e+05  1.370027e+07    9843.000000   \n",
       "75%       134.000000  1.175963e+06  1.397942e+07   10600.000000   \n",
       "max       179.000000  1.094619e+07  1.429129e+07   12418.000000   \n",
       "\n",
       "       priceInfo.finalPrice  priceInfo.initialPrice  \\\n",
       "count         188817.000000           188817.000000   \n",
       "mean            1079.983513             1230.788859   \n",
       "std             1910.217119             1984.018813   \n",
       "min                2.000000                2.000000   \n",
       "25%              303.000000              378.000000   \n",
       "50%              612.000000              730.000000   \n",
       "75%             1163.000000             1360.000000   \n",
       "max            89724.000000            89724.000000   \n",
       "\n",
       "       priceInfo.installmentsLabel     stockTotal  \n",
       "count                          0.0  188817.000000  \n",
       "mean                           NaN      27.833055  \n",
       "std                            NaN     464.593973  \n",
       "min                            NaN       0.000000  \n",
       "25%                            NaN       1.000000  \n",
       "50%                            NaN       4.000000  \n",
       "75%                            NaN      10.000000  \n",
       "max                            NaN   16987.000000  "
      ]
     },
     "execution_count": 7,
     "metadata": {},
     "output_type": "execute_result"
    }
   ],
   "source": [
    "data.describe()"
   ]
  },
  {
   "cell_type": "code",
   "execution_count": 8,
   "metadata": {},
   "outputs": [
    {
     "data": {
      "text/html": [
       "<div>\n",
       "<style scoped>\n",
       "    .dataframe tbody tr th:only-of-type {\n",
       "        vertical-align: middle;\n",
       "    }\n",
       "\n",
       "    .dataframe tbody tr th {\n",
       "        vertical-align: top;\n",
       "    }\n",
       "\n",
       "    .dataframe thead th {\n",
       "        text-align: right;\n",
       "    }\n",
       "</style>\n",
       "<table border=\"1\" class=\"dataframe\">\n",
       "  <thead>\n",
       "    <tr style=\"text-align: right;\">\n",
       "      <th></th>\n",
       "      <th>Unnamed: 0</th>\n",
       "      <th>availableSizes</th>\n",
       "      <th>brand.id</th>\n",
       "      <th>brand.name</th>\n",
       "      <th>gender</th>\n",
       "      <th>hasSimilarProducts</th>\n",
       "      <th>id</th>\n",
       "      <th>images.cutOut</th>\n",
       "      <th>images.model</th>\n",
       "      <th>isCustomizable</th>\n",
       "      <th>...</th>\n",
       "      <th>priceInfo.currencyCode</th>\n",
       "      <th>priceInfo.discountLabel</th>\n",
       "      <th>priceInfo.finalPrice</th>\n",
       "      <th>priceInfo.formattedFinalPrice</th>\n",
       "      <th>priceInfo.formattedInitialPrice</th>\n",
       "      <th>priceInfo.initialPrice</th>\n",
       "      <th>priceInfo.installmentsLabel</th>\n",
       "      <th>priceInfo.isOnSale</th>\n",
       "      <th>shortDescription</th>\n",
       "      <th>stockTotal</th>\n",
       "    </tr>\n",
       "  </thead>\n",
       "  <tbody>\n",
       "    <tr>\n",
       "      <th>0</th>\n",
       "      <td>0</td>\n",
       "      <td>NaN</td>\n",
       "      <td>8360</td>\n",
       "      <td>Miu Miu</td>\n",
       "      <td>women</td>\n",
       "      <td>True</td>\n",
       "      <td>13415450</td>\n",
       "      <td>https://cdn-images.farfetch-contents.com/13/41...</td>\n",
       "      <td>https://cdn-images.farfetch-contents.com/13/41...</td>\n",
       "      <td>False</td>\n",
       "      <td>...</td>\n",
       "      <td>SGD</td>\n",
       "      <td>NaN</td>\n",
       "      <td>1080</td>\n",
       "      <td>$1,080</td>\n",
       "      <td>$1,080</td>\n",
       "      <td>1080</td>\n",
       "      <td>NaN</td>\n",
       "      <td>False</td>\n",
       "      <td>logo print strap sandals</td>\n",
       "      <td>130</td>\n",
       "    </tr>\n",
       "    <tr>\n",
       "      <th>1</th>\n",
       "      <td>1</td>\n",
       "      <td>[{'scaleId': 0, 'size': 'XXS'}, {'scaleId': 0,...</td>\n",
       "      <td>2049368</td>\n",
       "      <td>Self-Portrait</td>\n",
       "      <td>women</td>\n",
       "      <td>True</td>\n",
       "      <td>13784566</td>\n",
       "      <td>https://cdn-images.farfetch-contents.com/13/78...</td>\n",
       "      <td>https://cdn-images.farfetch-contents.com/13/78...</td>\n",
       "      <td>False</td>\n",
       "      <td>...</td>\n",
       "      <td>SGD</td>\n",
       "      <td>20% Off</td>\n",
       "      <td>392</td>\n",
       "      <td>$392</td>\n",
       "      <td>$490</td>\n",
       "      <td>490</td>\n",
       "      <td>NaN</td>\n",
       "      <td>True</td>\n",
       "      <td>embroidered midi dress</td>\n",
       "      <td>14</td>\n",
       "    </tr>\n",
       "    <tr>\n",
       "      <th>2</th>\n",
       "      <td>2</td>\n",
       "      <td>NaN</td>\n",
       "      <td>15514</td>\n",
       "      <td>Fendi</td>\n",
       "      <td>women</td>\n",
       "      <td>True</td>\n",
       "      <td>13377441</td>\n",
       "      <td>https://cdn-images.farfetch-contents.com/13/37...</td>\n",
       "      <td>https://cdn-images.farfetch-contents.com/13/37...</td>\n",
       "      <td>False</td>\n",
       "      <td>...</td>\n",
       "      <td>SGD</td>\n",
       "      <td>NaN</td>\n",
       "      <td>1245</td>\n",
       "      <td>$1,245</td>\n",
       "      <td>$1,245</td>\n",
       "      <td>1245</td>\n",
       "      <td>NaN</td>\n",
       "      <td>False</td>\n",
       "      <td>FendiMania sock style sneakers</td>\n",
       "      <td>68</td>\n",
       "    </tr>\n",
       "    <tr>\n",
       "      <th>3</th>\n",
       "      <td>3</td>\n",
       "      <td>[{'scaleId': 0, 'size': 'One Size'}]</td>\n",
       "      <td>49486</td>\n",
       "      <td>A.P.C.</td>\n",
       "      <td>women</td>\n",
       "      <td>False</td>\n",
       "      <td>13744082</td>\n",
       "      <td>https://cdn-images.farfetch-contents.com/13/74...</td>\n",
       "      <td>https://cdn-images.farfetch-contents.com/13/74...</td>\n",
       "      <td>False</td>\n",
       "      <td>...</td>\n",
       "      <td>SGD</td>\n",
       "      <td>20% Off</td>\n",
       "      <td>308</td>\n",
       "      <td>$308</td>\n",
       "      <td>$385</td>\n",
       "      <td>385</td>\n",
       "      <td>NaN</td>\n",
       "      <td>True</td>\n",
       "      <td>top zip wallet</td>\n",
       "      <td>1</td>\n",
       "    </tr>\n",
       "    <tr>\n",
       "      <th>4</th>\n",
       "      <td>4</td>\n",
       "      <td>NaN</td>\n",
       "      <td>34624</td>\n",
       "      <td>Prada</td>\n",
       "      <td>women</td>\n",
       "      <td>True</td>\n",
       "      <td>13668256</td>\n",
       "      <td>https://cdn-images.farfetch-contents.com/13/66...</td>\n",
       "      <td>https://cdn-images.farfetch-contents.com/13/66...</td>\n",
       "      <td>False</td>\n",
       "      <td>...</td>\n",
       "      <td>SGD</td>\n",
       "      <td>NaN</td>\n",
       "      <td>1248</td>\n",
       "      <td>$1,248</td>\n",
       "      <td>$1,248</td>\n",
       "      <td>1248</td>\n",
       "      <td>NaN</td>\n",
       "      <td>False</td>\n",
       "      <td>slingback 65 pumps</td>\n",
       "      <td>78</td>\n",
       "    </tr>\n",
       "  </tbody>\n",
       "</table>\n",
       "<p>5 rows × 23 columns</p>\n",
       "</div>"
      ],
      "text/plain": [
       "   Unnamed: 0                                     availableSizes  brand.id  \\\n",
       "0           0                                                NaN      8360   \n",
       "1           1  [{'scaleId': 0, 'size': 'XXS'}, {'scaleId': 0,...   2049368   \n",
       "2           2                                                NaN     15514   \n",
       "3           3               [{'scaleId': 0, 'size': 'One Size'}]     49486   \n",
       "4           4                                                NaN     34624   \n",
       "\n",
       "      brand.name gender  hasSimilarProducts        id  \\\n",
       "0        Miu Miu  women                True  13415450   \n",
       "1  Self-Portrait  women                True  13784566   \n",
       "2          Fendi  women                True  13377441   \n",
       "3         A.P.C.  women               False  13744082   \n",
       "4          Prada  women                True  13668256   \n",
       "\n",
       "                                       images.cutOut  \\\n",
       "0  https://cdn-images.farfetch-contents.com/13/41...   \n",
       "1  https://cdn-images.farfetch-contents.com/13/78...   \n",
       "2  https://cdn-images.farfetch-contents.com/13/37...   \n",
       "3  https://cdn-images.farfetch-contents.com/13/74...   \n",
       "4  https://cdn-images.farfetch-contents.com/13/66...   \n",
       "\n",
       "                                        images.model  isCustomizable  ...  \\\n",
       "0  https://cdn-images.farfetch-contents.com/13/41...           False  ...   \n",
       "1  https://cdn-images.farfetch-contents.com/13/78...           False  ...   \n",
       "2  https://cdn-images.farfetch-contents.com/13/37...           False  ...   \n",
       "3  https://cdn-images.farfetch-contents.com/13/74...           False  ...   \n",
       "4  https://cdn-images.farfetch-contents.com/13/66...           False  ...   \n",
       "\n",
       "  priceInfo.currencyCode priceInfo.discountLabel  priceInfo.finalPrice  \\\n",
       "0                    SGD                     NaN                  1080   \n",
       "1                    SGD                 20% Off                   392   \n",
       "2                    SGD                     NaN                  1245   \n",
       "3                    SGD                 20% Off                   308   \n",
       "4                    SGD                     NaN                  1248   \n",
       "\n",
       "  priceInfo.formattedFinalPrice priceInfo.formattedInitialPrice  \\\n",
       "0                        $1,080                          $1,080   \n",
       "1                          $392                            $490   \n",
       "2                        $1,245                          $1,245   \n",
       "3                          $308                            $385   \n",
       "4                        $1,248                          $1,248   \n",
       "\n",
       "   priceInfo.initialPrice priceInfo.installmentsLabel priceInfo.isOnSale  \\\n",
       "0                    1080                         NaN              False   \n",
       "1                     490                         NaN               True   \n",
       "2                    1245                         NaN              False   \n",
       "3                     385                         NaN               True   \n",
       "4                    1248                         NaN              False   \n",
       "\n",
       "                 shortDescription  stockTotal  \n",
       "0       logo print strap sandals          130  \n",
       "1          embroidered midi dress          14  \n",
       "2  FendiMania sock style sneakers          68  \n",
       "3                  top zip wallet           1  \n",
       "4              slingback 65 pumps          78  \n",
       "\n",
       "[5 rows x 23 columns]"
      ]
     },
     "execution_count": 8,
     "metadata": {},
     "output_type": "execute_result"
    }
   ],
   "source": [
    "data.head()"
   ]
  },
  {
   "cell_type": "markdown",
   "metadata": {},
   "source": [
    "#### Overview over different columns from the dataframe \n",
    "- understand which are the irrelevant columns for the dataframe future model prediction"
   ]
  },
  {
   "cell_type": "code",
   "execution_count": 9,
   "metadata": {},
   "outputs": [
    {
     "data": {
      "text/plain": [
       "Index(['Unnamed: 0', 'availableSizes', 'brand.id', 'brand.name', 'gender',\n",
       "       'hasSimilarProducts', 'id', 'images.cutOut', 'images.model',\n",
       "       'isCustomizable', 'merchandiseLabel', 'merchandiseLabelField',\n",
       "       'merchantId', 'priceInfo.currencyCode', 'priceInfo.discountLabel',\n",
       "       'priceInfo.finalPrice', 'priceInfo.formattedFinalPrice',\n",
       "       'priceInfo.formattedInitialPrice', 'priceInfo.initialPrice',\n",
       "       'priceInfo.installmentsLabel', 'priceInfo.isOnSale', 'shortDescription',\n",
       "       'stockTotal'],\n",
       "      dtype='object')"
      ]
     },
     "execution_count": 9,
     "metadata": {},
     "output_type": "execute_result"
    }
   ],
   "source": [
    "# To get column names from the new dataframe\n",
    "\n",
    "data.columns"
   ]
  },
  {
   "cell_type": "code",
   "execution_count": 10,
   "metadata": {},
   "outputs": [
    {
     "data": {
      "text/plain": [
       "57889       2605\n",
       "34624       2522\n",
       "25354       2501\n",
       "547344      2490\n",
       "3440        2340\n",
       "            ... \n",
       "178642         1\n",
       "6133942        1\n",
       "80278          1\n",
       "7017895        1\n",
       "10041245       1\n",
       "Name: brand.id, Length: 2320, dtype: int64"
      ]
     },
     "execution_count": 10,
     "metadata": {},
     "output_type": "execute_result"
    }
   ],
   "source": [
    "# Contain counts of unique values (making it to each column from the new dataframe created)\n",
    "\n",
    "data['brand.id'].value_counts()"
   ]
  },
  {
   "cell_type": "code",
   "execution_count": 11,
   "metadata": {},
   "outputs": [
    {
     "data": {
      "text/plain": [
       "[{'scaleId': 0, 'size': 'One Size'}]                                                                                                                                                         49701\n",
       "[{'scaleId': 0, 'size': 'XS'}, {'scaleId': 0, 'size': 'S'}, {'scaleId': 0, 'size': 'M'}, {'scaleId': 0, 'size': 'L'}]                                                                        10768\n",
       "[{'scaleId': 0, 'size': 'S'}]                                                                                                                                                                10468\n",
       "[{'scaleId': 0, 'size': 'M'}]                                                                                                                                                                 9469\n",
       "[{'scaleId': 0, 'size': 'XS'}, {'scaleId': 0, 'size': 'S'}, {'scaleId': 0, 'size': 'M'}]                                                                                                      7854\n",
       "                                                                                                                                                                                             ...  \n",
       "[{'scaleId': 0, 'size': 'XXXS'}, {'scaleId': 0, 'size': 'XXS'}, {'scaleId': 0, 'size': 'L'}, {'scaleId': 0, 'size': 'XL'}, {'scaleId': 0, 'size': 'XXL'}, {'scaleId': 0, 'size': 'XXXL'}]        1\n",
       "[{'scaleId': 0, 'size': 'XXXS'}, {'scaleId': 0, 'size': 'XXS'}, {'scaleId': 0, 'size': 'L'}, {'scaleId': 0, 'size': 'XXL'}, {'scaleId': 0, 'size': 'XXXL'}]                                      1\n",
       "[{'scaleId': 0, 'size': 'XXS'}, {'scaleId': 0, 'size': 'S'}, {'scaleId': 0, 'size': 'XL'}, {'scaleId': 0, 'size': 'XXL'}, {'scaleId': 0, 'size': 'XXXL'}]                                        1\n",
       "[{'scaleId': 0, 'size': 'XXXS'}, {'scaleId': 0, 'size': 'XXS'}, {'scaleId': 0, 'size': 'XS'}, {'scaleId': 0, 'size': 'M'}, {'scaleId': 0, 'size': 'XL'}, {'scaleId': 0, 'size': 'XXL'}]          1\n",
       "[{'scaleId': 0, 'size': 'XXXS'}, {'scaleId': 0, 'size': 'XXS'}, {'scaleId': 0, 'size': 'XS'}, {'scaleId': 0, 'size': 'S'}, {'scaleId': 0, 'size': 'XXL'}]                                        1\n",
       "Name: availableSizes, Length: 393, dtype: int64"
      ]
     },
     "execution_count": 11,
     "metadata": {},
     "output_type": "execute_result"
    }
   ],
   "source": [
    "data['availableSizes'].value_counts()"
   ]
  },
  {
   "cell_type": "code",
   "execution_count": 12,
   "metadata": {},
   "outputs": [],
   "source": [
    "# Create a new column based on the available sizes (total number of available sizes for a specific product)\n",
    "        \n",
    "data['n_sizes'] = [ len(re.findall(\"('[A-Z]+'|'\\w{3} \\w{4}')\",p_list)) if (isinstance(p_list, str)) else 0 for p_list in data['availableSizes'] ]"
   ]
  },
  {
   "cell_type": "code",
   "execution_count": 13,
   "metadata": {},
   "outputs": [
    {
     "data": {
      "text/plain": [
       "0         0\n",
       "1         6\n",
       "2         0\n",
       "3         1\n",
       "4         0\n",
       "         ..\n",
       "188812    1\n",
       "188813    1\n",
       "188814    1\n",
       "188815    1\n",
       "188816    1\n",
       "Name: n_sizes, Length: 188817, dtype: int64"
      ]
     },
     "execution_count": 13,
     "metadata": {},
     "output_type": "execute_result"
    }
   ],
   "source": [
    "data['n_sizes']"
   ]
  },
  {
   "cell_type": "code",
   "execution_count": 14,
   "metadata": {},
   "outputs": [
    {
     "data": {
      "text/plain": [
       "57889       2605\n",
       "34624       2522\n",
       "25354       2501\n",
       "547344      2490\n",
       "3440        2340\n",
       "            ... \n",
       "178642         1\n",
       "6133942        1\n",
       "80278          1\n",
       "7017895        1\n",
       "10041245       1\n",
       "Name: brand.id, Length: 2320, dtype: int64"
      ]
     },
     "execution_count": 14,
     "metadata": {},
     "output_type": "execute_result"
    }
   ],
   "source": [
    "data['brand.id'].value_counts()"
   ]
  },
  {
   "cell_type": "code",
   "execution_count": 15,
   "metadata": {},
   "outputs": [
    {
     "data": {
      "text/plain": [
       "Chanel Pre-Owned    2605\n",
       "Prada               2522\n",
       "Gucci               2501\n",
       "Saint Laurent       2490\n",
       "Dolce & Gabbana     2340\n",
       "                    ... \n",
       "BRUNO BORDESE          1\n",
       "Tagliovivo             1\n",
       "Sankuanz               1\n",
       "I'M Isola Marras       1\n",
       "Tekla Fabrics          1\n",
       "Name: brand.name, Length: 2336, dtype: int64"
      ]
     },
     "execution_count": 15,
     "metadata": {},
     "output_type": "execute_result"
    }
   ],
   "source": [
    "data['brand.name'].value_counts()"
   ]
  },
  {
   "cell_type": "code",
   "execution_count": 16,
   "metadata": {},
   "outputs": [
    {
     "data": {
      "text/plain": [
       "women     176978\n",
       "unisex     11839\n",
       "Name: gender, dtype: int64"
      ]
     },
     "execution_count": 16,
     "metadata": {},
     "output_type": "execute_result"
    }
   ],
   "source": [
    "data['gender'].value_counts()"
   ]
  },
  {
   "cell_type": "code",
   "execution_count": 17,
   "metadata": {},
   "outputs": [
    {
     "data": {
      "text/plain": [
       "True     142021\n",
       "False     46796\n",
       "Name: hasSimilarProducts, dtype: int64"
      ]
     },
     "execution_count": 17,
     "metadata": {},
     "output_type": "execute_result"
    }
   ],
   "source": [
    "data['hasSimilarProducts'].value_counts()"
   ]
  },
  {
   "cell_type": "code",
   "execution_count": 18,
   "metadata": {},
   "outputs": [
    {
     "data": {
      "text/plain": [
       "False    188457\n",
       "True        360\n",
       "Name: isCustomizable, dtype: int64"
      ]
     },
     "execution_count": 18,
     "metadata": {},
     "output_type": "execute_result"
    }
   ],
   "source": [
    "data['isCustomizable'].value_counts()\n",
    "\n",
    "# Not significant for the model"
   ]
  },
  {
   "cell_type": "code",
   "execution_count": 19,
   "metadata": {},
   "outputs": [
    {
     "data": {
      "text/plain": [
       "New Season              41469\n",
       "Positively Conscious    12324\n",
       "Permanent Collection     1275\n",
       "Seasonal Pick             741\n",
       "Exclusive                 632\n",
       "Name: merchandiseLabel, dtype: int64"
      ]
     },
     "execution_count": 19,
     "metadata": {},
     "output_type": "execute_result"
    }
   ],
   "source": [
    "data['merchandiseLabel'].value_counts() \n",
    "\n",
    "# it has 132376 NaN values which is 70% of the dataframe\n",
    "# it can be added NoTag to the NaN "
   ]
  },
  {
   "cell_type": "code",
   "execution_count": 20,
   "metadata": {},
   "outputs": [
    {
     "data": {
      "text/plain": [
       "NoTag        146702\n",
       "NewSeason     41483\n",
       "Exclusive       632\n",
       "Name: merchandiseLabelField, dtype: int64"
      ]
     },
     "execution_count": 20,
     "metadata": {},
     "output_type": "execute_result"
    }
   ],
   "source": [
    "data['merchandiseLabelField'].value_counts() \n",
    "\n",
    "# Duplicate from column above"
   ]
  },
  {
   "cell_type": "code",
   "execution_count": 21,
   "metadata": {},
   "outputs": [
    {
     "data": {
      "text/plain": [
       "9359     6689\n",
       "9462     6410\n",
       "9682     4681\n",
       "10031    4097\n",
       "9164     3674\n",
       "         ... \n",
       "9967        1\n",
       "9350        1\n",
       "11247       1\n",
       "12142       1\n",
       "9460        1\n",
       "Name: merchantId, Length: 1002, dtype: int64"
      ]
     },
     "execution_count": 21,
     "metadata": {},
     "output_type": "execute_result"
    }
   ],
   "source": [
    "data['merchantId'].value_counts()"
   ]
  },
  {
   "cell_type": "code",
   "execution_count": 24,
   "metadata": {},
   "outputs": [
    {
     "data": {
      "text/plain": [
       "SGD    188817\n",
       "Name: priceInfo.currencyCode, dtype: int64"
      ]
     },
     "execution_count": 24,
     "metadata": {},
     "output_type": "execute_result"
    }
   ],
   "source": [
    "data['priceInfo.currencyCode'].value_counts() \n",
    "\n",
    "# Not significant, since it has the same value per column"
   ]
  },
  {
   "cell_type": "code",
   "execution_count": 25,
   "metadata": {},
   "outputs": [
    {
     "data": {
      "text/plain": [
       "50% Off    16070\n",
       "30% Off    14415\n",
       "40% Off    12736\n",
       "20% Off    10711\n",
       "60% Off     5049\n",
       "25% Off     2225\n",
       "35% Off     2181\n",
       "10% Off     1587\n",
       "15% Off     1119\n",
       "45% Off      719\n",
       "70% Off      707\n",
       "55% Off      316\n",
       "65% Off      276\n",
       "75% Off      162\n",
       "80% Off       12\n",
       "90% Off        2\n",
       "Name: priceInfo.discountLabel, dtype: int64"
      ]
     },
     "execution_count": 25,
     "metadata": {},
     "output_type": "execute_result"
    }
   ],
   "source": [
    "data['priceInfo.discountLabel'].value_counts()"
   ]
  },
  {
   "cell_type": "code",
   "execution_count": 26,
   "metadata": {},
   "outputs": [
    {
     "data": {
      "text/plain": [
       "308      824\n",
       "350      690\n",
       "711      593\n",
       "273      559\n",
       "457      552\n",
       "        ... \n",
       "9548       1\n",
       "8227       1\n",
       "7121       1\n",
       "10073      1\n",
       "13471      1\n",
       "Name: priceInfo.finalPrice, Length: 6201, dtype: int64"
      ]
     },
     "execution_count": 26,
     "metadata": {},
     "output_type": "execute_result"
    }
   ],
   "source": [
    "data['priceInfo.finalPrice'].value_counts()"
   ]
  },
  {
   "cell_type": "code",
   "execution_count": 27,
   "metadata": {},
   "outputs": [
    {
     "data": {
      "text/plain": [
       "$308       824\n",
       "$350       690\n",
       "$711       593\n",
       "$273       559\n",
       "$457       552\n",
       "          ... \n",
       "$9,548       1\n",
       "$8,227       1\n",
       "$7,121       1\n",
       "$10,073      1\n",
       "$13,471      1\n",
       "Name: priceInfo.formattedFinalPrice, Length: 6201, dtype: int64"
      ]
     },
     "execution_count": 27,
     "metadata": {},
     "output_type": "execute_result"
    }
   ],
   "source": [
    "data['priceInfo.formattedFinalPrice'].value_counts() \n",
    "\n",
    "# drop is duplicate from the column above"
   ]
  },
  {
   "cell_type": "code",
   "execution_count": 28,
   "metadata": {},
   "outputs": [
    {
     "data": {
      "text/plain": [
       "350      893\n",
       "308      843\n",
       "273      665\n",
       "869      643\n",
       "711      630\n",
       "        ... \n",
       "3297       1\n",
       "2848       1\n",
       "3574       1\n",
       "6034       1\n",
       "13471      1\n",
       "Name: priceInfo.initialPrice, Length: 6393, dtype: int64"
      ]
     },
     "execution_count": 28,
     "metadata": {},
     "output_type": "execute_result"
    }
   ],
   "source": [
    "data['priceInfo.initialPrice'].value_counts()"
   ]
  },
  {
   "cell_type": "code",
   "execution_count": 29,
   "metadata": {},
   "outputs": [
    {
     "data": {
      "text/plain": [
       "$350       893\n",
       "$308       843\n",
       "$273       665\n",
       "$869       643\n",
       "$711       630\n",
       "          ... \n",
       "$3,297       1\n",
       "$2,848       1\n",
       "$3,574       1\n",
       "$6,034       1\n",
       "$13,471      1\n",
       "Name: priceInfo.formattedInitialPrice, Length: 6393, dtype: int64"
      ]
     },
     "execution_count": 29,
     "metadata": {},
     "output_type": "execute_result"
    }
   ],
   "source": [
    "data['priceInfo.formattedInitialPrice'].value_counts() \n",
    "\n",
    "# drop is duplicate from the column above"
   ]
  },
  {
   "cell_type": "code",
   "execution_count": 30,
   "metadata": {},
   "outputs": [
    {
     "data": {
      "text/plain": [
       "188817"
      ]
     },
     "execution_count": 30,
     "metadata": {},
     "output_type": "execute_result"
    }
   ],
   "source": [
    "data['priceInfo.installmentsLabel'].isna().sum() \n",
    "\n",
    "# eliminate NaN column"
   ]
  },
  {
   "cell_type": "code",
   "execution_count": 31,
   "metadata": {},
   "outputs": [
    {
     "data": {
      "text/plain": [
       "False    119458\n",
       "True      69359\n",
       "Name: priceInfo.isOnSale, dtype: int64"
      ]
     },
     "execution_count": 31,
     "metadata": {},
     "output_type": "execute_result"
    }
   ],
   "source": [
    "data['priceInfo.isOnSale'].value_counts()"
   ]
  },
  {
   "cell_type": "code",
   "execution_count": 32,
   "metadata": {},
   "outputs": [
    {
     "data": {
      "text/plain": [
       "cropped trousers                   324\n",
       "round frame sunglasses             312\n",
       "logo print T-shirt                 271\n",
       "round frame glasses                241\n",
       "cat eye sunglasses                 231\n",
       "                                  ... \n",
       "Dior By Dior sunglasses              1\n",
       "DiorClan sunglasses                  1\n",
       "Teak sunglasses                      1\n",
       "IC! Berlin Oroshi round glasses      1\n",
       "whisker print plate                  1\n",
       "Name: shortDescription, Length: 118706, dtype: int64"
      ]
     },
     "execution_count": 32,
     "metadata": {},
     "output_type": "execute_result"
    }
   ],
   "source": [
    "data['shortDescription'].value_counts()"
   ]
  },
  {
   "cell_type": "code",
   "execution_count": 33,
   "metadata": {},
   "outputs": [
    {
     "data": {
      "text/plain": [
       "1       48398\n",
       "2       26074\n",
       "3       18265\n",
       "4       13422\n",
       "5       10212\n",
       "        ...  \n",
       "331         1\n",
       "911         1\n",
       "888         1\n",
       "1041        1\n",
       "637         1\n",
       "Name: stockTotal, Length: 684, dtype: int64"
      ]
     },
     "execution_count": 33,
     "metadata": {},
     "output_type": "execute_result"
    }
   ],
   "source": [
    "data['stockTotal'].value_counts()"
   ]
  },
  {
   "cell_type": "markdown",
   "metadata": {},
   "source": [
    "#### Dropping irrelevant columns "
   ]
  },
  {
   "cell_type": "code",
   "execution_count": 34,
   "metadata": {},
   "outputs": [],
   "source": [
    "farfetch = data.drop(['Unnamed: 0','availableSizes','images.cutOut','images.model','priceInfo.currencyCode','merchandiseLabelField','priceInfo.formattedFinalPrice','priceInfo.formattedInitialPrice','priceInfo.installmentsLabel'], axis=1)"
   ]
  },
  {
   "cell_type": "code",
   "execution_count": 35,
   "metadata": {},
   "outputs": [
    {
     "data": {
      "text/html": [
       "<div>\n",
       "<style scoped>\n",
       "    .dataframe tbody tr th:only-of-type {\n",
       "        vertical-align: middle;\n",
       "    }\n",
       "\n",
       "    .dataframe tbody tr th {\n",
       "        vertical-align: top;\n",
       "    }\n",
       "\n",
       "    .dataframe thead th {\n",
       "        text-align: right;\n",
       "    }\n",
       "</style>\n",
       "<table border=\"1\" class=\"dataframe\">\n",
       "  <thead>\n",
       "    <tr style=\"text-align: right;\">\n",
       "      <th></th>\n",
       "      <th>brand.id</th>\n",
       "      <th>brand.name</th>\n",
       "      <th>gender</th>\n",
       "      <th>hasSimilarProducts</th>\n",
       "      <th>id</th>\n",
       "      <th>isCustomizable</th>\n",
       "      <th>merchandiseLabel</th>\n",
       "      <th>merchantId</th>\n",
       "      <th>priceInfo.discountLabel</th>\n",
       "      <th>priceInfo.finalPrice</th>\n",
       "      <th>priceInfo.initialPrice</th>\n",
       "      <th>priceInfo.isOnSale</th>\n",
       "      <th>shortDescription</th>\n",
       "      <th>stockTotal</th>\n",
       "      <th>n_sizes</th>\n",
       "    </tr>\n",
       "  </thead>\n",
       "  <tbody>\n",
       "    <tr>\n",
       "      <th>0</th>\n",
       "      <td>8360</td>\n",
       "      <td>Miu Miu</td>\n",
       "      <td>women</td>\n",
       "      <td>True</td>\n",
       "      <td>13415450</td>\n",
       "      <td>False</td>\n",
       "      <td>NaN</td>\n",
       "      <td>9359</td>\n",
       "      <td>NaN</td>\n",
       "      <td>1080</td>\n",
       "      <td>1080</td>\n",
       "      <td>False</td>\n",
       "      <td>logo print strap sandals</td>\n",
       "      <td>130</td>\n",
       "      <td>0</td>\n",
       "    </tr>\n",
       "    <tr>\n",
       "      <th>1</th>\n",
       "      <td>2049368</td>\n",
       "      <td>Self-Portrait</td>\n",
       "      <td>women</td>\n",
       "      <td>True</td>\n",
       "      <td>13784566</td>\n",
       "      <td>False</td>\n",
       "      <td>NaN</td>\n",
       "      <td>9319</td>\n",
       "      <td>20% Off</td>\n",
       "      <td>392</td>\n",
       "      <td>490</td>\n",
       "      <td>True</td>\n",
       "      <td>embroidered midi dress</td>\n",
       "      <td>14</td>\n",
       "      <td>6</td>\n",
       "    </tr>\n",
       "    <tr>\n",
       "      <th>2</th>\n",
       "      <td>15514</td>\n",
       "      <td>Fendi</td>\n",
       "      <td>women</td>\n",
       "      <td>True</td>\n",
       "      <td>13377441</td>\n",
       "      <td>False</td>\n",
       "      <td>NaN</td>\n",
       "      <td>9140</td>\n",
       "      <td>NaN</td>\n",
       "      <td>1245</td>\n",
       "      <td>1245</td>\n",
       "      <td>False</td>\n",
       "      <td>FendiMania sock style sneakers</td>\n",
       "      <td>68</td>\n",
       "      <td>0</td>\n",
       "    </tr>\n",
       "    <tr>\n",
       "      <th>3</th>\n",
       "      <td>49486</td>\n",
       "      <td>A.P.C.</td>\n",
       "      <td>women</td>\n",
       "      <td>False</td>\n",
       "      <td>13744082</td>\n",
       "      <td>False</td>\n",
       "      <td>NaN</td>\n",
       "      <td>9031</td>\n",
       "      <td>20% Off</td>\n",
       "      <td>308</td>\n",
       "      <td>385</td>\n",
       "      <td>True</td>\n",
       "      <td>top zip wallet</td>\n",
       "      <td>1</td>\n",
       "      <td>1</td>\n",
       "    </tr>\n",
       "    <tr>\n",
       "      <th>4</th>\n",
       "      <td>34624</td>\n",
       "      <td>Prada</td>\n",
       "      <td>women</td>\n",
       "      <td>True</td>\n",
       "      <td>13668256</td>\n",
       "      <td>False</td>\n",
       "      <td>NaN</td>\n",
       "      <td>9339</td>\n",
       "      <td>NaN</td>\n",
       "      <td>1248</td>\n",
       "      <td>1248</td>\n",
       "      <td>False</td>\n",
       "      <td>slingback 65 pumps</td>\n",
       "      <td>78</td>\n",
       "      <td>0</td>\n",
       "    </tr>\n",
       "    <tr>\n",
       "      <th>...</th>\n",
       "      <td>...</td>\n",
       "      <td>...</td>\n",
       "      <td>...</td>\n",
       "      <td>...</td>\n",
       "      <td>...</td>\n",
       "      <td>...</td>\n",
       "      <td>...</td>\n",
       "      <td>...</td>\n",
       "      <td>...</td>\n",
       "      <td>...</td>\n",
       "      <td>...</td>\n",
       "      <td>...</td>\n",
       "      <td>...</td>\n",
       "      <td>...</td>\n",
       "      <td>...</td>\n",
       "    </tr>\n",
       "    <tr>\n",
       "      <th>188812</th>\n",
       "      <td>59394</td>\n",
       "      <td>Fornasetti</td>\n",
       "      <td>unisex</td>\n",
       "      <td>False</td>\n",
       "      <td>10047577</td>\n",
       "      <td>False</td>\n",
       "      <td>Permanent Collection</td>\n",
       "      <td>9089</td>\n",
       "      <td>NaN</td>\n",
       "      <td>207</td>\n",
       "      <td>207</td>\n",
       "      <td>False</td>\n",
       "      <td>face print plate</td>\n",
       "      <td>6</td>\n",
       "      <td>1</td>\n",
       "    </tr>\n",
       "    <tr>\n",
       "      <th>188813</th>\n",
       "      <td>59394</td>\n",
       "      <td>Fornasetti</td>\n",
       "      <td>unisex</td>\n",
       "      <td>False</td>\n",
       "      <td>10047571</td>\n",
       "      <td>False</td>\n",
       "      <td>NaN</td>\n",
       "      <td>9089</td>\n",
       "      <td>NaN</td>\n",
       "      <td>207</td>\n",
       "      <td>207</td>\n",
       "      <td>False</td>\n",
       "      <td>boss print plate</td>\n",
       "      <td>2</td>\n",
       "      <td>1</td>\n",
       "    </tr>\n",
       "    <tr>\n",
       "      <th>188814</th>\n",
       "      <td>59394</td>\n",
       "      <td>Fornasetti</td>\n",
       "      <td>unisex</td>\n",
       "      <td>False</td>\n",
       "      <td>10047569</td>\n",
       "      <td>False</td>\n",
       "      <td>NaN</td>\n",
       "      <td>9089</td>\n",
       "      <td>NaN</td>\n",
       "      <td>207</td>\n",
       "      <td>207</td>\n",
       "      <td>False</td>\n",
       "      <td>face print plate</td>\n",
       "      <td>2</td>\n",
       "      <td>1</td>\n",
       "    </tr>\n",
       "    <tr>\n",
       "      <th>188815</th>\n",
       "      <td>59394</td>\n",
       "      <td>Fornasetti</td>\n",
       "      <td>unisex</td>\n",
       "      <td>False</td>\n",
       "      <td>10047567</td>\n",
       "      <td>False</td>\n",
       "      <td>NaN</td>\n",
       "      <td>9089</td>\n",
       "      <td>NaN</td>\n",
       "      <td>207</td>\n",
       "      <td>207</td>\n",
       "      <td>False</td>\n",
       "      <td>whisker print plate</td>\n",
       "      <td>10</td>\n",
       "      <td>1</td>\n",
       "    </tr>\n",
       "    <tr>\n",
       "      <th>188816</th>\n",
       "      <td>59394</td>\n",
       "      <td>Fornasetti</td>\n",
       "      <td>unisex</td>\n",
       "      <td>False</td>\n",
       "      <td>10047563</td>\n",
       "      <td>False</td>\n",
       "      <td>NaN</td>\n",
       "      <td>9089</td>\n",
       "      <td>NaN</td>\n",
       "      <td>207</td>\n",
       "      <td>207</td>\n",
       "      <td>False</td>\n",
       "      <td>face print plate</td>\n",
       "      <td>3</td>\n",
       "      <td>1</td>\n",
       "    </tr>\n",
       "  </tbody>\n",
       "</table>\n",
       "<p>188817 rows × 15 columns</p>\n",
       "</div>"
      ],
      "text/plain": [
       "        brand.id     brand.name  gender  hasSimilarProducts        id  \\\n",
       "0           8360        Miu Miu   women                True  13415450   \n",
       "1        2049368  Self-Portrait   women                True  13784566   \n",
       "2          15514          Fendi   women                True  13377441   \n",
       "3          49486         A.P.C.   women               False  13744082   \n",
       "4          34624          Prada   women                True  13668256   \n",
       "...          ...            ...     ...                 ...       ...   \n",
       "188812     59394     Fornasetti  unisex               False  10047577   \n",
       "188813     59394     Fornasetti  unisex               False  10047571   \n",
       "188814     59394     Fornasetti  unisex               False  10047569   \n",
       "188815     59394     Fornasetti  unisex               False  10047567   \n",
       "188816     59394     Fornasetti  unisex               False  10047563   \n",
       "\n",
       "        isCustomizable      merchandiseLabel  merchantId  \\\n",
       "0                False                   NaN        9359   \n",
       "1                False                   NaN        9319   \n",
       "2                False                   NaN        9140   \n",
       "3                False                   NaN        9031   \n",
       "4                False                   NaN        9339   \n",
       "...                ...                   ...         ...   \n",
       "188812           False  Permanent Collection        9089   \n",
       "188813           False                   NaN        9089   \n",
       "188814           False                   NaN        9089   \n",
       "188815           False                   NaN        9089   \n",
       "188816           False                   NaN        9089   \n",
       "\n",
       "       priceInfo.discountLabel  priceInfo.finalPrice  priceInfo.initialPrice  \\\n",
       "0                          NaN                  1080                    1080   \n",
       "1                      20% Off                   392                     490   \n",
       "2                          NaN                  1245                    1245   \n",
       "3                      20% Off                   308                     385   \n",
       "4                          NaN                  1248                    1248   \n",
       "...                        ...                   ...                     ...   \n",
       "188812                     NaN                   207                     207   \n",
       "188813                     NaN                   207                     207   \n",
       "188814                     NaN                   207                     207   \n",
       "188815                     NaN                   207                     207   \n",
       "188816                     NaN                   207                     207   \n",
       "\n",
       "        priceInfo.isOnSale                shortDescription  stockTotal  \\\n",
       "0                    False       logo print strap sandals          130   \n",
       "1                     True          embroidered midi dress          14   \n",
       "2                    False  FendiMania sock style sneakers          68   \n",
       "3                     True                  top zip wallet           1   \n",
       "4                    False              slingback 65 pumps          78   \n",
       "...                    ...                             ...         ...   \n",
       "188812               False                face print plate           6   \n",
       "188813               False                boss print plate           2   \n",
       "188814               False                face print plate           2   \n",
       "188815               False             whisker print plate          10   \n",
       "188816               False                face print plate           3   \n",
       "\n",
       "        n_sizes  \n",
       "0             0  \n",
       "1             6  \n",
       "2             0  \n",
       "3             1  \n",
       "4             0  \n",
       "...         ...  \n",
       "188812        1  \n",
       "188813        1  \n",
       "188814        1  \n",
       "188815        1  \n",
       "188816        1  \n",
       "\n",
       "[188817 rows x 15 columns]"
      ]
     },
     "execution_count": 35,
     "metadata": {},
     "output_type": "execute_result"
    }
   ],
   "source": [
    "farfetch"
   ]
  },
  {
   "cell_type": "markdown",
   "metadata": {},
   "source": [
    "#### Generation of worldcloud on wikipedia to see farfetch key words \n",
    "- relate what type of words are associate with the e-commerce company Farfetch"
   ]
  },
  {
   "cell_type": "code",
   "execution_count": 36,
   "metadata": {},
   "outputs": [
    {
     "ename": "NameError",
     "evalue": "name 'wikipedia' is not defined",
     "output_type": "error",
     "traceback": [
      "\u001b[1;31m---------------------------------------------------------------------------\u001b[0m",
      "\u001b[1;31mNameError\u001b[0m                                 Traceback (most recent call last)",
      "\u001b[1;32m~\\AppData\\Local\\Temp/ipykernel_19576/2247245804.py\u001b[0m in \u001b[0;36m<module>\u001b[1;34m\u001b[0m\n\u001b[1;32m----> 1\u001b[1;33m \u001b[0mdf1\u001b[0m \u001b[1;33m=\u001b[0m \u001b[0mwikipedia\u001b[0m\u001b[1;33m.\u001b[0m\u001b[0mpage\u001b[0m\u001b[1;33m(\u001b[0m\u001b[1;34m'Farfetch'\u001b[0m\u001b[1;33m)\u001b[0m\u001b[1;33m\u001b[0m\u001b[1;33m\u001b[0m\u001b[0m\n\u001b[0m\u001b[0;32m      2\u001b[0m \u001b[0mdf1_content\u001b[0m \u001b[1;33m=\u001b[0m \u001b[0mdf1\u001b[0m\u001b[1;33m.\u001b[0m\u001b[0mcontent\u001b[0m\u001b[1;33m\u001b[0m\u001b[1;33m\u001b[0m\u001b[0m\n",
      "\u001b[1;31mNameError\u001b[0m: name 'wikipedia' is not defined"
     ]
    }
   ],
   "source": [
    "df1 = wikipedia.page('Farfetch')\n",
    "df1_content = df1.content"
   ]
  },
  {
   "cell_type": "code",
   "execution_count": 37,
   "metadata": {},
   "outputs": [
    {
     "ename": "NameError",
     "evalue": "name 'WordCloud' is not defined",
     "output_type": "error",
     "traceback": [
      "\u001b[1;31m---------------------------------------------------------------------------\u001b[0m",
      "\u001b[1;31mNameError\u001b[0m                                 Traceback (most recent call last)",
      "\u001b[1;32m~\\AppData\\Local\\Temp/ipykernel_19576/1035237253.py\u001b[0m in \u001b[0;36m<module>\u001b[1;34m\u001b[0m\n\u001b[0;32m      1\u001b[0m \u001b[0mplt\u001b[0m\u001b[1;33m.\u001b[0m\u001b[0mfigure\u001b[0m\u001b[1;33m(\u001b[0m\u001b[0mfigsize\u001b[0m \u001b[1;33m=\u001b[0m \u001b[1;33m(\u001b[0m\u001b[1;36m20\u001b[0m\u001b[1;33m,\u001b[0m\u001b[1;36m20\u001b[0m\u001b[1;33m)\u001b[0m\u001b[1;33m)\u001b[0m\u001b[1;33m\u001b[0m\u001b[1;33m\u001b[0m\u001b[0m\n\u001b[1;32m----> 2\u001b[1;33m \u001b[0mwc\u001b[0m \u001b[1;33m=\u001b[0m \u001b[0mWordCloud\u001b[0m\u001b[1;33m(\u001b[0m\u001b[0mmax_words\u001b[0m \u001b[1;33m=\u001b[0m \u001b[1;36m300\u001b[0m \u001b[1;33m,\u001b[0m \u001b[0mwidth\u001b[0m \u001b[1;33m=\u001b[0m \u001b[1;36m1200\u001b[0m \u001b[1;33m,\u001b[0m \u001b[0mheight\u001b[0m \u001b[1;33m=\u001b[0m \u001b[1;36m600\u001b[0m \u001b[1;33m,\u001b[0m \u001b[0mbackground_color\u001b[0m \u001b[1;33m=\u001b[0m\u001b[1;34m'white'\u001b[0m\u001b[1;33m,\u001b[0m\u001b[0mstopwords\u001b[0m \u001b[1;33m=\u001b[0m \u001b[0mSTOPWORDS\u001b[0m\u001b[1;33m)\u001b[0m\u001b[1;33m\u001b[0m\u001b[1;33m\u001b[0m\u001b[0m\n\u001b[0m\u001b[0;32m      3\u001b[0m \u001b[0mwc\u001b[0m\u001b[1;33m.\u001b[0m\u001b[0mgenerate\u001b[0m\u001b[1;33m(\u001b[0m\u001b[0mdf1_content\u001b[0m\u001b[1;33m)\u001b[0m \u001b[1;31m# Generating WordCloud\u001b[0m\u001b[1;33m\u001b[0m\u001b[1;33m\u001b[0m\u001b[0m\n\u001b[0;32m      4\u001b[0m \u001b[0mplt\u001b[0m\u001b[1;33m.\u001b[0m\u001b[0mimshow\u001b[0m\u001b[1;33m(\u001b[0m\u001b[0mwc\u001b[0m \u001b[1;33m,\u001b[0m \u001b[0minterpolation\u001b[0m \u001b[1;33m=\u001b[0m \u001b[1;34m'bilinear'\u001b[0m\u001b[1;33m)\u001b[0m\u001b[1;33m\u001b[0m\u001b[1;33m\u001b[0m\u001b[0m\n",
      "\u001b[1;31mNameError\u001b[0m: name 'WordCloud' is not defined"
     ]
    },
    {
     "data": {
      "text/plain": [
       "<Figure size 1440x1440 with 0 Axes>"
      ]
     },
     "metadata": {},
     "output_type": "display_data"
    }
   ],
   "source": [
    "plt.figure(figsize = (20,20)) \n",
    "wc = WordCloud(max_words = 300 , width = 1200 , height = 600 , background_color ='white',stopwords = STOPWORDS)\n",
    "wc.generate(df1_content) # Generating WordCloud\n",
    "plt.imshow(wc , interpolation = 'bilinear')"
   ]
  },
  {
   "cell_type": "markdown",
   "metadata": {},
   "source": [
    "#### Check NaN values per column."
   ]
  },
  {
   "cell_type": "code",
   "execution_count": 38,
   "metadata": {},
   "outputs": [
    {
     "data": {
      "text/html": [
       "<div>\n",
       "<style scoped>\n",
       "    .dataframe tbody tr th:only-of-type {\n",
       "        vertical-align: middle;\n",
       "    }\n",
       "\n",
       "    .dataframe tbody tr th {\n",
       "        vertical-align: top;\n",
       "    }\n",
       "\n",
       "    .dataframe thead th {\n",
       "        text-align: right;\n",
       "    }\n",
       "</style>\n",
       "<table border=\"1\" class=\"dataframe\">\n",
       "  <thead>\n",
       "    <tr style=\"text-align: right;\">\n",
       "      <th></th>\n",
       "      <th>column_name</th>\n",
       "      <th>Percentage Null Values</th>\n",
       "    </tr>\n",
       "  </thead>\n",
       "  <tbody>\n",
       "    <tr>\n",
       "      <th>6</th>\n",
       "      <td>merchandiseLabel</td>\n",
       "      <td>0.701081</td>\n",
       "    </tr>\n",
       "    <tr>\n",
       "      <th>8</th>\n",
       "      <td>priceInfo.discountLabel</td>\n",
       "      <td>0.638343</td>\n",
       "    </tr>\n",
       "    <tr>\n",
       "      <th>0</th>\n",
       "      <td>brand.id</td>\n",
       "      <td>0.000000</td>\n",
       "    </tr>\n",
       "    <tr>\n",
       "      <th>1</th>\n",
       "      <td>brand.name</td>\n",
       "      <td>0.000000</td>\n",
       "    </tr>\n",
       "    <tr>\n",
       "      <th>2</th>\n",
       "      <td>gender</td>\n",
       "      <td>0.000000</td>\n",
       "    </tr>\n",
       "    <tr>\n",
       "      <th>3</th>\n",
       "      <td>hasSimilarProducts</td>\n",
       "      <td>0.000000</td>\n",
       "    </tr>\n",
       "    <tr>\n",
       "      <th>4</th>\n",
       "      <td>id</td>\n",
       "      <td>0.000000</td>\n",
       "    </tr>\n",
       "    <tr>\n",
       "      <th>5</th>\n",
       "      <td>isCustomizable</td>\n",
       "      <td>0.000000</td>\n",
       "    </tr>\n",
       "    <tr>\n",
       "      <th>7</th>\n",
       "      <td>merchantId</td>\n",
       "      <td>0.000000</td>\n",
       "    </tr>\n",
       "    <tr>\n",
       "      <th>9</th>\n",
       "      <td>priceInfo.finalPrice</td>\n",
       "      <td>0.000000</td>\n",
       "    </tr>\n",
       "    <tr>\n",
       "      <th>10</th>\n",
       "      <td>priceInfo.initialPrice</td>\n",
       "      <td>0.000000</td>\n",
       "    </tr>\n",
       "    <tr>\n",
       "      <th>11</th>\n",
       "      <td>priceInfo.isOnSale</td>\n",
       "      <td>0.000000</td>\n",
       "    </tr>\n",
       "    <tr>\n",
       "      <th>12</th>\n",
       "      <td>shortDescription</td>\n",
       "      <td>0.000000</td>\n",
       "    </tr>\n",
       "    <tr>\n",
       "      <th>13</th>\n",
       "      <td>stockTotal</td>\n",
       "      <td>0.000000</td>\n",
       "    </tr>\n",
       "    <tr>\n",
       "      <th>14</th>\n",
       "      <td>n_sizes</td>\n",
       "      <td>0.000000</td>\n",
       "    </tr>\n",
       "  </tbody>\n",
       "</table>\n",
       "</div>"
      ],
      "text/plain": [
       "                column_name  Percentage Null Values\n",
       "6          merchandiseLabel                0.701081\n",
       "8   priceInfo.discountLabel                0.638343\n",
       "0                  brand.id                0.000000\n",
       "1                brand.name                0.000000\n",
       "2                    gender                0.000000\n",
       "3        hasSimilarProducts                0.000000\n",
       "4                        id                0.000000\n",
       "5            isCustomizable                0.000000\n",
       "7                merchantId                0.000000\n",
       "9      priceInfo.finalPrice                0.000000\n",
       "10   priceInfo.initialPrice                0.000000\n",
       "11       priceInfo.isOnSale                0.000000\n",
       "12         shortDescription                0.000000\n",
       "13               stockTotal                0.000000\n",
       "14                  n_sizes                0.000000"
      ]
     },
     "execution_count": 38,
     "metadata": {},
     "output_type": "execute_result"
    }
   ],
   "source": [
    "nulls = pd.DataFrame(farfetch.isna().sum()/len(farfetch))\n",
    "nulls= nulls.reset_index()\n",
    "nulls.columns = ['column_name', 'Percentage Null Values']\n",
    "nulls.sort_values(by='Percentage Null Values', ascending = False)"
   ]
  },
  {
   "cell_type": "code",
   "execution_count": 39,
   "metadata": {},
   "outputs": [
    {
     "data": {
      "text/plain": [
       "brand.id                        0\n",
       "brand.name                      0\n",
       "gender                          0\n",
       "hasSimilarProducts              0\n",
       "id                              0\n",
       "isCustomizable                  0\n",
       "merchandiseLabel           132376\n",
       "merchantId                      0\n",
       "priceInfo.discountLabel    120530\n",
       "priceInfo.finalPrice            0\n",
       "priceInfo.initialPrice          0\n",
       "priceInfo.isOnSale              0\n",
       "shortDescription                0\n",
       "stockTotal                      0\n",
       "n_sizes                         0\n",
       "dtype: int64"
      ]
     },
     "execution_count": 39,
     "metadata": {},
     "output_type": "execute_result"
    }
   ],
   "source": [
    "farfetch.isna().sum()"
   ]
  },
  {
   "cell_type": "markdown",
   "metadata": {},
   "source": [
    "#### Fill NaNs from merchandise label and price discount label"
   ]
  },
  {
   "cell_type": "code",
   "execution_count": 40,
   "metadata": {},
   "outputs": [],
   "source": [
    "farfetch['merchandiseLabel'] = farfetch['merchandiseLabel'].fillna(\"NoTag\")"
   ]
  },
  {
   "cell_type": "code",
   "execution_count": 41,
   "metadata": {},
   "outputs": [],
   "source": [
    "farfetch['priceInfo.discountLabel'] = farfetch.apply(lambda row: str(int(100-(row['priceInfo.finalPrice']/row['priceInfo.initialPrice'])*100)) + \"% Off\", axis=1)"
   ]
  },
  {
   "cell_type": "code",
   "execution_count": 42,
   "metadata": {},
   "outputs": [
    {
     "data": {
      "text/plain": [
       "0% Off     119540\n",
       "50% Off      8808\n",
       "29% Off      8208\n",
       "49% Off      7212\n",
       "40% Off      6632\n",
       "            ...  \n",
       "89% Off         2\n",
       "3% Off          1\n",
       "67% Off         1\n",
       "56% Off         1\n",
       "66% Off         1\n",
       "Name: priceInfo.discountLabel, Length: 71, dtype: int64"
      ]
     },
     "execution_count": 42,
     "metadata": {},
     "output_type": "execute_result"
    }
   ],
   "source": [
    "farfetch['priceInfo.discountLabel'].value_counts()"
   ]
  },
  {
   "cell_type": "code",
   "execution_count": 43,
   "metadata": {},
   "outputs": [
    {
     "data": {
      "text/plain": [
       "brand.id                   0\n",
       "brand.name                 0\n",
       "gender                     0\n",
       "hasSimilarProducts         0\n",
       "id                         0\n",
       "isCustomizable             0\n",
       "merchandiseLabel           0\n",
       "merchantId                 0\n",
       "priceInfo.discountLabel    0\n",
       "priceInfo.finalPrice       0\n",
       "priceInfo.initialPrice     0\n",
       "priceInfo.isOnSale         0\n",
       "shortDescription           0\n",
       "stockTotal                 0\n",
       "n_sizes                    0\n",
       "dtype: int64"
      ]
     },
     "execution_count": 43,
     "metadata": {},
     "output_type": "execute_result"
    }
   ],
   "source": [
    "farfetch.isna().sum()\n",
    "\n",
    "#double check nan"
   ]
  },
  {
   "cell_type": "markdown",
   "metadata": {},
   "source": [
    "#### Rename the columns so they follow the PE8 (snake case)"
   ]
  },
  {
   "cell_type": "code",
   "execution_count": 44,
   "metadata": {},
   "outputs": [
    {
     "name": "stderr",
     "output_type": "stream",
     "text": [
      "C:\\Users\\parag\\AppData\\Local\\Temp/ipykernel_19576/2567237223.py:2: FutureWarning: The default value of regex will change from True to False in a future version. In addition, single character regular expressions will *not* be treated as literal strings when regex=True.\n",
      "  farfetch.columns = farfetch.columns.str.replace('.','_')\n"
     ]
    }
   ],
   "source": [
    "farfetch.columns = map(str.lower, farfetch.columns)\n",
    "farfetch.columns = farfetch.columns.str.replace('.','_')"
   ]
  },
  {
   "cell_type": "code",
   "execution_count": 45,
   "metadata": {},
   "outputs": [],
   "source": [
    "# rename column names\n",
    "\n",
    "farfetch.rename(columns={'brand_id':'brand_id', 'brand_name':'brand_name', 'gender':'gender', 'hassimilarproducts':'similar_products', 'id':'id',\n",
    "       'iscustomizable':'customizable', 'merchandiselabel':'merchandise_label', 'merchantid':'merchant_id',\n",
    "       'priceinfo_discountlabel':'discount_label', 'priceinfo_finalprice':'final_price',\n",
    "       'priceinfo_initialprice':'initial_price', 'priceinfo_isonsale':'on_sale', 'shortdescription':'short_description',\n",
    "       'stocktotal':'stock_total', 'n_sizes':'sizes'}, inplace=True)"
   ]
  },
  {
   "cell_type": "code",
   "execution_count": 46,
   "metadata": {},
   "outputs": [
    {
     "data": {
      "text/html": [
       "<div>\n",
       "<style scoped>\n",
       "    .dataframe tbody tr th:only-of-type {\n",
       "        vertical-align: middle;\n",
       "    }\n",
       "\n",
       "    .dataframe tbody tr th {\n",
       "        vertical-align: top;\n",
       "    }\n",
       "\n",
       "    .dataframe thead th {\n",
       "        text-align: right;\n",
       "    }\n",
       "</style>\n",
       "<table border=\"1\" class=\"dataframe\">\n",
       "  <thead>\n",
       "    <tr style=\"text-align: right;\">\n",
       "      <th></th>\n",
       "      <th>brand_id</th>\n",
       "      <th>brand_name</th>\n",
       "      <th>gender</th>\n",
       "      <th>similar_products</th>\n",
       "      <th>id</th>\n",
       "      <th>customizable</th>\n",
       "      <th>merchandise_label</th>\n",
       "      <th>merchant_id</th>\n",
       "      <th>discount_label</th>\n",
       "      <th>final_price</th>\n",
       "      <th>initial_price</th>\n",
       "      <th>on_sale</th>\n",
       "      <th>short_description</th>\n",
       "      <th>stock_total</th>\n",
       "      <th>sizes</th>\n",
       "    </tr>\n",
       "  </thead>\n",
       "  <tbody>\n",
       "    <tr>\n",
       "      <th>0</th>\n",
       "      <td>8360</td>\n",
       "      <td>Miu Miu</td>\n",
       "      <td>women</td>\n",
       "      <td>True</td>\n",
       "      <td>13415450</td>\n",
       "      <td>False</td>\n",
       "      <td>NoTag</td>\n",
       "      <td>9359</td>\n",
       "      <td>0% Off</td>\n",
       "      <td>1080</td>\n",
       "      <td>1080</td>\n",
       "      <td>False</td>\n",
       "      <td>logo print strap sandals</td>\n",
       "      <td>130</td>\n",
       "      <td>0</td>\n",
       "    </tr>\n",
       "    <tr>\n",
       "      <th>1</th>\n",
       "      <td>2049368</td>\n",
       "      <td>Self-Portrait</td>\n",
       "      <td>women</td>\n",
       "      <td>True</td>\n",
       "      <td>13784566</td>\n",
       "      <td>False</td>\n",
       "      <td>NoTag</td>\n",
       "      <td>9319</td>\n",
       "      <td>20% Off</td>\n",
       "      <td>392</td>\n",
       "      <td>490</td>\n",
       "      <td>True</td>\n",
       "      <td>embroidered midi dress</td>\n",
       "      <td>14</td>\n",
       "      <td>6</td>\n",
       "    </tr>\n",
       "    <tr>\n",
       "      <th>2</th>\n",
       "      <td>15514</td>\n",
       "      <td>Fendi</td>\n",
       "      <td>women</td>\n",
       "      <td>True</td>\n",
       "      <td>13377441</td>\n",
       "      <td>False</td>\n",
       "      <td>NoTag</td>\n",
       "      <td>9140</td>\n",
       "      <td>0% Off</td>\n",
       "      <td>1245</td>\n",
       "      <td>1245</td>\n",
       "      <td>False</td>\n",
       "      <td>FendiMania sock style sneakers</td>\n",
       "      <td>68</td>\n",
       "      <td>0</td>\n",
       "    </tr>\n",
       "    <tr>\n",
       "      <th>3</th>\n",
       "      <td>49486</td>\n",
       "      <td>A.P.C.</td>\n",
       "      <td>women</td>\n",
       "      <td>False</td>\n",
       "      <td>13744082</td>\n",
       "      <td>False</td>\n",
       "      <td>NoTag</td>\n",
       "      <td>9031</td>\n",
       "      <td>20% Off</td>\n",
       "      <td>308</td>\n",
       "      <td>385</td>\n",
       "      <td>True</td>\n",
       "      <td>top zip wallet</td>\n",
       "      <td>1</td>\n",
       "      <td>1</td>\n",
       "    </tr>\n",
       "    <tr>\n",
       "      <th>4</th>\n",
       "      <td>34624</td>\n",
       "      <td>Prada</td>\n",
       "      <td>women</td>\n",
       "      <td>True</td>\n",
       "      <td>13668256</td>\n",
       "      <td>False</td>\n",
       "      <td>NoTag</td>\n",
       "      <td>9339</td>\n",
       "      <td>0% Off</td>\n",
       "      <td>1248</td>\n",
       "      <td>1248</td>\n",
       "      <td>False</td>\n",
       "      <td>slingback 65 pumps</td>\n",
       "      <td>78</td>\n",
       "      <td>0</td>\n",
       "    </tr>\n",
       "    <tr>\n",
       "      <th>...</th>\n",
       "      <td>...</td>\n",
       "      <td>...</td>\n",
       "      <td>...</td>\n",
       "      <td>...</td>\n",
       "      <td>...</td>\n",
       "      <td>...</td>\n",
       "      <td>...</td>\n",
       "      <td>...</td>\n",
       "      <td>...</td>\n",
       "      <td>...</td>\n",
       "      <td>...</td>\n",
       "      <td>...</td>\n",
       "      <td>...</td>\n",
       "      <td>...</td>\n",
       "      <td>...</td>\n",
       "    </tr>\n",
       "    <tr>\n",
       "      <th>188812</th>\n",
       "      <td>59394</td>\n",
       "      <td>Fornasetti</td>\n",
       "      <td>unisex</td>\n",
       "      <td>False</td>\n",
       "      <td>10047577</td>\n",
       "      <td>False</td>\n",
       "      <td>Permanent Collection</td>\n",
       "      <td>9089</td>\n",
       "      <td>0% Off</td>\n",
       "      <td>207</td>\n",
       "      <td>207</td>\n",
       "      <td>False</td>\n",
       "      <td>face print plate</td>\n",
       "      <td>6</td>\n",
       "      <td>1</td>\n",
       "    </tr>\n",
       "    <tr>\n",
       "      <th>188813</th>\n",
       "      <td>59394</td>\n",
       "      <td>Fornasetti</td>\n",
       "      <td>unisex</td>\n",
       "      <td>False</td>\n",
       "      <td>10047571</td>\n",
       "      <td>False</td>\n",
       "      <td>NoTag</td>\n",
       "      <td>9089</td>\n",
       "      <td>0% Off</td>\n",
       "      <td>207</td>\n",
       "      <td>207</td>\n",
       "      <td>False</td>\n",
       "      <td>boss print plate</td>\n",
       "      <td>2</td>\n",
       "      <td>1</td>\n",
       "    </tr>\n",
       "    <tr>\n",
       "      <th>188814</th>\n",
       "      <td>59394</td>\n",
       "      <td>Fornasetti</td>\n",
       "      <td>unisex</td>\n",
       "      <td>False</td>\n",
       "      <td>10047569</td>\n",
       "      <td>False</td>\n",
       "      <td>NoTag</td>\n",
       "      <td>9089</td>\n",
       "      <td>0% Off</td>\n",
       "      <td>207</td>\n",
       "      <td>207</td>\n",
       "      <td>False</td>\n",
       "      <td>face print plate</td>\n",
       "      <td>2</td>\n",
       "      <td>1</td>\n",
       "    </tr>\n",
       "    <tr>\n",
       "      <th>188815</th>\n",
       "      <td>59394</td>\n",
       "      <td>Fornasetti</td>\n",
       "      <td>unisex</td>\n",
       "      <td>False</td>\n",
       "      <td>10047567</td>\n",
       "      <td>False</td>\n",
       "      <td>NoTag</td>\n",
       "      <td>9089</td>\n",
       "      <td>0% Off</td>\n",
       "      <td>207</td>\n",
       "      <td>207</td>\n",
       "      <td>False</td>\n",
       "      <td>whisker print plate</td>\n",
       "      <td>10</td>\n",
       "      <td>1</td>\n",
       "    </tr>\n",
       "    <tr>\n",
       "      <th>188816</th>\n",
       "      <td>59394</td>\n",
       "      <td>Fornasetti</td>\n",
       "      <td>unisex</td>\n",
       "      <td>False</td>\n",
       "      <td>10047563</td>\n",
       "      <td>False</td>\n",
       "      <td>NoTag</td>\n",
       "      <td>9089</td>\n",
       "      <td>0% Off</td>\n",
       "      <td>207</td>\n",
       "      <td>207</td>\n",
       "      <td>False</td>\n",
       "      <td>face print plate</td>\n",
       "      <td>3</td>\n",
       "      <td>1</td>\n",
       "    </tr>\n",
       "  </tbody>\n",
       "</table>\n",
       "<p>188817 rows × 15 columns</p>\n",
       "</div>"
      ],
      "text/plain": [
       "        brand_id     brand_name  gender  similar_products        id  \\\n",
       "0           8360        Miu Miu   women              True  13415450   \n",
       "1        2049368  Self-Portrait   women              True  13784566   \n",
       "2          15514          Fendi   women              True  13377441   \n",
       "3          49486         A.P.C.   women             False  13744082   \n",
       "4          34624          Prada   women              True  13668256   \n",
       "...          ...            ...     ...               ...       ...   \n",
       "188812     59394     Fornasetti  unisex             False  10047577   \n",
       "188813     59394     Fornasetti  unisex             False  10047571   \n",
       "188814     59394     Fornasetti  unisex             False  10047569   \n",
       "188815     59394     Fornasetti  unisex             False  10047567   \n",
       "188816     59394     Fornasetti  unisex             False  10047563   \n",
       "\n",
       "        customizable     merchandise_label  merchant_id discount_label  \\\n",
       "0              False                 NoTag         9359         0% Off   \n",
       "1              False                 NoTag         9319        20% Off   \n",
       "2              False                 NoTag         9140         0% Off   \n",
       "3              False                 NoTag         9031        20% Off   \n",
       "4              False                 NoTag         9339         0% Off   \n",
       "...              ...                   ...          ...            ...   \n",
       "188812         False  Permanent Collection         9089         0% Off   \n",
       "188813         False                 NoTag         9089         0% Off   \n",
       "188814         False                 NoTag         9089         0% Off   \n",
       "188815         False                 NoTag         9089         0% Off   \n",
       "188816         False                 NoTag         9089         0% Off   \n",
       "\n",
       "        final_price  initial_price  on_sale               short_description  \\\n",
       "0              1080           1080    False       logo print strap sandals    \n",
       "1               392            490     True          embroidered midi dress   \n",
       "2              1245           1245    False  FendiMania sock style sneakers   \n",
       "3               308            385     True                  top zip wallet   \n",
       "4              1248           1248    False              slingback 65 pumps   \n",
       "...             ...            ...      ...                             ...   \n",
       "188812          207            207    False                face print plate   \n",
       "188813          207            207    False                boss print plate   \n",
       "188814          207            207    False                face print plate   \n",
       "188815          207            207    False             whisker print plate   \n",
       "188816          207            207    False                face print plate   \n",
       "\n",
       "        stock_total  sizes  \n",
       "0               130      0  \n",
       "1                14      6  \n",
       "2                68      0  \n",
       "3                 1      1  \n",
       "4                78      0  \n",
       "...             ...    ...  \n",
       "188812            6      1  \n",
       "188813            2      1  \n",
       "188814            2      1  \n",
       "188815           10      1  \n",
       "188816            3      1  \n",
       "\n",
       "[188817 rows x 15 columns]"
      ]
     },
     "execution_count": 46,
     "metadata": {},
     "output_type": "execute_result"
    }
   ],
   "source": [
    "farfetch"
   ]
  },
  {
   "cell_type": "markdown",
   "metadata": {},
   "source": [
    "#### Dropping extra columns as they have irrelevant value for the dataframe or are duplicated"
   ]
  },
  {
   "cell_type": "code",
   "execution_count": 47,
   "metadata": {},
   "outputs": [
    {
     "data": {
      "text/html": [
       "<div>\n",
       "<style scoped>\n",
       "    .dataframe tbody tr th:only-of-type {\n",
       "        vertical-align: middle;\n",
       "    }\n",
       "\n",
       "    .dataframe tbody tr th {\n",
       "        vertical-align: top;\n",
       "    }\n",
       "\n",
       "    .dataframe thead th {\n",
       "        text-align: right;\n",
       "    }\n",
       "</style>\n",
       "<table border=\"1\" class=\"dataframe\">\n",
       "  <thead>\n",
       "    <tr style=\"text-align: right;\">\n",
       "      <th></th>\n",
       "      <th>brand_id</th>\n",
       "      <th>gender</th>\n",
       "      <th>similar_products</th>\n",
       "      <th>merchandise_label</th>\n",
       "      <th>merchant_id</th>\n",
       "      <th>discount_label</th>\n",
       "      <th>initial_price</th>\n",
       "      <th>on_sale</th>\n",
       "      <th>short_description</th>\n",
       "      <th>stock_total</th>\n",
       "      <th>sizes</th>\n",
       "    </tr>\n",
       "  </thead>\n",
       "  <tbody>\n",
       "    <tr>\n",
       "      <th>0</th>\n",
       "      <td>8360</td>\n",
       "      <td>women</td>\n",
       "      <td>True</td>\n",
       "      <td>NoTag</td>\n",
       "      <td>9359</td>\n",
       "      <td>0% Off</td>\n",
       "      <td>1080</td>\n",
       "      <td>False</td>\n",
       "      <td>logo print strap sandals</td>\n",
       "      <td>130</td>\n",
       "      <td>0</td>\n",
       "    </tr>\n",
       "    <tr>\n",
       "      <th>1</th>\n",
       "      <td>2049368</td>\n",
       "      <td>women</td>\n",
       "      <td>True</td>\n",
       "      <td>NoTag</td>\n",
       "      <td>9319</td>\n",
       "      <td>20% Off</td>\n",
       "      <td>490</td>\n",
       "      <td>True</td>\n",
       "      <td>embroidered midi dress</td>\n",
       "      <td>14</td>\n",
       "      <td>6</td>\n",
       "    </tr>\n",
       "    <tr>\n",
       "      <th>2</th>\n",
       "      <td>15514</td>\n",
       "      <td>women</td>\n",
       "      <td>True</td>\n",
       "      <td>NoTag</td>\n",
       "      <td>9140</td>\n",
       "      <td>0% Off</td>\n",
       "      <td>1245</td>\n",
       "      <td>False</td>\n",
       "      <td>FendiMania sock style sneakers</td>\n",
       "      <td>68</td>\n",
       "      <td>0</td>\n",
       "    </tr>\n",
       "    <tr>\n",
       "      <th>3</th>\n",
       "      <td>49486</td>\n",
       "      <td>women</td>\n",
       "      <td>False</td>\n",
       "      <td>NoTag</td>\n",
       "      <td>9031</td>\n",
       "      <td>20% Off</td>\n",
       "      <td>385</td>\n",
       "      <td>True</td>\n",
       "      <td>top zip wallet</td>\n",
       "      <td>1</td>\n",
       "      <td>1</td>\n",
       "    </tr>\n",
       "    <tr>\n",
       "      <th>4</th>\n",
       "      <td>34624</td>\n",
       "      <td>women</td>\n",
       "      <td>True</td>\n",
       "      <td>NoTag</td>\n",
       "      <td>9339</td>\n",
       "      <td>0% Off</td>\n",
       "      <td>1248</td>\n",
       "      <td>False</td>\n",
       "      <td>slingback 65 pumps</td>\n",
       "      <td>78</td>\n",
       "      <td>0</td>\n",
       "    </tr>\n",
       "    <tr>\n",
       "      <th>...</th>\n",
       "      <td>...</td>\n",
       "      <td>...</td>\n",
       "      <td>...</td>\n",
       "      <td>...</td>\n",
       "      <td>...</td>\n",
       "      <td>...</td>\n",
       "      <td>...</td>\n",
       "      <td>...</td>\n",
       "      <td>...</td>\n",
       "      <td>...</td>\n",
       "      <td>...</td>\n",
       "    </tr>\n",
       "    <tr>\n",
       "      <th>188812</th>\n",
       "      <td>59394</td>\n",
       "      <td>unisex</td>\n",
       "      <td>False</td>\n",
       "      <td>Permanent Collection</td>\n",
       "      <td>9089</td>\n",
       "      <td>0% Off</td>\n",
       "      <td>207</td>\n",
       "      <td>False</td>\n",
       "      <td>face print plate</td>\n",
       "      <td>6</td>\n",
       "      <td>1</td>\n",
       "    </tr>\n",
       "    <tr>\n",
       "      <th>188813</th>\n",
       "      <td>59394</td>\n",
       "      <td>unisex</td>\n",
       "      <td>False</td>\n",
       "      <td>NoTag</td>\n",
       "      <td>9089</td>\n",
       "      <td>0% Off</td>\n",
       "      <td>207</td>\n",
       "      <td>False</td>\n",
       "      <td>boss print plate</td>\n",
       "      <td>2</td>\n",
       "      <td>1</td>\n",
       "    </tr>\n",
       "    <tr>\n",
       "      <th>188814</th>\n",
       "      <td>59394</td>\n",
       "      <td>unisex</td>\n",
       "      <td>False</td>\n",
       "      <td>NoTag</td>\n",
       "      <td>9089</td>\n",
       "      <td>0% Off</td>\n",
       "      <td>207</td>\n",
       "      <td>False</td>\n",
       "      <td>face print plate</td>\n",
       "      <td>2</td>\n",
       "      <td>1</td>\n",
       "    </tr>\n",
       "    <tr>\n",
       "      <th>188815</th>\n",
       "      <td>59394</td>\n",
       "      <td>unisex</td>\n",
       "      <td>False</td>\n",
       "      <td>NoTag</td>\n",
       "      <td>9089</td>\n",
       "      <td>0% Off</td>\n",
       "      <td>207</td>\n",
       "      <td>False</td>\n",
       "      <td>whisker print plate</td>\n",
       "      <td>10</td>\n",
       "      <td>1</td>\n",
       "    </tr>\n",
       "    <tr>\n",
       "      <th>188816</th>\n",
       "      <td>59394</td>\n",
       "      <td>unisex</td>\n",
       "      <td>False</td>\n",
       "      <td>NoTag</td>\n",
       "      <td>9089</td>\n",
       "      <td>0% Off</td>\n",
       "      <td>207</td>\n",
       "      <td>False</td>\n",
       "      <td>face print plate</td>\n",
       "      <td>3</td>\n",
       "      <td>1</td>\n",
       "    </tr>\n",
       "  </tbody>\n",
       "</table>\n",
       "<p>188817 rows × 11 columns</p>\n",
       "</div>"
      ],
      "text/plain": [
       "        brand_id  gender  similar_products     merchandise_label  merchant_id  \\\n",
       "0           8360   women              True                 NoTag         9359   \n",
       "1        2049368   women              True                 NoTag         9319   \n",
       "2          15514   women              True                 NoTag         9140   \n",
       "3          49486   women             False                 NoTag         9031   \n",
       "4          34624   women              True                 NoTag         9339   \n",
       "...          ...     ...               ...                   ...          ...   \n",
       "188812     59394  unisex             False  Permanent Collection         9089   \n",
       "188813     59394  unisex             False                 NoTag         9089   \n",
       "188814     59394  unisex             False                 NoTag         9089   \n",
       "188815     59394  unisex             False                 NoTag         9089   \n",
       "188816     59394  unisex             False                 NoTag         9089   \n",
       "\n",
       "       discount_label  initial_price  on_sale               short_description  \\\n",
       "0              0% Off           1080    False       logo print strap sandals    \n",
       "1             20% Off            490     True          embroidered midi dress   \n",
       "2              0% Off           1245    False  FendiMania sock style sneakers   \n",
       "3             20% Off            385     True                  top zip wallet   \n",
       "4              0% Off           1248    False              slingback 65 pumps   \n",
       "...               ...            ...      ...                             ...   \n",
       "188812         0% Off            207    False                face print plate   \n",
       "188813         0% Off            207    False                boss print plate   \n",
       "188814         0% Off            207    False                face print plate   \n",
       "188815         0% Off            207    False             whisker print plate   \n",
       "188816         0% Off            207    False                face print plate   \n",
       "\n",
       "        stock_total  sizes  \n",
       "0               130      0  \n",
       "1                14      6  \n",
       "2                68      0  \n",
       "3                 1      1  \n",
       "4                78      0  \n",
       "...             ...    ...  \n",
       "188812            6      1  \n",
       "188813            2      1  \n",
       "188814            2      1  \n",
       "188815           10      1  \n",
       "188816            3      1  \n",
       "\n",
       "[188817 rows x 11 columns]"
      ]
     },
     "execution_count": 47,
     "metadata": {},
     "output_type": "execute_result"
    }
   ],
   "source": [
    "farfetch_1= farfetch.drop(['brand_name','id','customizable','final_price'],axis=1)\n",
    "farfetch_1"
   ]
  },
  {
   "cell_type": "code",
   "execution_count": 48,
   "metadata": {},
   "outputs": [
    {
     "data": {
      "text/html": [
       "<div>\n",
       "<style scoped>\n",
       "    .dataframe tbody tr th:only-of-type {\n",
       "        vertical-align: middle;\n",
       "    }\n",
       "\n",
       "    .dataframe tbody tr th {\n",
       "        vertical-align: top;\n",
       "    }\n",
       "\n",
       "    .dataframe thead th {\n",
       "        text-align: right;\n",
       "    }\n",
       "</style>\n",
       "<table border=\"1\" class=\"dataframe\">\n",
       "  <thead>\n",
       "    <tr style=\"text-align: right;\">\n",
       "      <th></th>\n",
       "      <th>brand_id</th>\n",
       "      <th>similar_products</th>\n",
       "      <th>merchant_id</th>\n",
       "      <th>initial_price</th>\n",
       "      <th>on_sale</th>\n",
       "      <th>stock_total</th>\n",
       "      <th>sizes</th>\n",
       "    </tr>\n",
       "  </thead>\n",
       "  <tbody>\n",
       "    <tr>\n",
       "      <th>brand_id</th>\n",
       "      <td>1.000000</td>\n",
       "      <td>-0.071575</td>\n",
       "      <td>0.110027</td>\n",
       "      <td>-0.064394</td>\n",
       "      <td>-0.020379</td>\n",
       "      <td>0.004206</td>\n",
       "      <td>0.041367</td>\n",
       "    </tr>\n",
       "    <tr>\n",
       "      <th>similar_products</th>\n",
       "      <td>-0.071575</td>\n",
       "      <td>1.000000</td>\n",
       "      <td>0.020928</td>\n",
       "      <td>-0.035469</td>\n",
       "      <td>0.303222</td>\n",
       "      <td>0.023277</td>\n",
       "      <td>0.255091</td>\n",
       "    </tr>\n",
       "    <tr>\n",
       "      <th>merchant_id</th>\n",
       "      <td>0.110027</td>\n",
       "      <td>0.020928</td>\n",
       "      <td>1.000000</td>\n",
       "      <td>0.002077</td>\n",
       "      <td>0.009533</td>\n",
       "      <td>0.000185</td>\n",
       "      <td>0.062902</td>\n",
       "    </tr>\n",
       "    <tr>\n",
       "      <th>initial_price</th>\n",
       "      <td>-0.064394</td>\n",
       "      <td>-0.035469</td>\n",
       "      <td>0.002077</td>\n",
       "      <td>1.000000</td>\n",
       "      <td>-0.069876</td>\n",
       "      <td>-0.001527</td>\n",
       "      <td>-0.015378</td>\n",
       "    </tr>\n",
       "    <tr>\n",
       "      <th>on_sale</th>\n",
       "      <td>-0.020379</td>\n",
       "      <td>0.303222</td>\n",
       "      <td>0.009533</td>\n",
       "      <td>-0.069876</td>\n",
       "      <td>1.000000</td>\n",
       "      <td>-0.031062</td>\n",
       "      <td>0.068680</td>\n",
       "    </tr>\n",
       "    <tr>\n",
       "      <th>stock_total</th>\n",
       "      <td>0.004206</td>\n",
       "      <td>0.023277</td>\n",
       "      <td>0.000185</td>\n",
       "      <td>-0.001527</td>\n",
       "      <td>-0.031062</td>\n",
       "      <td>1.000000</td>\n",
       "      <td>-0.030728</td>\n",
       "    </tr>\n",
       "    <tr>\n",
       "      <th>sizes</th>\n",
       "      <td>0.041367</td>\n",
       "      <td>0.255091</td>\n",
       "      <td>0.062902</td>\n",
       "      <td>-0.015378</td>\n",
       "      <td>0.068680</td>\n",
       "      <td>-0.030728</td>\n",
       "      <td>1.000000</td>\n",
       "    </tr>\n",
       "  </tbody>\n",
       "</table>\n",
       "</div>"
      ],
      "text/plain": [
       "                  brand_id  similar_products  merchant_id  initial_price  \\\n",
       "brand_id          1.000000         -0.071575     0.110027      -0.064394   \n",
       "similar_products -0.071575          1.000000     0.020928      -0.035469   \n",
       "merchant_id       0.110027          0.020928     1.000000       0.002077   \n",
       "initial_price    -0.064394         -0.035469     0.002077       1.000000   \n",
       "on_sale          -0.020379          0.303222     0.009533      -0.069876   \n",
       "stock_total       0.004206          0.023277     0.000185      -0.001527   \n",
       "sizes             0.041367          0.255091     0.062902      -0.015378   \n",
       "\n",
       "                   on_sale  stock_total     sizes  \n",
       "brand_id         -0.020379     0.004206  0.041367  \n",
       "similar_products  0.303222     0.023277  0.255091  \n",
       "merchant_id       0.009533     0.000185  0.062902  \n",
       "initial_price    -0.069876    -0.001527 -0.015378  \n",
       "on_sale           1.000000    -0.031062  0.068680  \n",
       "stock_total      -0.031062     1.000000 -0.030728  \n",
       "sizes             0.068680    -0.030728  1.000000  "
      ]
     },
     "execution_count": 48,
     "metadata": {},
     "output_type": "execute_result"
    }
   ],
   "source": [
    "# checking correlation for the numerical columns\n",
    "\n",
    "farfetch_1.corr()"
   ]
  },
  {
   "cell_type": "code",
   "execution_count": 49,
   "metadata": {},
   "outputs": [
    {
     "data": {
      "text/html": [
       "<div>\n",
       "<style scoped>\n",
       "    .dataframe tbody tr th:only-of-type {\n",
       "        vertical-align: middle;\n",
       "    }\n",
       "\n",
       "    .dataframe tbody tr th {\n",
       "        vertical-align: top;\n",
       "    }\n",
       "\n",
       "    .dataframe thead th {\n",
       "        text-align: right;\n",
       "    }\n",
       "</style>\n",
       "<table border=\"1\" class=\"dataframe\">\n",
       "  <thead>\n",
       "    <tr style=\"text-align: right;\">\n",
       "      <th></th>\n",
       "      <th>brand_id</th>\n",
       "      <th>merchant_id</th>\n",
       "      <th>initial_price</th>\n",
       "      <th>stock_total</th>\n",
       "      <th>sizes</th>\n",
       "    </tr>\n",
       "  </thead>\n",
       "  <tbody>\n",
       "    <tr>\n",
       "      <th>count</th>\n",
       "      <td>1.888170e+05</td>\n",
       "      <td>188817.000000</td>\n",
       "      <td>188817.000000</td>\n",
       "      <td>188817.000000</td>\n",
       "      <td>188817.000000</td>\n",
       "    </tr>\n",
       "    <tr>\n",
       "      <th>mean</th>\n",
       "      <td>1.227366e+06</td>\n",
       "      <td>10091.138753</td>\n",
       "      <td>1230.788859</td>\n",
       "      <td>27.833055</td>\n",
       "      <td>1.843388</td>\n",
       "    </tr>\n",
       "    <tr>\n",
       "      <th>std</th>\n",
       "      <td>2.194786e+06</td>\n",
       "      <td>838.257401</td>\n",
       "      <td>1984.018813</td>\n",
       "      <td>464.593973</td>\n",
       "      <td>1.566240</td>\n",
       "    </tr>\n",
       "    <tr>\n",
       "      <th>min</th>\n",
       "      <td>6.000000e+00</td>\n",
       "      <td>9003.000000</td>\n",
       "      <td>2.000000</td>\n",
       "      <td>0.000000</td>\n",
       "      <td>0.000000</td>\n",
       "    </tr>\n",
       "    <tr>\n",
       "      <th>25%</th>\n",
       "      <td>1.828600e+04</td>\n",
       "      <td>9449.000000</td>\n",
       "      <td>378.000000</td>\n",
       "      <td>1.000000</td>\n",
       "      <td>1.000000</td>\n",
       "    </tr>\n",
       "    <tr>\n",
       "      <th>50%</th>\n",
       "      <td>1.184510e+05</td>\n",
       "      <td>9843.000000</td>\n",
       "      <td>730.000000</td>\n",
       "      <td>4.000000</td>\n",
       "      <td>1.000000</td>\n",
       "    </tr>\n",
       "    <tr>\n",
       "      <th>75%</th>\n",
       "      <td>1.175963e+06</td>\n",
       "      <td>10600.000000</td>\n",
       "      <td>1360.000000</td>\n",
       "      <td>10.000000</td>\n",
       "      <td>3.000000</td>\n",
       "    </tr>\n",
       "    <tr>\n",
       "      <th>max</th>\n",
       "      <td>1.094619e+07</td>\n",
       "      <td>12418.000000</td>\n",
       "      <td>89724.000000</td>\n",
       "      <td>16987.000000</td>\n",
       "      <td>9.000000</td>\n",
       "    </tr>\n",
       "  </tbody>\n",
       "</table>\n",
       "</div>"
      ],
      "text/plain": [
       "           brand_id    merchant_id  initial_price    stock_total  \\\n",
       "count  1.888170e+05  188817.000000  188817.000000  188817.000000   \n",
       "mean   1.227366e+06   10091.138753    1230.788859      27.833055   \n",
       "std    2.194786e+06     838.257401    1984.018813     464.593973   \n",
       "min    6.000000e+00    9003.000000       2.000000       0.000000   \n",
       "25%    1.828600e+04    9449.000000     378.000000       1.000000   \n",
       "50%    1.184510e+05    9843.000000     730.000000       4.000000   \n",
       "75%    1.175963e+06   10600.000000    1360.000000      10.000000   \n",
       "max    1.094619e+07   12418.000000   89724.000000   16987.000000   \n",
       "\n",
       "               sizes  \n",
       "count  188817.000000  \n",
       "mean        1.843388  \n",
       "std         1.566240  \n",
       "min         0.000000  \n",
       "25%         1.000000  \n",
       "50%         1.000000  \n",
       "75%         3.000000  \n",
       "max         9.000000  "
      ]
     },
     "execution_count": 49,
     "metadata": {},
     "output_type": "execute_result"
    }
   ],
   "source": [
    "farfetch_1.describe()"
   ]
  },
  {
   "cell_type": "markdown",
   "metadata": {},
   "source": [
    "#### Checking numerical and categorical data in different plots for better visualization"
   ]
  },
  {
   "cell_type": "code",
   "execution_count": 50,
   "metadata": {},
   "outputs": [
    {
     "data": {
      "text/plain": [
       "<AxesSubplot:xlabel='on_sale', ylabel='count'>"
      ]
     },
     "execution_count": 50,
     "metadata": {},
     "output_type": "execute_result"
    },
    {
     "data": {
      "image/png": "[encoded data removed]",
      "text/plain": [
       "<Figure size 432x288 with 1 Axes>"
      ]
     },
     "metadata": {
      "needs_background": "light"
     },
     "output_type": "display_data"
    }
   ],
   "source": [
    "# Bar Plot if product is on sale or not, which is the target variable\n",
    "\n",
    "sns.countplot(x='on_sale', data=farfetch_1)"
   ]
  },
  {
   "cell_type": "code",
   "execution_count": 51,
   "metadata": {},
   "outputs": [
    {
     "ename": "TypeError",
     "evalue": "No loop matching the specified signature and casting was found for ufunc add",
     "output_type": "error",
     "traceback": [
      "\u001b[1;31m---------------------------------------------------------------------------\u001b[0m",
      "\u001b[1;31mTypeError\u001b[0m                                 Traceback (most recent call last)",
      "\u001b[1;32m~\\AppData\\Local\\Temp/ipykernel_19576/1148411157.py\u001b[0m in \u001b[0;36m<module>\u001b[1;34m\u001b[0m\n\u001b[0;32m      1\u001b[0m \u001b[1;31m# Paitplots on the relation between different numerical variables in the dataset\u001b[0m\u001b[1;33m\u001b[0m\u001b[1;33m\u001b[0m\u001b[0m\n\u001b[0;32m      2\u001b[0m \u001b[1;33m\u001b[0m\u001b[0m\n\u001b[1;32m----> 3\u001b[1;33m \u001b[0msns\u001b[0m\u001b[1;33m.\u001b[0m\u001b[0mpairplot\u001b[0m\u001b[1;33m(\u001b[0m\u001b[0mfarfetch_1\u001b[0m\u001b[1;33m,\u001b[0m \u001b[0mhue\u001b[0m\u001b[1;33m=\u001b[0m\u001b[1;34m'on_sale'\u001b[0m\u001b[1;33m)\u001b[0m\u001b[1;33m;\u001b[0m\u001b[1;33m\u001b[0m\u001b[1;33m\u001b[0m\u001b[0m\n\u001b[0m",
      "\u001b[1;32m~\\anaconda3\\lib\\site-packages\\seaborn\\_decorators.py\u001b[0m in \u001b[0;36minner_f\u001b[1;34m(*args, **kwargs)\u001b[0m\n\u001b[0;32m     44\u001b[0m             )\n\u001b[0;32m     45\u001b[0m         \u001b[0mkwargs\u001b[0m\u001b[1;33m.\u001b[0m\u001b[0mupdate\u001b[0m\u001b[1;33m(\u001b[0m\u001b[1;33m{\u001b[0m\u001b[0mk\u001b[0m\u001b[1;33m:\u001b[0m \u001b[0marg\u001b[0m \u001b[1;32mfor\u001b[0m \u001b[0mk\u001b[0m\u001b[1;33m,\u001b[0m \u001b[0marg\u001b[0m \u001b[1;32min\u001b[0m \u001b[0mzip\u001b[0m\u001b[1;33m(\u001b[0m\u001b[0msig\u001b[0m\u001b[1;33m.\u001b[0m\u001b[0mparameters\u001b[0m\u001b[1;33m,\u001b[0m \u001b[0margs\u001b[0m\u001b[1;33m)\u001b[0m\u001b[1;33m}\u001b[0m\u001b[1;33m)\u001b[0m\u001b[1;33m\u001b[0m\u001b[1;33m\u001b[0m\u001b[0m\n\u001b[1;32m---> 46\u001b[1;33m         \u001b[1;32mreturn\u001b[0m \u001b[0mf\u001b[0m\u001b[1;33m(\u001b[0m\u001b[1;33m**\u001b[0m\u001b[0mkwargs\u001b[0m\u001b[1;33m)\u001b[0m\u001b[1;33m\u001b[0m\u001b[1;33m\u001b[0m\u001b[0m\n\u001b[0m\u001b[0;32m     47\u001b[0m     \u001b[1;32mreturn\u001b[0m \u001b[0minner_f\u001b[0m\u001b[1;33m\u001b[0m\u001b[1;33m\u001b[0m\u001b[0m\n\u001b[0;32m     48\u001b[0m \u001b[1;33m\u001b[0m\u001b[0m\n",
      "\u001b[1;32m~\\anaconda3\\lib\\site-packages\\seaborn\\axisgrid.py\u001b[0m in \u001b[0;36mpairplot\u001b[1;34m(data, hue, hue_order, palette, vars, x_vars, y_vars, kind, diag_kind, markers, height, aspect, corner, dropna, plot_kws, diag_kws, grid_kws, size)\u001b[0m\n\u001b[0;32m   2128\u001b[0m         \u001b[0mdiag_kws\u001b[0m\u001b[1;33m.\u001b[0m\u001b[0msetdefault\u001b[0m\u001b[1;33m(\u001b[0m\u001b[1;34m\"fill\"\u001b[0m\u001b[1;33m,\u001b[0m \u001b[1;32mTrue\u001b[0m\u001b[1;33m)\u001b[0m\u001b[1;33m\u001b[0m\u001b[1;33m\u001b[0m\u001b[0m\n\u001b[0;32m   2129\u001b[0m         \u001b[0mdiag_kws\u001b[0m\u001b[1;33m.\u001b[0m\u001b[0msetdefault\u001b[0m\u001b[1;33m(\u001b[0m\u001b[1;34m\"warn_singular\"\u001b[0m\u001b[1;33m,\u001b[0m \u001b[1;32mFalse\u001b[0m\u001b[1;33m)\u001b[0m\u001b[1;33m\u001b[0m\u001b[1;33m\u001b[0m\u001b[0m\n\u001b[1;32m-> 2130\u001b[1;33m         \u001b[0mgrid\u001b[0m\u001b[1;33m.\u001b[0m\u001b[0mmap_diag\u001b[0m\u001b[1;33m(\u001b[0m\u001b[0mkdeplot\u001b[0m\u001b[1;33m,\u001b[0m \u001b[1;33m**\u001b[0m\u001b[0mdiag_kws\u001b[0m\u001b[1;33m)\u001b[0m\u001b[1;33m\u001b[0m\u001b[1;33m\u001b[0m\u001b[0m\n\u001b[0m\u001b[0;32m   2131\u001b[0m \u001b[1;33m\u001b[0m\u001b[0m\n\u001b[0;32m   2132\u001b[0m     \u001b[1;31m# Maybe plot on the off-diagonals\u001b[0m\u001b[1;33m\u001b[0m\u001b[1;33m\u001b[0m\u001b[0m\n",
      "\u001b[1;32m~\\anaconda3\\lib\\site-packages\\seaborn\\axisgrid.py\u001b[0m in \u001b[0;36mmap_diag\u001b[1;34m(self, func, **kwargs)\u001b[0m\n\u001b[0;32m   1476\u001b[0m             \u001b[0mplot_kwargs\u001b[0m\u001b[1;33m.\u001b[0m\u001b[0msetdefault\u001b[0m\u001b[1;33m(\u001b[0m\u001b[1;34m\"hue_order\"\u001b[0m\u001b[1;33m,\u001b[0m \u001b[0mself\u001b[0m\u001b[1;33m.\u001b[0m\u001b[0m_hue_order\u001b[0m\u001b[1;33m)\u001b[0m\u001b[1;33m\u001b[0m\u001b[1;33m\u001b[0m\u001b[0m\n\u001b[0;32m   1477\u001b[0m             \u001b[0mplot_kwargs\u001b[0m\u001b[1;33m.\u001b[0m\u001b[0msetdefault\u001b[0m\u001b[1;33m(\u001b[0m\u001b[1;34m\"palette\"\u001b[0m\u001b[1;33m,\u001b[0m \u001b[0mself\u001b[0m\u001b[1;33m.\u001b[0m\u001b[0m_orig_palette\u001b[0m\u001b[1;33m)\u001b[0m\u001b[1;33m\u001b[0m\u001b[1;33m\u001b[0m\u001b[0m\n\u001b[1;32m-> 1478\u001b[1;33m             \u001b[0mfunc\u001b[0m\u001b[1;33m(\u001b[0m\u001b[0mx\u001b[0m\u001b[1;33m=\u001b[0m\u001b[0mvector\u001b[0m\u001b[1;33m,\u001b[0m \u001b[1;33m**\u001b[0m\u001b[0mplot_kwargs\u001b[0m\u001b[1;33m)\u001b[0m\u001b[1;33m\u001b[0m\u001b[1;33m\u001b[0m\u001b[0m\n\u001b[0m\u001b[0;32m   1479\u001b[0m             \u001b[0max\u001b[0m\u001b[1;33m.\u001b[0m\u001b[0mlegend_\u001b[0m \u001b[1;33m=\u001b[0m \u001b[1;32mNone\u001b[0m\u001b[1;33m\u001b[0m\u001b[1;33m\u001b[0m\u001b[0m\n\u001b[0;32m   1480\u001b[0m \u001b[1;33m\u001b[0m\u001b[0m\n",
      "\u001b[1;32m~\\anaconda3\\lib\\site-packages\\seaborn\\_decorators.py\u001b[0m in \u001b[0;36minner_f\u001b[1;34m(*args, **kwargs)\u001b[0m\n\u001b[0;32m     44\u001b[0m             )\n\u001b[0;32m     45\u001b[0m         \u001b[0mkwargs\u001b[0m\u001b[1;33m.\u001b[0m\u001b[0mupdate\u001b[0m\u001b[1;33m(\u001b[0m\u001b[1;33m{\u001b[0m\u001b[0mk\u001b[0m\u001b[1;33m:\u001b[0m \u001b[0marg\u001b[0m \u001b[1;32mfor\u001b[0m \u001b[0mk\u001b[0m\u001b[1;33m,\u001b[0m \u001b[0marg\u001b[0m \u001b[1;32min\u001b[0m \u001b[0mzip\u001b[0m\u001b[1;33m(\u001b[0m\u001b[0msig\u001b[0m\u001b[1;33m.\u001b[0m\u001b[0mparameters\u001b[0m\u001b[1;33m,\u001b[0m \u001b[0margs\u001b[0m\u001b[1;33m)\u001b[0m\u001b[1;33m}\u001b[0m\u001b[1;33m)\u001b[0m\u001b[1;33m\u001b[0m\u001b[1;33m\u001b[0m\u001b[0m\n\u001b[1;32m---> 46\u001b[1;33m         \u001b[1;32mreturn\u001b[0m \u001b[0mf\u001b[0m\u001b[1;33m(\u001b[0m\u001b[1;33m**\u001b[0m\u001b[0mkwargs\u001b[0m\u001b[1;33m)\u001b[0m\u001b[1;33m\u001b[0m\u001b[1;33m\u001b[0m\u001b[0m\n\u001b[0m\u001b[0;32m     47\u001b[0m     \u001b[1;32mreturn\u001b[0m \u001b[0minner_f\u001b[0m\u001b[1;33m\u001b[0m\u001b[1;33m\u001b[0m\u001b[0m\n\u001b[0;32m     48\u001b[0m \u001b[1;33m\u001b[0m\u001b[0m\n",
      "\u001b[1;32m~\\anaconda3\\lib\\site-packages\\seaborn\\distributions.py\u001b[0m in \u001b[0;36mkdeplot\u001b[1;34m(x, y, shade, vertical, kernel, bw, gridsize, cut, clip, legend, cumulative, shade_lowest, cbar, cbar_ax, cbar_kws, ax, weights, hue, palette, hue_order, hue_norm, multiple, common_norm, common_grid, levels, thresh, bw_method, bw_adjust, log_scale, color, fill, data, data2, warn_singular, **kwargs)\u001b[0m\n\u001b[0;32m   1768\u001b[0m             \u001b[0mplot_kws\u001b[0m\u001b[1;33m[\u001b[0m\u001b[1;34m\"color\"\u001b[0m\u001b[1;33m]\u001b[0m \u001b[1;33m=\u001b[0m \u001b[0mcolor\u001b[0m\u001b[1;33m\u001b[0m\u001b[1;33m\u001b[0m\u001b[0m\n\u001b[0;32m   1769\u001b[0m \u001b[1;33m\u001b[0m\u001b[0m\n\u001b[1;32m-> 1770\u001b[1;33m         p.plot_univariate_density(\n\u001b[0m\u001b[0;32m   1771\u001b[0m             \u001b[0mmultiple\u001b[0m\u001b[1;33m=\u001b[0m\u001b[0mmultiple\u001b[0m\u001b[1;33m,\u001b[0m\u001b[1;33m\u001b[0m\u001b[1;33m\u001b[0m\u001b[0m\n\u001b[0;32m   1772\u001b[0m             \u001b[0mcommon_norm\u001b[0m\u001b[1;33m=\u001b[0m\u001b[0mcommon_norm\u001b[0m\u001b[1;33m,\u001b[0m\u001b[1;33m\u001b[0m\u001b[1;33m\u001b[0m\u001b[0m\n",
      "\u001b[1;32m~\\anaconda3\\lib\\site-packages\\seaborn\\distributions.py\u001b[0m in \u001b[0;36mplot_univariate_density\u001b[1;34m(self, multiple, common_norm, common_grid, warn_singular, fill, legend, estimate_kws, **plot_kws)\u001b[0m\n\u001b[0;32m    926\u001b[0m \u001b[1;33m\u001b[0m\u001b[0m\n\u001b[0;32m    927\u001b[0m         \u001b[1;31m# Do the computation\u001b[0m\u001b[1;33m\u001b[0m\u001b[1;33m\u001b[0m\u001b[0m\n\u001b[1;32m--> 928\u001b[1;33m         densities = self._compute_univariate_density(\n\u001b[0m\u001b[0;32m    929\u001b[0m             \u001b[0mself\u001b[0m\u001b[1;33m.\u001b[0m\u001b[0mdata_variable\u001b[0m\u001b[1;33m,\u001b[0m\u001b[1;33m\u001b[0m\u001b[1;33m\u001b[0m\u001b[0m\n\u001b[0;32m    930\u001b[0m             \u001b[0mcommon_norm\u001b[0m\u001b[1;33m,\u001b[0m\u001b[1;33m\u001b[0m\u001b[1;33m\u001b[0m\u001b[0m\n",
      "\u001b[1;32m~\\anaconda3\\lib\\site-packages\\seaborn\\distributions.py\u001b[0m in \u001b[0;36m_compute_univariate_density\u001b[1;34m(self, data_variable, common_norm, common_grid, estimate_kws, log_scale, warn_singular)\u001b[0m\n\u001b[0;32m    324\u001b[0m \u001b[1;33m\u001b[0m\u001b[0m\n\u001b[0;32m    325\u001b[0m             \u001b[1;31m# Estimate the density of observations at this level\u001b[0m\u001b[1;33m\u001b[0m\u001b[1;33m\u001b[0m\u001b[0m\n\u001b[1;32m--> 326\u001b[1;33m             \u001b[0mdensity\u001b[0m\u001b[1;33m,\u001b[0m \u001b[0msupport\u001b[0m \u001b[1;33m=\u001b[0m \u001b[0mestimator\u001b[0m\u001b[1;33m(\u001b[0m\u001b[0mobservations\u001b[0m\u001b[1;33m,\u001b[0m \u001b[0mweights\u001b[0m\u001b[1;33m=\u001b[0m\u001b[0mweights\u001b[0m\u001b[1;33m)\u001b[0m\u001b[1;33m\u001b[0m\u001b[1;33m\u001b[0m\u001b[0m\n\u001b[0m\u001b[0;32m    327\u001b[0m \u001b[1;33m\u001b[0m\u001b[0m\n\u001b[0;32m    328\u001b[0m             \u001b[1;32mif\u001b[0m \u001b[0mlog_scale\u001b[0m\u001b[1;33m:\u001b[0m\u001b[1;33m\u001b[0m\u001b[1;33m\u001b[0m\u001b[0m\n",
      "\u001b[1;32m~\\anaconda3\\lib\\site-packages\\seaborn\\_statistics.py\u001b[0m in \u001b[0;36m__call__\u001b[1;34m(self, x1, x2, weights)\u001b[0m\n\u001b[0;32m    185\u001b[0m         \u001b[1;34m\"\"\"Fit and evaluate on univariate or bivariate data.\"\"\"\u001b[0m\u001b[1;33m\u001b[0m\u001b[1;33m\u001b[0m\u001b[0m\n\u001b[0;32m    186\u001b[0m         \u001b[1;32mif\u001b[0m \u001b[0mx2\u001b[0m \u001b[1;32mis\u001b[0m \u001b[1;32mNone\u001b[0m\u001b[1;33m:\u001b[0m\u001b[1;33m\u001b[0m\u001b[1;33m\u001b[0m\u001b[0m\n\u001b[1;32m--> 187\u001b[1;33m             \u001b[1;32mreturn\u001b[0m \u001b[0mself\u001b[0m\u001b[1;33m.\u001b[0m\u001b[0m_eval_univariate\u001b[0m\u001b[1;33m(\u001b[0m\u001b[0mx1\u001b[0m\u001b[1;33m,\u001b[0m \u001b[0mweights\u001b[0m\u001b[1;33m)\u001b[0m\u001b[1;33m\u001b[0m\u001b[1;33m\u001b[0m\u001b[0m\n\u001b[0m\u001b[0;32m    188\u001b[0m         \u001b[1;32melse\u001b[0m\u001b[1;33m:\u001b[0m\u001b[1;33m\u001b[0m\u001b[1;33m\u001b[0m\u001b[0m\n\u001b[0;32m    189\u001b[0m             \u001b[1;32mreturn\u001b[0m \u001b[0mself\u001b[0m\u001b[1;33m.\u001b[0m\u001b[0m_eval_bivariate\u001b[0m\u001b[1;33m(\u001b[0m\u001b[0mx1\u001b[0m\u001b[1;33m,\u001b[0m \u001b[0mx2\u001b[0m\u001b[1;33m,\u001b[0m \u001b[0mweights\u001b[0m\u001b[1;33m)\u001b[0m\u001b[1;33m\u001b[0m\u001b[1;33m\u001b[0m\u001b[0m\n",
      "\u001b[1;32m~\\anaconda3\\lib\\site-packages\\seaborn\\_statistics.py\u001b[0m in \u001b[0;36m_eval_univariate\u001b[1;34m(self, x, weights)\u001b[0m\n\u001b[0;32m    144\u001b[0m         \u001b[0msupport\u001b[0m \u001b[1;33m=\u001b[0m \u001b[0mself\u001b[0m\u001b[1;33m.\u001b[0m\u001b[0msupport\u001b[0m\u001b[1;33m\u001b[0m\u001b[1;33m\u001b[0m\u001b[0m\n\u001b[0;32m    145\u001b[0m         \u001b[1;32mif\u001b[0m \u001b[0msupport\u001b[0m \u001b[1;32mis\u001b[0m \u001b[1;32mNone\u001b[0m\u001b[1;33m:\u001b[0m\u001b[1;33m\u001b[0m\u001b[1;33m\u001b[0m\u001b[0m\n\u001b[1;32m--> 146\u001b[1;33m             \u001b[0msupport\u001b[0m \u001b[1;33m=\u001b[0m \u001b[0mself\u001b[0m\u001b[1;33m.\u001b[0m\u001b[0mdefine_support\u001b[0m\u001b[1;33m(\u001b[0m\u001b[0mx\u001b[0m\u001b[1;33m,\u001b[0m \u001b[0mcache\u001b[0m\u001b[1;33m=\u001b[0m\u001b[1;32mFalse\u001b[0m\u001b[1;33m)\u001b[0m\u001b[1;33m\u001b[0m\u001b[1;33m\u001b[0m\u001b[0m\n\u001b[0m\u001b[0;32m    147\u001b[0m \u001b[1;33m\u001b[0m\u001b[0m\n\u001b[0;32m    148\u001b[0m         \u001b[0mkde\u001b[0m \u001b[1;33m=\u001b[0m \u001b[0mself\u001b[0m\u001b[1;33m.\u001b[0m\u001b[0m_fit\u001b[0m\u001b[1;33m(\u001b[0m\u001b[0mx\u001b[0m\u001b[1;33m,\u001b[0m \u001b[0mweights\u001b[0m\u001b[1;33m)\u001b[0m\u001b[1;33m\u001b[0m\u001b[1;33m\u001b[0m\u001b[0m\n",
      "\u001b[1;32m~\\anaconda3\\lib\\site-packages\\seaborn\\_statistics.py\u001b[0m in \u001b[0;36mdefine_support\u001b[1;34m(self, x1, x2, weights, cache)\u001b[0m\n\u001b[0;32m    117\u001b[0m         \u001b[1;34m\"\"\"Create the evaluation grid for a given data set.\"\"\"\u001b[0m\u001b[1;33m\u001b[0m\u001b[1;33m\u001b[0m\u001b[0m\n\u001b[0;32m    118\u001b[0m         \u001b[1;32mif\u001b[0m \u001b[0mx2\u001b[0m \u001b[1;32mis\u001b[0m \u001b[1;32mNone\u001b[0m\u001b[1;33m:\u001b[0m\u001b[1;33m\u001b[0m\u001b[1;33m\u001b[0m\u001b[0m\n\u001b[1;32m--> 119\u001b[1;33m             \u001b[0msupport\u001b[0m \u001b[1;33m=\u001b[0m \u001b[0mself\u001b[0m\u001b[1;33m.\u001b[0m\u001b[0m_define_support_univariate\u001b[0m\u001b[1;33m(\u001b[0m\u001b[0mx1\u001b[0m\u001b[1;33m,\u001b[0m \u001b[0mweights\u001b[0m\u001b[1;33m)\u001b[0m\u001b[1;33m\u001b[0m\u001b[1;33m\u001b[0m\u001b[0m\n\u001b[0m\u001b[0;32m    120\u001b[0m         \u001b[1;32melse\u001b[0m\u001b[1;33m:\u001b[0m\u001b[1;33m\u001b[0m\u001b[1;33m\u001b[0m\u001b[0m\n\u001b[0;32m    121\u001b[0m             \u001b[0msupport\u001b[0m \u001b[1;33m=\u001b[0m \u001b[0mself\u001b[0m\u001b[1;33m.\u001b[0m\u001b[0m_define_support_bivariate\u001b[0m\u001b[1;33m(\u001b[0m\u001b[0mx1\u001b[0m\u001b[1;33m,\u001b[0m \u001b[0mx2\u001b[0m\u001b[1;33m,\u001b[0m \u001b[0mweights\u001b[0m\u001b[1;33m)\u001b[0m\u001b[1;33m\u001b[0m\u001b[1;33m\u001b[0m\u001b[0m\n",
      "\u001b[1;32m~\\anaconda3\\lib\\site-packages\\seaborn\\_statistics.py\u001b[0m in \u001b[0;36m_define_support_univariate\u001b[1;34m(self, x, weights)\u001b[0m\n\u001b[0;32m     89\u001b[0m     \u001b[1;32mdef\u001b[0m \u001b[0m_define_support_univariate\u001b[0m\u001b[1;33m(\u001b[0m\u001b[0mself\u001b[0m\u001b[1;33m,\u001b[0m \u001b[0mx\u001b[0m\u001b[1;33m,\u001b[0m \u001b[0mweights\u001b[0m\u001b[1;33m)\u001b[0m\u001b[1;33m:\u001b[0m\u001b[1;33m\u001b[0m\u001b[1;33m\u001b[0m\u001b[0m\n\u001b[0;32m     90\u001b[0m         \u001b[1;34m\"\"\"Create a 1D grid of evaluation points.\"\"\"\u001b[0m\u001b[1;33m\u001b[0m\u001b[1;33m\u001b[0m\u001b[0m\n\u001b[1;32m---> 91\u001b[1;33m         \u001b[0mkde\u001b[0m \u001b[1;33m=\u001b[0m \u001b[0mself\u001b[0m\u001b[1;33m.\u001b[0m\u001b[0m_fit\u001b[0m\u001b[1;33m(\u001b[0m\u001b[0mx\u001b[0m\u001b[1;33m,\u001b[0m \u001b[0mweights\u001b[0m\u001b[1;33m)\u001b[0m\u001b[1;33m\u001b[0m\u001b[1;33m\u001b[0m\u001b[0m\n\u001b[0m\u001b[0;32m     92\u001b[0m         \u001b[0mbw\u001b[0m \u001b[1;33m=\u001b[0m \u001b[0mnp\u001b[0m\u001b[1;33m.\u001b[0m\u001b[0msqrt\u001b[0m\u001b[1;33m(\u001b[0m\u001b[0mkde\u001b[0m\u001b[1;33m.\u001b[0m\u001b[0mcovariance\u001b[0m\u001b[1;33m.\u001b[0m\u001b[0msqueeze\u001b[0m\u001b[1;33m(\u001b[0m\u001b[1;33m)\u001b[0m\u001b[1;33m)\u001b[0m\u001b[1;33m\u001b[0m\u001b[1;33m\u001b[0m\u001b[0m\n\u001b[0;32m     93\u001b[0m         grid = self._define_support_grid(\n",
      "\u001b[1;32m~\\anaconda3\\lib\\site-packages\\seaborn\\_statistics.py\u001b[0m in \u001b[0;36m_fit\u001b[1;34m(self, fit_data, weights)\u001b[0m\n\u001b[0;32m    135\u001b[0m             \u001b[0mfit_kws\u001b[0m\u001b[1;33m[\u001b[0m\u001b[1;34m\"weights\"\u001b[0m\u001b[1;33m]\u001b[0m \u001b[1;33m=\u001b[0m \u001b[0mweights\u001b[0m\u001b[1;33m\u001b[0m\u001b[1;33m\u001b[0m\u001b[0m\n\u001b[0;32m    136\u001b[0m \u001b[1;33m\u001b[0m\u001b[0m\n\u001b[1;32m--> 137\u001b[1;33m         \u001b[0mkde\u001b[0m \u001b[1;33m=\u001b[0m \u001b[0mstats\u001b[0m\u001b[1;33m.\u001b[0m\u001b[0mgaussian_kde\u001b[0m\u001b[1;33m(\u001b[0m\u001b[0mfit_data\u001b[0m\u001b[1;33m,\u001b[0m \u001b[1;33m**\u001b[0m\u001b[0mfit_kws\u001b[0m\u001b[1;33m)\u001b[0m\u001b[1;33m\u001b[0m\u001b[1;33m\u001b[0m\u001b[0m\n\u001b[0m\u001b[0;32m    138\u001b[0m         \u001b[0mkde\u001b[0m\u001b[1;33m.\u001b[0m\u001b[0mset_bandwidth\u001b[0m\u001b[1;33m(\u001b[0m\u001b[0mkde\u001b[0m\u001b[1;33m.\u001b[0m\u001b[0mfactor\u001b[0m \u001b[1;33m*\u001b[0m \u001b[0mself\u001b[0m\u001b[1;33m.\u001b[0m\u001b[0mbw_adjust\u001b[0m\u001b[1;33m)\u001b[0m\u001b[1;33m\u001b[0m\u001b[1;33m\u001b[0m\u001b[0m\n\u001b[0;32m    139\u001b[0m \u001b[1;33m\u001b[0m\u001b[0m\n",
      "\u001b[1;32m~\\anaconda3\\lib\\site-packages\\scipy\\stats\\kde.py\u001b[0m in \u001b[0;36m__init__\u001b[1;34m(self, dataset, bw_method, weights)\u001b[0m\n\u001b[0;32m    204\u001b[0m             \u001b[0mself\u001b[0m\u001b[1;33m.\u001b[0m\u001b[0m_neff\u001b[0m \u001b[1;33m=\u001b[0m \u001b[1;36m1\u001b[0m\u001b[1;33m/\u001b[0m\u001b[0msum\u001b[0m\u001b[1;33m(\u001b[0m\u001b[0mself\u001b[0m\u001b[1;33m.\u001b[0m\u001b[0m_weights\u001b[0m\u001b[1;33m**\u001b[0m\u001b[1;36m2\u001b[0m\u001b[1;33m)\u001b[0m\u001b[1;33m\u001b[0m\u001b[1;33m\u001b[0m\u001b[0m\n\u001b[0;32m    205\u001b[0m \u001b[1;33m\u001b[0m\u001b[0m\n\u001b[1;32m--> 206\u001b[1;33m         \u001b[0mself\u001b[0m\u001b[1;33m.\u001b[0m\u001b[0mset_bandwidth\u001b[0m\u001b[1;33m(\u001b[0m\u001b[0mbw_method\u001b[0m\u001b[1;33m=\u001b[0m\u001b[0mbw_method\u001b[0m\u001b[1;33m)\u001b[0m\u001b[1;33m\u001b[0m\u001b[1;33m\u001b[0m\u001b[0m\n\u001b[0m\u001b[0;32m    207\u001b[0m \u001b[1;33m\u001b[0m\u001b[0m\n\u001b[0;32m    208\u001b[0m     \u001b[1;32mdef\u001b[0m \u001b[0mevaluate\u001b[0m\u001b[1;33m(\u001b[0m\u001b[0mself\u001b[0m\u001b[1;33m,\u001b[0m \u001b[0mpoints\u001b[0m\u001b[1;33m)\u001b[0m\u001b[1;33m:\u001b[0m\u001b[1;33m\u001b[0m\u001b[1;33m\u001b[0m\u001b[0m\n",
      "\u001b[1;32m~\\anaconda3\\lib\\site-packages\\scipy\\stats\\kde.py\u001b[0m in \u001b[0;36mset_bandwidth\u001b[1;34m(self, bw_method)\u001b[0m\n\u001b[0;32m    552\u001b[0m             \u001b[1;32mraise\u001b[0m \u001b[0mValueError\u001b[0m\u001b[1;33m(\u001b[0m\u001b[0mmsg\u001b[0m\u001b[1;33m)\u001b[0m\u001b[1;33m\u001b[0m\u001b[1;33m\u001b[0m\u001b[0m\n\u001b[0;32m    553\u001b[0m \u001b[1;33m\u001b[0m\u001b[0m\n\u001b[1;32m--> 554\u001b[1;33m         \u001b[0mself\u001b[0m\u001b[1;33m.\u001b[0m\u001b[0m_compute_covariance\u001b[0m\u001b[1;33m(\u001b[0m\u001b[1;33m)\u001b[0m\u001b[1;33m\u001b[0m\u001b[1;33m\u001b[0m\u001b[0m\n\u001b[0m\u001b[0;32m    555\u001b[0m \u001b[1;33m\u001b[0m\u001b[0m\n\u001b[0;32m    556\u001b[0m     \u001b[1;32mdef\u001b[0m \u001b[0m_compute_covariance\u001b[0m\u001b[1;33m(\u001b[0m\u001b[0mself\u001b[0m\u001b[1;33m)\u001b[0m\u001b[1;33m:\u001b[0m\u001b[1;33m\u001b[0m\u001b[1;33m\u001b[0m\u001b[0m\n",
      "\u001b[1;32m~\\anaconda3\\lib\\site-packages\\scipy\\stats\\kde.py\u001b[0m in \u001b[0;36m_compute_covariance\u001b[1;34m(self)\u001b[0m\n\u001b[0;32m    561\u001b[0m         \u001b[1;31m# Cache covariance and inverse covariance of the data\u001b[0m\u001b[1;33m\u001b[0m\u001b[1;33m\u001b[0m\u001b[0m\n\u001b[0;32m    562\u001b[0m         \u001b[1;32mif\u001b[0m \u001b[1;32mnot\u001b[0m \u001b[0mhasattr\u001b[0m\u001b[1;33m(\u001b[0m\u001b[0mself\u001b[0m\u001b[1;33m,\u001b[0m \u001b[1;34m'_data_inv_cov'\u001b[0m\u001b[1;33m)\u001b[0m\u001b[1;33m:\u001b[0m\u001b[1;33m\u001b[0m\u001b[1;33m\u001b[0m\u001b[0m\n\u001b[1;32m--> 563\u001b[1;33m             self._data_covariance = atleast_2d(cov(self.dataset, rowvar=1,\n\u001b[0m\u001b[0;32m    564\u001b[0m                                                \u001b[0mbias\u001b[0m\u001b[1;33m=\u001b[0m\u001b[1;32mFalse\u001b[0m\u001b[1;33m,\u001b[0m\u001b[1;33m\u001b[0m\u001b[1;33m\u001b[0m\u001b[0m\n\u001b[0;32m    565\u001b[0m                                                aweights=self.weights))\n",
      "\u001b[1;32m<__array_function__ internals>\u001b[0m in \u001b[0;36mcov\u001b[1;34m(*args, **kwargs)\u001b[0m\n",
      "\u001b[1;32m~\\anaconda3\\lib\\site-packages\\numpy\\lib\\function_base.py\u001b[0m in \u001b[0;36mcov\u001b[1;34m(m, y, rowvar, bias, ddof, fweights, aweights, dtype)\u001b[0m\n\u001b[0;32m   2467\u001b[0m             \u001b[0mw\u001b[0m \u001b[1;33m*=\u001b[0m \u001b[0maweights\u001b[0m\u001b[1;33m\u001b[0m\u001b[1;33m\u001b[0m\u001b[0m\n\u001b[0;32m   2468\u001b[0m \u001b[1;33m\u001b[0m\u001b[0m\n\u001b[1;32m-> 2469\u001b[1;33m     \u001b[0mavg\u001b[0m\u001b[1;33m,\u001b[0m \u001b[0mw_sum\u001b[0m \u001b[1;33m=\u001b[0m \u001b[0maverage\u001b[0m\u001b[1;33m(\u001b[0m\u001b[0mX\u001b[0m\u001b[1;33m,\u001b[0m \u001b[0maxis\u001b[0m\u001b[1;33m=\u001b[0m\u001b[1;36m1\u001b[0m\u001b[1;33m,\u001b[0m \u001b[0mweights\u001b[0m\u001b[1;33m=\u001b[0m\u001b[0mw\u001b[0m\u001b[1;33m,\u001b[0m \u001b[0mreturned\u001b[0m\u001b[1;33m=\u001b[0m\u001b[1;32mTrue\u001b[0m\u001b[1;33m)\u001b[0m\u001b[1;33m\u001b[0m\u001b[1;33m\u001b[0m\u001b[0m\n\u001b[0m\u001b[0;32m   2470\u001b[0m     \u001b[0mw_sum\u001b[0m \u001b[1;33m=\u001b[0m \u001b[0mw_sum\u001b[0m\u001b[1;33m[\u001b[0m\u001b[1;36m0\u001b[0m\u001b[1;33m]\u001b[0m\u001b[1;33m\u001b[0m\u001b[1;33m\u001b[0m\u001b[0m\n\u001b[0;32m   2471\u001b[0m \u001b[1;33m\u001b[0m\u001b[0m\n",
      "\u001b[1;32m<__array_function__ internals>\u001b[0m in \u001b[0;36maverage\u001b[1;34m(*args, **kwargs)\u001b[0m\n",
      "\u001b[1;32m~\\anaconda3\\lib\\site-packages\\numpy\\lib\\function_base.py\u001b[0m in \u001b[0;36maverage\u001b[1;34m(a, axis, weights, returned)\u001b[0m\n\u001b[0;32m    405\u001b[0m             \u001b[0mwgt\u001b[0m \u001b[1;33m=\u001b[0m \u001b[0mwgt\u001b[0m\u001b[1;33m.\u001b[0m\u001b[0mswapaxes\u001b[0m\u001b[1;33m(\u001b[0m\u001b[1;33m-\u001b[0m\u001b[1;36m1\u001b[0m\u001b[1;33m,\u001b[0m \u001b[0maxis\u001b[0m\u001b[1;33m)\u001b[0m\u001b[1;33m\u001b[0m\u001b[1;33m\u001b[0m\u001b[0m\n\u001b[0;32m    406\u001b[0m \u001b[1;33m\u001b[0m\u001b[0m\n\u001b[1;32m--> 407\u001b[1;33m         \u001b[0mscl\u001b[0m \u001b[1;33m=\u001b[0m \u001b[0mwgt\u001b[0m\u001b[1;33m.\u001b[0m\u001b[0msum\u001b[0m\u001b[1;33m(\u001b[0m\u001b[0maxis\u001b[0m\u001b[1;33m=\u001b[0m\u001b[0maxis\u001b[0m\u001b[1;33m,\u001b[0m \u001b[0mdtype\u001b[0m\u001b[1;33m=\u001b[0m\u001b[0mresult_dtype\u001b[0m\u001b[1;33m)\u001b[0m\u001b[1;33m\u001b[0m\u001b[1;33m\u001b[0m\u001b[0m\n\u001b[0m\u001b[0;32m    408\u001b[0m         \u001b[1;32mif\u001b[0m \u001b[0mnp\u001b[0m\u001b[1;33m.\u001b[0m\u001b[0many\u001b[0m\u001b[1;33m(\u001b[0m\u001b[0mscl\u001b[0m \u001b[1;33m==\u001b[0m \u001b[1;36m0.0\u001b[0m\u001b[1;33m)\u001b[0m\u001b[1;33m:\u001b[0m\u001b[1;33m\u001b[0m\u001b[1;33m\u001b[0m\u001b[0m\n\u001b[0;32m    409\u001b[0m             raise ZeroDivisionError(\n",
      "\u001b[1;32m~\\anaconda3\\lib\\site-packages\\numpy\\core\\_methods.py\u001b[0m in \u001b[0;36m_sum\u001b[1;34m(a, axis, dtype, out, keepdims, initial, where)\u001b[0m\n\u001b[0;32m     45\u001b[0m def _sum(a, axis=None, dtype=None, out=None, keepdims=False,\n\u001b[0;32m     46\u001b[0m          initial=_NoValue, where=True):\n\u001b[1;32m---> 47\u001b[1;33m     \u001b[1;32mreturn\u001b[0m \u001b[0mumr_sum\u001b[0m\u001b[1;33m(\u001b[0m\u001b[0ma\u001b[0m\u001b[1;33m,\u001b[0m \u001b[0maxis\u001b[0m\u001b[1;33m,\u001b[0m \u001b[0mdtype\u001b[0m\u001b[1;33m,\u001b[0m \u001b[0mout\u001b[0m\u001b[1;33m,\u001b[0m \u001b[0mkeepdims\u001b[0m\u001b[1;33m,\u001b[0m \u001b[0minitial\u001b[0m\u001b[1;33m,\u001b[0m \u001b[0mwhere\u001b[0m\u001b[1;33m)\u001b[0m\u001b[1;33m\u001b[0m\u001b[1;33m\u001b[0m\u001b[0m\n\u001b[0m\u001b[0;32m     48\u001b[0m \u001b[1;33m\u001b[0m\u001b[0m\n\u001b[0;32m     49\u001b[0m def _prod(a, axis=None, dtype=None, out=None, keepdims=False,\n",
      "\u001b[1;31mTypeError\u001b[0m: No loop matching the specified signature and casting was found for ufunc add"
     ]
    },
    {
     "data": {
      "image/png": "[encoded data removed]",
      "text/plain": [
       "<Figure size 1080x1080 with 42 Axes>"
      ]
     },
     "metadata": {
      "needs_background": "light"
     },
     "output_type": "display_data"
    }
   ],
   "source": [
    "# Paitplots on the relation between different numerical variables in the dataset\n",
    "\n",
    "sns.pairplot(farfetch_1, hue='on_sale');"
   ]
  },
  {
   "cell_type": "code",
   "execution_count": null,
   "metadata": {},
   "outputs": [],
   "source": [
    "# Countplot of the categorical variables in relation with the target variable\n",
    "\n",
    "f, axes = plt.subplots(ncols=4,figsize=(16,5))\n",
    "\n",
    "sns.countplot(x='sizes',hue='on_sale',ax=axes[0],data=farfetch_1)\n",
    "sns.countplot(x='similar_products',hue='on_sale',ax=axes[1],data=farfetch_1)\n",
    "sns.countplot(x='gender',hue='on_sale',ax=axes[2],data=farfetch_1)\n",
    "sns.countplot(x='merchandise_label',hue='on_sale',ax=axes[3],data=farfetch_1)\n",
    "plt.xticks(rotation=90)"
   ]
  },
  {
   "cell_type": "markdown",
   "metadata": {},
   "source": [
    "#### Separating numerical and categorical data"
   ]
  },
  {
   "cell_type": "code",
   "execution_count": 55,
   "metadata": {},
   "outputs": [],
   "source": [
    "numerical=farfetch_1[['brand_id','similar_products','merchant_id','initial_price','stock_total','sizes']]"
   ]
  },
  {
   "cell_type": "code",
   "execution_count": 56,
   "metadata": {
    "scrolled": true
   },
   "outputs": [
    {
     "data": {
      "text/html": [
       "<div>\n",
       "<style scoped>\n",
       "    .dataframe tbody tr th:only-of-type {\n",
       "        vertical-align: middle;\n",
       "    }\n",
       "\n",
       "    .dataframe tbody tr th {\n",
       "        vertical-align: top;\n",
       "    }\n",
       "\n",
       "    .dataframe thead th {\n",
       "        text-align: right;\n",
       "    }\n",
       "</style>\n",
       "<table border=\"1\" class=\"dataframe\">\n",
       "  <thead>\n",
       "    <tr style=\"text-align: right;\">\n",
       "      <th></th>\n",
       "      <th>brand_id</th>\n",
       "      <th>similar_products</th>\n",
       "      <th>merchant_id</th>\n",
       "      <th>initial_price</th>\n",
       "      <th>stock_total</th>\n",
       "      <th>sizes</th>\n",
       "    </tr>\n",
       "  </thead>\n",
       "  <tbody>\n",
       "    <tr>\n",
       "      <th>0</th>\n",
       "      <td>8360</td>\n",
       "      <td>True</td>\n",
       "      <td>9359</td>\n",
       "      <td>1080</td>\n",
       "      <td>130</td>\n",
       "      <td>0</td>\n",
       "    </tr>\n",
       "    <tr>\n",
       "      <th>1</th>\n",
       "      <td>2049368</td>\n",
       "      <td>True</td>\n",
       "      <td>9319</td>\n",
       "      <td>490</td>\n",
       "      <td>14</td>\n",
       "      <td>6</td>\n",
       "    </tr>\n",
       "    <tr>\n",
       "      <th>2</th>\n",
       "      <td>15514</td>\n",
       "      <td>True</td>\n",
       "      <td>9140</td>\n",
       "      <td>1245</td>\n",
       "      <td>68</td>\n",
       "      <td>0</td>\n",
       "    </tr>\n",
       "    <tr>\n",
       "      <th>3</th>\n",
       "      <td>49486</td>\n",
       "      <td>False</td>\n",
       "      <td>9031</td>\n",
       "      <td>385</td>\n",
       "      <td>1</td>\n",
       "      <td>1</td>\n",
       "    </tr>\n",
       "    <tr>\n",
       "      <th>4</th>\n",
       "      <td>34624</td>\n",
       "      <td>True</td>\n",
       "      <td>9339</td>\n",
       "      <td>1248</td>\n",
       "      <td>78</td>\n",
       "      <td>0</td>\n",
       "    </tr>\n",
       "    <tr>\n",
       "      <th>...</th>\n",
       "      <td>...</td>\n",
       "      <td>...</td>\n",
       "      <td>...</td>\n",
       "      <td>...</td>\n",
       "      <td>...</td>\n",
       "      <td>...</td>\n",
       "    </tr>\n",
       "    <tr>\n",
       "      <th>188812</th>\n",
       "      <td>59394</td>\n",
       "      <td>False</td>\n",
       "      <td>9089</td>\n",
       "      <td>207</td>\n",
       "      <td>6</td>\n",
       "      <td>1</td>\n",
       "    </tr>\n",
       "    <tr>\n",
       "      <th>188813</th>\n",
       "      <td>59394</td>\n",
       "      <td>False</td>\n",
       "      <td>9089</td>\n",
       "      <td>207</td>\n",
       "      <td>2</td>\n",
       "      <td>1</td>\n",
       "    </tr>\n",
       "    <tr>\n",
       "      <th>188814</th>\n",
       "      <td>59394</td>\n",
       "      <td>False</td>\n",
       "      <td>9089</td>\n",
       "      <td>207</td>\n",
       "      <td>2</td>\n",
       "      <td>1</td>\n",
       "    </tr>\n",
       "    <tr>\n",
       "      <th>188815</th>\n",
       "      <td>59394</td>\n",
       "      <td>False</td>\n",
       "      <td>9089</td>\n",
       "      <td>207</td>\n",
       "      <td>10</td>\n",
       "      <td>1</td>\n",
       "    </tr>\n",
       "    <tr>\n",
       "      <th>188816</th>\n",
       "      <td>59394</td>\n",
       "      <td>False</td>\n",
       "      <td>9089</td>\n",
       "      <td>207</td>\n",
       "      <td>3</td>\n",
       "      <td>1</td>\n",
       "    </tr>\n",
       "  </tbody>\n",
       "</table>\n",
       "<p>188817 rows × 6 columns</p>\n",
       "</div>"
      ],
      "text/plain": [
       "        brand_id  similar_products  merchant_id  initial_price  stock_total  \\\n",
       "0           8360              True         9359           1080          130   \n",
       "1        2049368              True         9319            490           14   \n",
       "2          15514              True         9140           1245           68   \n",
       "3          49486             False         9031            385            1   \n",
       "4          34624              True         9339           1248           78   \n",
       "...          ...               ...          ...            ...          ...   \n",
       "188812     59394             False         9089            207            6   \n",
       "188813     59394             False         9089            207            2   \n",
       "188814     59394             False         9089            207            2   \n",
       "188815     59394             False         9089            207           10   \n",
       "188816     59394             False         9089            207            3   \n",
       "\n",
       "        sizes  \n",
       "0           0  \n",
       "1           6  \n",
       "2           0  \n",
       "3           1  \n",
       "4           0  \n",
       "...       ...  \n",
       "188812      1  \n",
       "188813      1  \n",
       "188814      1  \n",
       "188815      1  \n",
       "188816      1  \n",
       "\n",
       "[188817 rows x 6 columns]"
      ]
     },
     "execution_count": 56,
     "metadata": {},
     "output_type": "execute_result"
    }
   ],
   "source": [
    "numerical"
   ]
  },
  {
   "cell_type": "code",
   "execution_count": 57,
   "metadata": {},
   "outputs": [
    {
     "name": "stdout",
     "output_type": "stream",
     "text": [
      "brand_id\n"
     ]
    },
    {
     "name": "stderr",
     "output_type": "stream",
     "text": [
      "C:\\Users\\parag\\anaconda3\\lib\\site-packages\\seaborn\\distributions.py:2619: FutureWarning: `distplot` is a deprecated function and will be removed in a future version. Please adapt your code to use either `displot` (a figure-level function with similar flexibility) or `histplot` (an axes-level function for histograms).\n",
      "  warnings.warn(msg, FutureWarning)\n"
     ]
    },
    {
     "data": {
      "image/png": "[encoded data removed]",
      "text/plain": [
       "<Figure size 432x288 with 1 Axes>"
      ]
     },
     "metadata": {
      "needs_background": "light"
     },
     "output_type": "display_data"
    },
    {
     "name": "stdout",
     "output_type": "stream",
     "text": [
      "similar_products\n"
     ]
    },
    {
     "name": "stderr",
     "output_type": "stream",
     "text": [
      "C:\\Users\\parag\\anaconda3\\lib\\site-packages\\seaborn\\distributions.py:2619: FutureWarning: `distplot` is a deprecated function and will be removed in a future version. Please adapt your code to use either `displot` (a figure-level function with similar flexibility) or `histplot` (an axes-level function for histograms).\n",
      "  warnings.warn(msg, FutureWarning)\n"
     ]
    },
    {
     "data": {
      "image/png": "[encoded data removed]",
      "text/plain": [
       "<Figure size 432x288 with 1 Axes>"
      ]
     },
     "metadata": {
      "needs_background": "light"
     },
     "output_type": "display_data"
    },
    {
     "name": "stdout",
     "output_type": "stream",
     "text": [
      "merchant_id\n"
     ]
    },
    {
     "name": "stderr",
     "output_type": "stream",
     "text": [
      "C:\\Users\\parag\\anaconda3\\lib\\site-packages\\seaborn\\distributions.py:2619: FutureWarning: `distplot` is a deprecated function and will be removed in a future version. Please adapt your code to use either `displot` (a figure-level function with similar flexibility) or `histplot` (an axes-level function for histograms).\n",
      "  warnings.warn(msg, FutureWarning)\n"
     ]
    },
    {
     "data": {
      "image/png": "[encoded data removed]",
      "text/plain": [
       "<Figure size 432x288 with 1 Axes>"
      ]
     },
     "metadata": {
      "needs_background": "light"
     },
     "output_type": "display_data"
    },
    {
     "name": "stdout",
     "output_type": "stream",
     "text": [
      "initial_price\n"
     ]
    },
    {
     "name": "stderr",
     "output_type": "stream",
     "text": [
      "C:\\Users\\parag\\anaconda3\\lib\\site-packages\\seaborn\\distributions.py:2619: FutureWarning: `distplot` is a deprecated function and will be removed in a future version. Please adapt your code to use either `displot` (a figure-level function with similar flexibility) or `histplot` (an axes-level function for histograms).\n",
      "  warnings.warn(msg, FutureWarning)\n"
     ]
    },
    {
     "data": {
      "image/png": "[encoded data removed]",
      "text/plain": [
       "<Figure size 432x288 with 1 Axes>"
      ]
     },
     "metadata": {
      "needs_background": "light"
     },
     "output_type": "display_data"
    },
    {
     "name": "stdout",
     "output_type": "stream",
     "text": [
      "stock_total\n"
     ]
    },
    {
     "name": "stderr",
     "output_type": "stream",
     "text": [
      "C:\\Users\\parag\\anaconda3\\lib\\site-packages\\seaborn\\distributions.py:2619: FutureWarning: `distplot` is a deprecated function and will be removed in a future version. Please adapt your code to use either `displot` (a figure-level function with similar flexibility) or `histplot` (an axes-level function for histograms).\n",
      "  warnings.warn(msg, FutureWarning)\n"
     ]
    },
    {
     "data": {
      "image/png": "[encoded data removed]",
      "text/plain": [
       "<Figure size 432x288 with 1 Axes>"
      ]
     },
     "metadata": {
      "needs_background": "light"
     },
     "output_type": "display_data"
    },
    {
     "name": "stdout",
     "output_type": "stream",
     "text": [
      "sizes\n"
     ]
    },
    {
     "name": "stderr",
     "output_type": "stream",
     "text": [
      "C:\\Users\\parag\\anaconda3\\lib\\site-packages\\seaborn\\distributions.py:2619: FutureWarning: `distplot` is a deprecated function and will be removed in a future version. Please adapt your code to use either `displot` (a figure-level function with similar flexibility) or `histplot` (an axes-level function for histograms).\n",
      "  warnings.warn(msg, FutureWarning)\n"
     ]
    },
    {
     "data": {
      "image/png": "[encoded data removed]",
      "text/plain": [
       "<Figure size 432x288 with 1 Axes>"
      ]
     },
     "metadata": {
      "needs_background": "light"
     },
     "output_type": "display_data"
    }
   ],
   "source": [
    "# Checking numerical data\n",
    "\n",
    "for col in numerical.columns:\n",
    "    print (col)\n",
    "    sns.distplot(numerical[col])\n",
    "    plt.show()"
   ]
  },
  {
   "cell_type": "code",
   "execution_count": 58,
   "metadata": {},
   "outputs": [
    {
     "name": "stdout",
     "output_type": "stream",
     "text": [
      "brand_id\n"
     ]
    },
    {
     "data": {
      "image/png": "[encoded data removed]",
      "text/plain": [
       "<Figure size 432x288 with 1 Axes>"
      ]
     },
     "metadata": {
      "needs_background": "light"
     },
     "output_type": "display_data"
    },
    {
     "name": "stdout",
     "output_type": "stream",
     "text": [
      "similar_products\n"
     ]
    },
    {
     "ename": "TypeError",
     "evalue": "numpy boolean subtract, the `-` operator, is not supported, use the bitwise_xor, the `^` operator, or the logical_xor function instead.",
     "output_type": "error",
     "traceback": [
      "\u001b[1;31m---------------------------------------------------------------------------\u001b[0m",
      "\u001b[1;31mTypeError\u001b[0m                                 Traceback (most recent call last)",
      "\u001b[1;32m~\\AppData\\Local\\Temp/ipykernel_19576/2085223493.py\u001b[0m in \u001b[0;36m<module>\u001b[1;34m\u001b[0m\n\u001b[0;32m      3\u001b[0m \u001b[1;32mfor\u001b[0m \u001b[0mi\u001b[0m \u001b[1;32min\u001b[0m \u001b[0mnumerical\u001b[0m\u001b[1;33m.\u001b[0m\u001b[0mcolumns\u001b[0m\u001b[1;33m:\u001b[0m\u001b[1;33m\u001b[0m\u001b[1;33m\u001b[0m\u001b[0m\n\u001b[0;32m      4\u001b[0m     \u001b[0mprint\u001b[0m \u001b[1;33m(\u001b[0m\u001b[0mi\u001b[0m\u001b[1;33m)\u001b[0m\u001b[1;33m\u001b[0m\u001b[1;33m\u001b[0m\u001b[0m\n\u001b[1;32m----> 5\u001b[1;33m     \u001b[0msns\u001b[0m\u001b[1;33m.\u001b[0m\u001b[0mboxplot\u001b[0m\u001b[1;33m(\u001b[0m\u001b[0mx\u001b[0m\u001b[1;33m=\u001b[0m\u001b[0mnumerical\u001b[0m\u001b[1;33m[\u001b[0m\u001b[0mi\u001b[0m\u001b[1;33m]\u001b[0m\u001b[1;33m)\u001b[0m\u001b[1;33m\u001b[0m\u001b[1;33m\u001b[0m\u001b[0m\n\u001b[0m\u001b[0;32m      6\u001b[0m     \u001b[0mplt\u001b[0m\u001b[1;33m.\u001b[0m\u001b[0mshow\u001b[0m\u001b[1;33m(\u001b[0m\u001b[1;33m)\u001b[0m\u001b[1;33m\u001b[0m\u001b[1;33m\u001b[0m\u001b[0m\n",
      "\u001b[1;32m~\\anaconda3\\lib\\site-packages\\seaborn\\_decorators.py\u001b[0m in \u001b[0;36minner_f\u001b[1;34m(*args, **kwargs)\u001b[0m\n\u001b[0;32m     44\u001b[0m             )\n\u001b[0;32m     45\u001b[0m         \u001b[0mkwargs\u001b[0m\u001b[1;33m.\u001b[0m\u001b[0mupdate\u001b[0m\u001b[1;33m(\u001b[0m\u001b[1;33m{\u001b[0m\u001b[0mk\u001b[0m\u001b[1;33m:\u001b[0m \u001b[0marg\u001b[0m \u001b[1;32mfor\u001b[0m \u001b[0mk\u001b[0m\u001b[1;33m,\u001b[0m \u001b[0marg\u001b[0m \u001b[1;32min\u001b[0m \u001b[0mzip\u001b[0m\u001b[1;33m(\u001b[0m\u001b[0msig\u001b[0m\u001b[1;33m.\u001b[0m\u001b[0mparameters\u001b[0m\u001b[1;33m,\u001b[0m \u001b[0margs\u001b[0m\u001b[1;33m)\u001b[0m\u001b[1;33m}\u001b[0m\u001b[1;33m)\u001b[0m\u001b[1;33m\u001b[0m\u001b[1;33m\u001b[0m\u001b[0m\n\u001b[1;32m---> 46\u001b[1;33m         \u001b[1;32mreturn\u001b[0m \u001b[0mf\u001b[0m\u001b[1;33m(\u001b[0m\u001b[1;33m**\u001b[0m\u001b[0mkwargs\u001b[0m\u001b[1;33m)\u001b[0m\u001b[1;33m\u001b[0m\u001b[1;33m\u001b[0m\u001b[0m\n\u001b[0m\u001b[0;32m     47\u001b[0m     \u001b[1;32mreturn\u001b[0m \u001b[0minner_f\u001b[0m\u001b[1;33m\u001b[0m\u001b[1;33m\u001b[0m\u001b[0m\n\u001b[0;32m     48\u001b[0m \u001b[1;33m\u001b[0m\u001b[0m\n",
      "\u001b[1;32m~\\anaconda3\\lib\\site-packages\\seaborn\\categorical.py\u001b[0m in \u001b[0;36mboxplot\u001b[1;34m(x, y, hue, data, order, hue_order, orient, color, palette, saturation, width, dodge, fliersize, linewidth, whis, ax, **kwargs)\u001b[0m\n\u001b[0;32m   2249\u001b[0m     \u001b[0mkwargs\u001b[0m\u001b[1;33m.\u001b[0m\u001b[0mupdate\u001b[0m\u001b[1;33m(\u001b[0m\u001b[0mdict\u001b[0m\u001b[1;33m(\u001b[0m\u001b[0mwhis\u001b[0m\u001b[1;33m=\u001b[0m\u001b[0mwhis\u001b[0m\u001b[1;33m)\u001b[0m\u001b[1;33m)\u001b[0m\u001b[1;33m\u001b[0m\u001b[1;33m\u001b[0m\u001b[0m\n\u001b[0;32m   2250\u001b[0m \u001b[1;33m\u001b[0m\u001b[0m\n\u001b[1;32m-> 2251\u001b[1;33m     \u001b[0mplotter\u001b[0m\u001b[1;33m.\u001b[0m\u001b[0mplot\u001b[0m\u001b[1;33m(\u001b[0m\u001b[0max\u001b[0m\u001b[1;33m,\u001b[0m \u001b[0mkwargs\u001b[0m\u001b[1;33m)\u001b[0m\u001b[1;33m\u001b[0m\u001b[1;33m\u001b[0m\u001b[0m\n\u001b[0m\u001b[0;32m   2252\u001b[0m     \u001b[1;32mreturn\u001b[0m \u001b[0max\u001b[0m\u001b[1;33m\u001b[0m\u001b[1;33m\u001b[0m\u001b[0m\n\u001b[0;32m   2253\u001b[0m \u001b[1;33m\u001b[0m\u001b[0m\n",
      "\u001b[1;32m~\\anaconda3\\lib\\site-packages\\seaborn\\categorical.py\u001b[0m in \u001b[0;36mplot\u001b[1;34m(self, ax, boxplot_kws)\u001b[0m\n\u001b[0;32m    507\u001b[0m     \u001b[1;32mdef\u001b[0m \u001b[0mplot\u001b[0m\u001b[1;33m(\u001b[0m\u001b[0mself\u001b[0m\u001b[1;33m,\u001b[0m \u001b[0max\u001b[0m\u001b[1;33m,\u001b[0m \u001b[0mboxplot_kws\u001b[0m\u001b[1;33m)\u001b[0m\u001b[1;33m:\u001b[0m\u001b[1;33m\u001b[0m\u001b[1;33m\u001b[0m\u001b[0m\n\u001b[0;32m    508\u001b[0m         \u001b[1;34m\"\"\"Make the plot.\"\"\"\u001b[0m\u001b[1;33m\u001b[0m\u001b[1;33m\u001b[0m\u001b[0m\n\u001b[1;32m--> 509\u001b[1;33m         \u001b[0mself\u001b[0m\u001b[1;33m.\u001b[0m\u001b[0mdraw_boxplot\u001b[0m\u001b[1;33m(\u001b[0m\u001b[0max\u001b[0m\u001b[1;33m,\u001b[0m \u001b[0mboxplot_kws\u001b[0m\u001b[1;33m)\u001b[0m\u001b[1;33m\u001b[0m\u001b[1;33m\u001b[0m\u001b[0m\n\u001b[0m\u001b[0;32m    510\u001b[0m         \u001b[0mself\u001b[0m\u001b[1;33m.\u001b[0m\u001b[0mannotate_axes\u001b[0m\u001b[1;33m(\u001b[0m\u001b[0max\u001b[0m\u001b[1;33m)\u001b[0m\u001b[1;33m\u001b[0m\u001b[1;33m\u001b[0m\u001b[0m\n\u001b[0;32m    511\u001b[0m         \u001b[1;32mif\u001b[0m \u001b[0mself\u001b[0m\u001b[1;33m.\u001b[0m\u001b[0morient\u001b[0m \u001b[1;33m==\u001b[0m \u001b[1;34m\"h\"\u001b[0m\u001b[1;33m:\u001b[0m\u001b[1;33m\u001b[0m\u001b[1;33m\u001b[0m\u001b[0m\n",
      "\u001b[1;32m~\\anaconda3\\lib\\site-packages\\seaborn\\categorical.py\u001b[0m in \u001b[0;36mdraw_boxplot\u001b[1;34m(self, ax, kws)\u001b[0m\n\u001b[0;32m    439\u001b[0m                     \u001b[1;32mcontinue\u001b[0m\u001b[1;33m\u001b[0m\u001b[1;33m\u001b[0m\u001b[0m\n\u001b[0;32m    440\u001b[0m \u001b[1;33m\u001b[0m\u001b[0m\n\u001b[1;32m--> 441\u001b[1;33m                 artist_dict = ax.boxplot(box_data,\n\u001b[0m\u001b[0;32m    442\u001b[0m                                          \u001b[0mvert\u001b[0m\u001b[1;33m=\u001b[0m\u001b[0mvert\u001b[0m\u001b[1;33m,\u001b[0m\u001b[1;33m\u001b[0m\u001b[1;33m\u001b[0m\u001b[0m\n\u001b[0;32m    443\u001b[0m                                          \u001b[0mpatch_artist\u001b[0m\u001b[1;33m=\u001b[0m\u001b[1;32mTrue\u001b[0m\u001b[1;33m,\u001b[0m\u001b[1;33m\u001b[0m\u001b[1;33m\u001b[0m\u001b[0m\n",
      "\u001b[1;32m~\\anaconda3\\lib\\site-packages\\matplotlib\\__init__.py\u001b[0m in \u001b[0;36minner\u001b[1;34m(ax, data, *args, **kwargs)\u001b[0m\n\u001b[0;32m   1359\u001b[0m     \u001b[1;32mdef\u001b[0m \u001b[0minner\u001b[0m\u001b[1;33m(\u001b[0m\u001b[0max\u001b[0m\u001b[1;33m,\u001b[0m \u001b[1;33m*\u001b[0m\u001b[0margs\u001b[0m\u001b[1;33m,\u001b[0m \u001b[0mdata\u001b[0m\u001b[1;33m=\u001b[0m\u001b[1;32mNone\u001b[0m\u001b[1;33m,\u001b[0m \u001b[1;33m**\u001b[0m\u001b[0mkwargs\u001b[0m\u001b[1;33m)\u001b[0m\u001b[1;33m:\u001b[0m\u001b[1;33m\u001b[0m\u001b[1;33m\u001b[0m\u001b[0m\n\u001b[0;32m   1360\u001b[0m         \u001b[1;32mif\u001b[0m \u001b[0mdata\u001b[0m \u001b[1;32mis\u001b[0m \u001b[1;32mNone\u001b[0m\u001b[1;33m:\u001b[0m\u001b[1;33m\u001b[0m\u001b[1;33m\u001b[0m\u001b[0m\n\u001b[1;32m-> 1361\u001b[1;33m             \u001b[1;32mreturn\u001b[0m \u001b[0mfunc\u001b[0m\u001b[1;33m(\u001b[0m\u001b[0max\u001b[0m\u001b[1;33m,\u001b[0m \u001b[1;33m*\u001b[0m\u001b[0mmap\u001b[0m\u001b[1;33m(\u001b[0m\u001b[0msanitize_sequence\u001b[0m\u001b[1;33m,\u001b[0m \u001b[0margs\u001b[0m\u001b[1;33m)\u001b[0m\u001b[1;33m,\u001b[0m \u001b[1;33m**\u001b[0m\u001b[0mkwargs\u001b[0m\u001b[1;33m)\u001b[0m\u001b[1;33m\u001b[0m\u001b[1;33m\u001b[0m\u001b[0m\n\u001b[0m\u001b[0;32m   1362\u001b[0m \u001b[1;33m\u001b[0m\u001b[0m\n\u001b[0;32m   1363\u001b[0m         \u001b[0mbound\u001b[0m \u001b[1;33m=\u001b[0m \u001b[0mnew_sig\u001b[0m\u001b[1;33m.\u001b[0m\u001b[0mbind\u001b[0m\u001b[1;33m(\u001b[0m\u001b[0max\u001b[0m\u001b[1;33m,\u001b[0m \u001b[1;33m*\u001b[0m\u001b[0margs\u001b[0m\u001b[1;33m,\u001b[0m \u001b[1;33m**\u001b[0m\u001b[0mkwargs\u001b[0m\u001b[1;33m)\u001b[0m\u001b[1;33m\u001b[0m\u001b[1;33m\u001b[0m\u001b[0m\n",
      "\u001b[1;32m~\\anaconda3\\lib\\site-packages\\matplotlib\\axes\\_axes.py\u001b[0m in \u001b[0;36mboxplot\u001b[1;34m(self, x, notch, sym, vert, whis, positions, widths, patch_artist, bootstrap, usermedians, conf_intervals, meanline, showmeans, showcaps, showbox, showfliers, boxprops, labels, flierprops, medianprops, meanprops, capprops, whiskerprops, manage_ticks, autorange, zorder)\u001b[0m\n\u001b[0;32m   3743\u001b[0m             \u001b[0mbootstrap\u001b[0m \u001b[1;33m=\u001b[0m \u001b[0mrcParams\u001b[0m\u001b[1;33m[\u001b[0m\u001b[1;34m'boxplot.bootstrap'\u001b[0m\u001b[1;33m]\u001b[0m\u001b[1;33m\u001b[0m\u001b[1;33m\u001b[0m\u001b[0m\n\u001b[0;32m   3744\u001b[0m \u001b[1;33m\u001b[0m\u001b[0m\n\u001b[1;32m-> 3745\u001b[1;33m         bxpstats = cbook.boxplot_stats(x, whis=whis, bootstrap=bootstrap,\n\u001b[0m\u001b[0;32m   3746\u001b[0m                                        labels=labels, autorange=autorange)\n\u001b[0;32m   3747\u001b[0m         \u001b[1;32mif\u001b[0m \u001b[0mnotch\u001b[0m \u001b[1;32mis\u001b[0m \u001b[1;32mNone\u001b[0m\u001b[1;33m:\u001b[0m\u001b[1;33m\u001b[0m\u001b[1;33m\u001b[0m\u001b[0m\n",
      "\u001b[1;32m~\\anaconda3\\lib\\site-packages\\matplotlib\\cbook\\__init__.py\u001b[0m in \u001b[0;36mboxplot_stats\u001b[1;34m(X, whis, bootstrap, labels, autorange)\u001b[0m\n\u001b[0;32m   1231\u001b[0m \u001b[1;33m\u001b[0m\u001b[0m\n\u001b[0;32m   1232\u001b[0m         \u001b[1;31m# medians and quartiles\u001b[0m\u001b[1;33m\u001b[0m\u001b[1;33m\u001b[0m\u001b[0m\n\u001b[1;32m-> 1233\u001b[1;33m         \u001b[0mq1\u001b[0m\u001b[1;33m,\u001b[0m \u001b[0mmed\u001b[0m\u001b[1;33m,\u001b[0m \u001b[0mq3\u001b[0m \u001b[1;33m=\u001b[0m \u001b[0mnp\u001b[0m\u001b[1;33m.\u001b[0m\u001b[0mpercentile\u001b[0m\u001b[1;33m(\u001b[0m\u001b[0mx\u001b[0m\u001b[1;33m,\u001b[0m \u001b[1;33m[\u001b[0m\u001b[1;36m25\u001b[0m\u001b[1;33m,\u001b[0m \u001b[1;36m50\u001b[0m\u001b[1;33m,\u001b[0m \u001b[1;36m75\u001b[0m\u001b[1;33m]\u001b[0m\u001b[1;33m)\u001b[0m\u001b[1;33m\u001b[0m\u001b[1;33m\u001b[0m\u001b[0m\n\u001b[0m\u001b[0;32m   1234\u001b[0m \u001b[1;33m\u001b[0m\u001b[0m\n\u001b[0;32m   1235\u001b[0m         \u001b[1;31m# interquartile range\u001b[0m\u001b[1;33m\u001b[0m\u001b[1;33m\u001b[0m\u001b[0m\n",
      "\u001b[1;32m<__array_function__ internals>\u001b[0m in \u001b[0;36mpercentile\u001b[1;34m(*args, **kwargs)\u001b[0m\n",
      "\u001b[1;32m~\\anaconda3\\lib\\site-packages\\numpy\\lib\\function_base.py\u001b[0m in \u001b[0;36mpercentile\u001b[1;34m(a, q, axis, out, overwrite_input, interpolation, keepdims)\u001b[0m\n\u001b[0;32m   3816\u001b[0m     \u001b[1;32mif\u001b[0m \u001b[1;32mnot\u001b[0m \u001b[0m_quantile_is_valid\u001b[0m\u001b[1;33m(\u001b[0m\u001b[0mq\u001b[0m\u001b[1;33m)\u001b[0m\u001b[1;33m:\u001b[0m\u001b[1;33m\u001b[0m\u001b[1;33m\u001b[0m\u001b[0m\n\u001b[0;32m   3817\u001b[0m         \u001b[1;32mraise\u001b[0m \u001b[0mValueError\u001b[0m\u001b[1;33m(\u001b[0m\u001b[1;34m\"Percentiles must be in the range [0, 100]\"\u001b[0m\u001b[1;33m)\u001b[0m\u001b[1;33m\u001b[0m\u001b[1;33m\u001b[0m\u001b[0m\n\u001b[1;32m-> 3818\u001b[1;33m     return _quantile_unchecked(\n\u001b[0m\u001b[0;32m   3819\u001b[0m         a, q, axis, out, overwrite_input, interpolation, keepdims)\n\u001b[0;32m   3820\u001b[0m \u001b[1;33m\u001b[0m\u001b[0m\n",
      "\u001b[1;32m~\\anaconda3\\lib\\site-packages\\numpy\\lib\\function_base.py\u001b[0m in \u001b[0;36m_quantile_unchecked\u001b[1;34m(a, q, axis, out, overwrite_input, interpolation, keepdims)\u001b[0m\n\u001b[0;32m   3935\u001b[0m                         interpolation='linear', keepdims=False):\n\u001b[0;32m   3936\u001b[0m     \u001b[1;34m\"\"\"Assumes that q is in [0, 1], and is an ndarray\"\"\"\u001b[0m\u001b[1;33m\u001b[0m\u001b[1;33m\u001b[0m\u001b[0m\n\u001b[1;32m-> 3937\u001b[1;33m     r, k = _ureduce(a, func=_quantile_ureduce_func, q=q, axis=axis, out=out,\n\u001b[0m\u001b[0;32m   3938\u001b[0m                     \u001b[0moverwrite_input\u001b[0m\u001b[1;33m=\u001b[0m\u001b[0moverwrite_input\u001b[0m\u001b[1;33m,\u001b[0m\u001b[1;33m\u001b[0m\u001b[1;33m\u001b[0m\u001b[0m\n\u001b[0;32m   3939\u001b[0m                     interpolation=interpolation)\n",
      "\u001b[1;32m~\\anaconda3\\lib\\site-packages\\numpy\\lib\\function_base.py\u001b[0m in \u001b[0;36m_ureduce\u001b[1;34m(a, func, **kwargs)\u001b[0m\n\u001b[0;32m   3513\u001b[0m         \u001b[0mkeepdim\u001b[0m \u001b[1;33m=\u001b[0m \u001b[1;33m(\u001b[0m\u001b[1;36m1\u001b[0m\u001b[1;33m,\u001b[0m\u001b[1;33m)\u001b[0m \u001b[1;33m*\u001b[0m \u001b[0ma\u001b[0m\u001b[1;33m.\u001b[0m\u001b[0mndim\u001b[0m\u001b[1;33m\u001b[0m\u001b[1;33m\u001b[0m\u001b[0m\n\u001b[0;32m   3514\u001b[0m \u001b[1;33m\u001b[0m\u001b[0m\n\u001b[1;32m-> 3515\u001b[1;33m     \u001b[0mr\u001b[0m \u001b[1;33m=\u001b[0m \u001b[0mfunc\u001b[0m\u001b[1;33m(\u001b[0m\u001b[0ma\u001b[0m\u001b[1;33m,\u001b[0m \u001b[1;33m**\u001b[0m\u001b[0mkwargs\u001b[0m\u001b[1;33m)\u001b[0m\u001b[1;33m\u001b[0m\u001b[1;33m\u001b[0m\u001b[0m\n\u001b[0m\u001b[0;32m   3516\u001b[0m     \u001b[1;32mreturn\u001b[0m \u001b[0mr\u001b[0m\u001b[1;33m,\u001b[0m \u001b[0mkeepdim\u001b[0m\u001b[1;33m\u001b[0m\u001b[1;33m\u001b[0m\u001b[0m\n\u001b[0;32m   3517\u001b[0m \u001b[1;33m\u001b[0m\u001b[0m\n",
      "\u001b[1;32m~\\anaconda3\\lib\\site-packages\\numpy\\lib\\function_base.py\u001b[0m in \u001b[0;36m_quantile_ureduce_func\u001b[1;34m(***failed resolving arguments***)\u001b[0m\n\u001b[0;32m   4062\u001b[0m         \u001b[0mx_above\u001b[0m \u001b[1;33m=\u001b[0m \u001b[0mtake\u001b[0m\u001b[1;33m(\u001b[0m\u001b[0map\u001b[0m\u001b[1;33m,\u001b[0m \u001b[0mindices_above\u001b[0m\u001b[1;33m,\u001b[0m \u001b[0maxis\u001b[0m\u001b[1;33m=\u001b[0m\u001b[1;36m0\u001b[0m\u001b[1;33m)\u001b[0m\u001b[1;33m\u001b[0m\u001b[1;33m\u001b[0m\u001b[0m\n\u001b[0;32m   4063\u001b[0m \u001b[1;33m\u001b[0m\u001b[0m\n\u001b[1;32m-> 4064\u001b[1;33m         \u001b[0mr\u001b[0m \u001b[1;33m=\u001b[0m \u001b[0m_lerp\u001b[0m\u001b[1;33m(\u001b[0m\u001b[0mx_below\u001b[0m\u001b[1;33m,\u001b[0m \u001b[0mx_above\u001b[0m\u001b[1;33m,\u001b[0m \u001b[0mweights_above\u001b[0m\u001b[1;33m,\u001b[0m \u001b[0mout\u001b[0m\u001b[1;33m=\u001b[0m\u001b[0mout\u001b[0m\u001b[1;33m)\u001b[0m\u001b[1;33m\u001b[0m\u001b[1;33m\u001b[0m\u001b[0m\n\u001b[0m\u001b[0;32m   4065\u001b[0m \u001b[1;33m\u001b[0m\u001b[0m\n\u001b[0;32m   4066\u001b[0m     \u001b[1;31m# if any slice contained a nan, then all results on that slice are also nan\u001b[0m\u001b[1;33m\u001b[0m\u001b[1;33m\u001b[0m\u001b[0m\n",
      "\u001b[1;32m~\\anaconda3\\lib\\site-packages\\numpy\\lib\\function_base.py\u001b[0m in \u001b[0;36m_lerp\u001b[1;34m(a, b, t, out)\u001b[0m\n\u001b[0;32m   3959\u001b[0m \u001b[1;32mdef\u001b[0m \u001b[0m_lerp\u001b[0m\u001b[1;33m(\u001b[0m\u001b[0ma\u001b[0m\u001b[1;33m,\u001b[0m \u001b[0mb\u001b[0m\u001b[1;33m,\u001b[0m \u001b[0mt\u001b[0m\u001b[1;33m,\u001b[0m \u001b[0mout\u001b[0m\u001b[1;33m=\u001b[0m\u001b[1;32mNone\u001b[0m\u001b[1;33m)\u001b[0m\u001b[1;33m:\u001b[0m\u001b[1;33m\u001b[0m\u001b[1;33m\u001b[0m\u001b[0m\n\u001b[0;32m   3960\u001b[0m     \u001b[1;34m\"\"\" Linearly interpolate from a to b by a factor of t \"\"\"\u001b[0m\u001b[1;33m\u001b[0m\u001b[1;33m\u001b[0m\u001b[0m\n\u001b[1;32m-> 3961\u001b[1;33m     \u001b[0mdiff_b_a\u001b[0m \u001b[1;33m=\u001b[0m \u001b[0msubtract\u001b[0m\u001b[1;33m(\u001b[0m\u001b[0mb\u001b[0m\u001b[1;33m,\u001b[0m \u001b[0ma\u001b[0m\u001b[1;33m)\u001b[0m\u001b[1;33m\u001b[0m\u001b[1;33m\u001b[0m\u001b[0m\n\u001b[0m\u001b[0;32m   3962\u001b[0m     \u001b[1;31m# asanyarray is a stop-gap until gh-13105\u001b[0m\u001b[1;33m\u001b[0m\u001b[1;33m\u001b[0m\u001b[0m\n\u001b[0;32m   3963\u001b[0m     \u001b[0mlerp_interpolation\u001b[0m \u001b[1;33m=\u001b[0m \u001b[0masanyarray\u001b[0m\u001b[1;33m(\u001b[0m\u001b[0madd\u001b[0m\u001b[1;33m(\u001b[0m\u001b[0ma\u001b[0m\u001b[1;33m,\u001b[0m \u001b[0mdiff_b_a\u001b[0m\u001b[1;33m*\u001b[0m\u001b[0mt\u001b[0m\u001b[1;33m,\u001b[0m \u001b[0mout\u001b[0m\u001b[1;33m=\u001b[0m\u001b[0mout\u001b[0m\u001b[1;33m)\u001b[0m\u001b[1;33m)\u001b[0m\u001b[1;33m\u001b[0m\u001b[1;33m\u001b[0m\u001b[0m\n",
      "\u001b[1;31mTypeError\u001b[0m: numpy boolean subtract, the `-` operator, is not supported, use the bitwise_xor, the `^` operator, or the logical_xor function instead."
     ]
    },
    {
     "data": {
      "image/png": "[encoded data removed]",
      "text/plain": [
       "<Figure size 432x288 with 1 Axes>"
      ]
     },
     "metadata": {
      "needs_background": "light"
     },
     "output_type": "display_data"
    }
   ],
   "source": [
    "# Checking for outliers\n",
    "\n",
    "for i in numerical.columns:\n",
    "    print (i)\n",
    "    sns.boxplot(x=numerical[i])\n",
    "    plt.show()"
   ]
  },
  {
   "cell_type": "code",
   "execution_count": 65,
   "metadata": {},
   "outputs": [
    {
     "data": {
      "text/html": [
       "<div>\n",
       "<style scoped>\n",
       "    .dataframe tbody tr th:only-of-type {\n",
       "        vertical-align: middle;\n",
       "    }\n",
       "\n",
       "    .dataframe tbody tr th {\n",
       "        vertical-align: top;\n",
       "    }\n",
       "\n",
       "    .dataframe thead th {\n",
       "        text-align: right;\n",
       "    }\n",
       "</style>\n",
       "<table border=\"1\" class=\"dataframe\">\n",
       "  <thead>\n",
       "    <tr style=\"text-align: right;\">\n",
       "      <th></th>\n",
       "      <th>gender</th>\n",
       "      <th>merchandise_label</th>\n",
       "    </tr>\n",
       "  </thead>\n",
       "  <tbody>\n",
       "    <tr>\n",
       "      <th>0</th>\n",
       "      <td>women</td>\n",
       "      <td>NoTag</td>\n",
       "    </tr>\n",
       "    <tr>\n",
       "      <th>1</th>\n",
       "      <td>women</td>\n",
       "      <td>NoTag</td>\n",
       "    </tr>\n",
       "    <tr>\n",
       "      <th>2</th>\n",
       "      <td>women</td>\n",
       "      <td>NoTag</td>\n",
       "    </tr>\n",
       "    <tr>\n",
       "      <th>3</th>\n",
       "      <td>women</td>\n",
       "      <td>NoTag</td>\n",
       "    </tr>\n",
       "    <tr>\n",
       "      <th>4</th>\n",
       "      <td>women</td>\n",
       "      <td>NoTag</td>\n",
       "    </tr>\n",
       "    <tr>\n",
       "      <th>...</th>\n",
       "      <td>...</td>\n",
       "      <td>...</td>\n",
       "    </tr>\n",
       "    <tr>\n",
       "      <th>188812</th>\n",
       "      <td>unisex</td>\n",
       "      <td>Permanent Collection</td>\n",
       "    </tr>\n",
       "    <tr>\n",
       "      <th>188813</th>\n",
       "      <td>unisex</td>\n",
       "      <td>NoTag</td>\n",
       "    </tr>\n",
       "    <tr>\n",
       "      <th>188814</th>\n",
       "      <td>unisex</td>\n",
       "      <td>NoTag</td>\n",
       "    </tr>\n",
       "    <tr>\n",
       "      <th>188815</th>\n",
       "      <td>unisex</td>\n",
       "      <td>NoTag</td>\n",
       "    </tr>\n",
       "    <tr>\n",
       "      <th>188816</th>\n",
       "      <td>unisex</td>\n",
       "      <td>NoTag</td>\n",
       "    </tr>\n",
       "  </tbody>\n",
       "</table>\n",
       "<p>188817 rows × 2 columns</p>\n",
       "</div>"
      ],
      "text/plain": [
       "        gender     merchandise_label\n",
       "0        women                 NoTag\n",
       "1        women                 NoTag\n",
       "2        women                 NoTag\n",
       "3        women                 NoTag\n",
       "4        women                 NoTag\n",
       "...        ...                   ...\n",
       "188812  unisex  Permanent Collection\n",
       "188813  unisex                 NoTag\n",
       "188814  unisex                 NoTag\n",
       "188815  unisex                 NoTag\n",
       "188816  unisex                 NoTag\n",
       "\n",
       "[188817 rows x 2 columns]"
      ]
     },
     "execution_count": 65,
     "metadata": {},
     "output_type": "execute_result"
    }
   ],
   "source": [
    "categorical=farfetch_1[['gender','merchandise_label']]\n",
    "categorical"
   ]
  },
  {
   "cell_type": "markdown",
   "metadata": {},
   "source": [
    "#### Scaling Features (numerical features have big differences from each other)"
   ]
  },
  {
   "cell_type": "code",
   "execution_count": 66,
   "metadata": {},
   "outputs": [],
   "source": [
    "import pandas as pd\n",
    "from sklearn import datasets\n",
    "from sklearn.preprocessing import StandardScaler\n",
    "import pickle\n",
    "\n",
    "scaler = StandardScaler().fit(numerical)\n",
    "numericals = scaler.transform(numerical)\n",
    "numericals\n",
    "\n",
    "with open('scaler.pkl', 'wb') as file:\n",
    "    pickle.dump(scaler,file)"
   ]
  },
  {
   "cell_type": "code",
   "execution_count": 67,
   "metadata": {},
   "outputs": [
    {
     "data": {
      "text/html": [
       "<div>\n",
       "<style scoped>\n",
       "    .dataframe tbody tr th:only-of-type {\n",
       "        vertical-align: middle;\n",
       "    }\n",
       "\n",
       "    .dataframe tbody tr th {\n",
       "        vertical-align: top;\n",
       "    }\n",
       "\n",
       "    .dataframe thead th {\n",
       "        text-align: right;\n",
       "    }\n",
       "</style>\n",
       "<table border=\"1\" class=\"dataframe\">\n",
       "  <thead>\n",
       "    <tr style=\"text-align: right;\">\n",
       "      <th></th>\n",
       "      <th>0</th>\n",
       "      <th>1</th>\n",
       "      <th>2</th>\n",
       "      <th>3</th>\n",
       "      <th>4</th>\n",
       "      <th>5</th>\n",
       "    </tr>\n",
       "  </thead>\n",
       "  <tbody>\n",
       "    <tr>\n",
       "      <th>0</th>\n",
       "      <td>-0.555411</td>\n",
       "      <td>0.574021</td>\n",
       "      <td>-0.873408</td>\n",
       "      <td>-0.076002</td>\n",
       "      <td>0.219906</td>\n",
       "      <td>-1.176955</td>\n",
       "    </tr>\n",
       "    <tr>\n",
       "      <th>1</th>\n",
       "      <td>0.374526</td>\n",
       "      <td>0.574021</td>\n",
       "      <td>-0.921126</td>\n",
       "      <td>-0.373379</td>\n",
       "      <td>-0.029775</td>\n",
       "      <td>2.653887</td>\n",
       "    </tr>\n",
       "    <tr>\n",
       "      <th>2</th>\n",
       "      <td>-0.552152</td>\n",
       "      <td>0.574021</td>\n",
       "      <td>-1.134665</td>\n",
       "      <td>0.007163</td>\n",
       "      <td>0.086456</td>\n",
       "      <td>-1.176955</td>\n",
       "    </tr>\n",
       "    <tr>\n",
       "      <th>3</th>\n",
       "      <td>-0.536673</td>\n",
       "      <td>-1.742095</td>\n",
       "      <td>-1.264697</td>\n",
       "      <td>-0.426302</td>\n",
       "      <td>-0.057756</td>\n",
       "      <td>-0.538481</td>\n",
       "    </tr>\n",
       "    <tr>\n",
       "      <th>4</th>\n",
       "      <td>-0.543445</td>\n",
       "      <td>0.574021</td>\n",
       "      <td>-0.897267</td>\n",
       "      <td>0.008675</td>\n",
       "      <td>0.107980</td>\n",
       "      <td>-1.176955</td>\n",
       "    </tr>\n",
       "    <tr>\n",
       "      <th>...</th>\n",
       "      <td>...</td>\n",
       "      <td>...</td>\n",
       "      <td>...</td>\n",
       "      <td>...</td>\n",
       "      <td>...</td>\n",
       "      <td>...</td>\n",
       "    </tr>\n",
       "    <tr>\n",
       "      <th>188812</th>\n",
       "      <td>-0.532159</td>\n",
       "      <td>-1.742095</td>\n",
       "      <td>-1.195506</td>\n",
       "      <td>-0.516019</td>\n",
       "      <td>-0.046994</td>\n",
       "      <td>-0.538481</td>\n",
       "    </tr>\n",
       "    <tr>\n",
       "      <th>188813</th>\n",
       "      <td>-0.532159</td>\n",
       "      <td>-1.742095</td>\n",
       "      <td>-1.195506</td>\n",
       "      <td>-0.516019</td>\n",
       "      <td>-0.055604</td>\n",
       "      <td>-0.538481</td>\n",
       "    </tr>\n",
       "    <tr>\n",
       "      <th>188814</th>\n",
       "      <td>-0.532159</td>\n",
       "      <td>-1.742095</td>\n",
       "      <td>-1.195506</td>\n",
       "      <td>-0.516019</td>\n",
       "      <td>-0.055604</td>\n",
       "      <td>-0.538481</td>\n",
       "    </tr>\n",
       "    <tr>\n",
       "      <th>188815</th>\n",
       "      <td>-0.532159</td>\n",
       "      <td>-1.742095</td>\n",
       "      <td>-1.195506</td>\n",
       "      <td>-0.516019</td>\n",
       "      <td>-0.038384</td>\n",
       "      <td>-0.538481</td>\n",
       "    </tr>\n",
       "    <tr>\n",
       "      <th>188816</th>\n",
       "      <td>-0.532159</td>\n",
       "      <td>-1.742095</td>\n",
       "      <td>-1.195506</td>\n",
       "      <td>-0.516019</td>\n",
       "      <td>-0.053451</td>\n",
       "      <td>-0.538481</td>\n",
       "    </tr>\n",
       "  </tbody>\n",
       "</table>\n",
       "<p>188817 rows × 6 columns</p>\n",
       "</div>"
      ],
      "text/plain": [
       "               0         1         2         3         4         5\n",
       "0      -0.555411  0.574021 -0.873408 -0.076002  0.219906 -1.176955\n",
       "1       0.374526  0.574021 -0.921126 -0.373379 -0.029775  2.653887\n",
       "2      -0.552152  0.574021 -1.134665  0.007163  0.086456 -1.176955\n",
       "3      -0.536673 -1.742095 -1.264697 -0.426302 -0.057756 -0.538481\n",
       "4      -0.543445  0.574021 -0.897267  0.008675  0.107980 -1.176955\n",
       "...          ...       ...       ...       ...       ...       ...\n",
       "188812 -0.532159 -1.742095 -1.195506 -0.516019 -0.046994 -0.538481\n",
       "188813 -0.532159 -1.742095 -1.195506 -0.516019 -0.055604 -0.538481\n",
       "188814 -0.532159 -1.742095 -1.195506 -0.516019 -0.055604 -0.538481\n",
       "188815 -0.532159 -1.742095 -1.195506 -0.516019 -0.038384 -0.538481\n",
       "188816 -0.532159 -1.742095 -1.195506 -0.516019 -0.053451 -0.538481\n",
       "\n",
       "[188817 rows x 6 columns]"
      ]
     },
     "execution_count": 67,
     "metadata": {},
     "output_type": "execute_result"
    }
   ],
   "source": [
    "numericals = pd.DataFrame(numericals)\n",
    "numericals"
   ]
  },
  {
   "cell_type": "code",
   "execution_count": 68,
   "metadata": {},
   "outputs": [
    {
     "name": "stdout",
     "output_type": "stream",
     "text": [
      "0\n"
     ]
    },
    {
     "name": "stderr",
     "output_type": "stream",
     "text": [
      "C:\\Users\\parag\\anaconda3\\lib\\site-packages\\seaborn\\distributions.py:2619: FutureWarning: `distplot` is a deprecated function and will be removed in a future version. Please adapt your code to use either `displot` (a figure-level function with similar flexibility) or `histplot` (an axes-level function for histograms).\n",
      "  warnings.warn(msg, FutureWarning)\n"
     ]
    },
    {
     "data": {
      "image/png": "[encoded data removed]",
      "text/plain": [
       "<Figure size 432x288 with 1 Axes>"
      ]
     },
     "metadata": {
      "needs_background": "light"
     },
     "output_type": "display_data"
    },
    {
     "name": "stdout",
     "output_type": "stream",
     "text": [
      "1\n"
     ]
    },
    {
     "name": "stderr",
     "output_type": "stream",
     "text": [
      "C:\\Users\\parag\\anaconda3\\lib\\site-packages\\seaborn\\distributions.py:2619: FutureWarning: `distplot` is a deprecated function and will be removed in a future version. Please adapt your code to use either `displot` (a figure-level function with similar flexibility) or `histplot` (an axes-level function for histograms).\n",
      "  warnings.warn(msg, FutureWarning)\n"
     ]
    },
    {
     "data": {
      "image/png": "[encoded data removed]",
      "text/plain": [
       "<Figure size 432x288 with 1 Axes>"
      ]
     },
     "metadata": {
      "needs_background": "light"
     },
     "output_type": "display_data"
    },
    {
     "name": "stdout",
     "output_type": "stream",
     "text": [
      "2\n"
     ]
    },
    {
     "name": "stderr",
     "output_type": "stream",
     "text": [
      "C:\\Users\\parag\\anaconda3\\lib\\site-packages\\seaborn\\distributions.py:2619: FutureWarning: `distplot` is a deprecated function and will be removed in a future version. Please adapt your code to use either `displot` (a figure-level function with similar flexibility) or `histplot` (an axes-level function for histograms).\n",
      "  warnings.warn(msg, FutureWarning)\n"
     ]
    },
    {
     "data": {
      "image/png": "[encoded data removed]",
      "text/plain": [
       "<Figure size 432x288 with 1 Axes>"
      ]
     },
     "metadata": {
      "needs_background": "light"
     },
     "output_type": "display_data"
    },
    {
     "name": "stdout",
     "output_type": "stream",
     "text": [
      "3\n"
     ]
    },
    {
     "name": "stderr",
     "output_type": "stream",
     "text": [
      "C:\\Users\\parag\\anaconda3\\lib\\site-packages\\seaborn\\distributions.py:2619: FutureWarning: `distplot` is a deprecated function and will be removed in a future version. Please adapt your code to use either `displot` (a figure-level function with similar flexibility) or `histplot` (an axes-level function for histograms).\n",
      "  warnings.warn(msg, FutureWarning)\n"
     ]
    },
    {
     "data": {
      "image/png": "[encoded data removed]",
      "text/plain": [
       "<Figure size 432x288 with 1 Axes>"
      ]
     },
     "metadata": {
      "needs_background": "light"
     },
     "output_type": "display_data"
    },
    {
     "name": "stdout",
     "output_type": "stream",
     "text": [
      "4\n"
     ]
    },
    {
     "name": "stderr",
     "output_type": "stream",
     "text": [
      "C:\\Users\\parag\\anaconda3\\lib\\site-packages\\seaborn\\distributions.py:2619: FutureWarning: `distplot` is a deprecated function and will be removed in a future version. Please adapt your code to use either `displot` (a figure-level function with similar flexibility) or `histplot` (an axes-level function for histograms).\n",
      "  warnings.warn(msg, FutureWarning)\n"
     ]
    },
    {
     "data": {
      "image/png": "[encoded data removed]",
      "text/plain": [
       "<Figure size 432x288 with 1 Axes>"
      ]
     },
     "metadata": {
      "needs_background": "light"
     },
     "output_type": "display_data"
    },
    {
     "name": "stdout",
     "output_type": "stream",
     "text": [
      "5\n"
     ]
    },
    {
     "name": "stderr",
     "output_type": "stream",
     "text": [
      "C:\\Users\\parag\\anaconda3\\lib\\site-packages\\seaborn\\distributions.py:2619: FutureWarning: `distplot` is a deprecated function and will be removed in a future version. Please adapt your code to use either `displot` (a figure-level function with similar flexibility) or `histplot` (an axes-level function for histograms).\n",
      "  warnings.warn(msg, FutureWarning)\n"
     ]
    },
    {
     "data": {
      "image/png": "[encoded data removed]",
      "text/plain": [
       "<Figure size 432x288 with 1 Axes>"
      ]
     },
     "metadata": {
      "needs_background": "light"
     },
     "output_type": "display_data"
    }
   ],
   "source": [
    "for col in numericals.columns:\n",
    "    print (col)\n",
    "    sns.distplot(numericals[col])\n",
    "    plt.show()"
   ]
  },
  {
   "cell_type": "markdown",
   "metadata": {},
   "source": [
    "#### Dummify categorical data, to be able to process the model"
   ]
  },
  {
   "cell_type": "code",
   "execution_count": 69,
   "metadata": {},
   "outputs": [],
   "source": [
    "categoricald= pd.get_dummies(categorical)"
   ]
  },
  {
   "cell_type": "code",
   "execution_count": 70,
   "metadata": {},
   "outputs": [
    {
     "data": {
      "text/html": [
       "<div>\n",
       "<style scoped>\n",
       "    .dataframe tbody tr th:only-of-type {\n",
       "        vertical-align: middle;\n",
       "    }\n",
       "\n",
       "    .dataframe tbody tr th {\n",
       "        vertical-align: top;\n",
       "    }\n",
       "\n",
       "    .dataframe thead th {\n",
       "        text-align: right;\n",
       "    }\n",
       "</style>\n",
       "<table border=\"1\" class=\"dataframe\">\n",
       "  <thead>\n",
       "    <tr style=\"text-align: right;\">\n",
       "      <th></th>\n",
       "      <th>gender_unisex</th>\n",
       "      <th>gender_women</th>\n",
       "      <th>merchandise_label_Exclusive</th>\n",
       "      <th>merchandise_label_New Season</th>\n",
       "      <th>merchandise_label_NoTag</th>\n",
       "      <th>merchandise_label_Permanent Collection</th>\n",
       "      <th>merchandise_label_Positively Conscious</th>\n",
       "      <th>merchandise_label_Seasonal Pick</th>\n",
       "    </tr>\n",
       "  </thead>\n",
       "  <tbody>\n",
       "    <tr>\n",
       "      <th>0</th>\n",
       "      <td>0</td>\n",
       "      <td>1</td>\n",
       "      <td>0</td>\n",
       "      <td>0</td>\n",
       "      <td>1</td>\n",
       "      <td>0</td>\n",
       "      <td>0</td>\n",
       "      <td>0</td>\n",
       "    </tr>\n",
       "    <tr>\n",
       "      <th>1</th>\n",
       "      <td>0</td>\n",
       "      <td>1</td>\n",
       "      <td>0</td>\n",
       "      <td>0</td>\n",
       "      <td>1</td>\n",
       "      <td>0</td>\n",
       "      <td>0</td>\n",
       "      <td>0</td>\n",
       "    </tr>\n",
       "    <tr>\n",
       "      <th>2</th>\n",
       "      <td>0</td>\n",
       "      <td>1</td>\n",
       "      <td>0</td>\n",
       "      <td>0</td>\n",
       "      <td>1</td>\n",
       "      <td>0</td>\n",
       "      <td>0</td>\n",
       "      <td>0</td>\n",
       "    </tr>\n",
       "    <tr>\n",
       "      <th>3</th>\n",
       "      <td>0</td>\n",
       "      <td>1</td>\n",
       "      <td>0</td>\n",
       "      <td>0</td>\n",
       "      <td>1</td>\n",
       "      <td>0</td>\n",
       "      <td>0</td>\n",
       "      <td>0</td>\n",
       "    </tr>\n",
       "    <tr>\n",
       "      <th>4</th>\n",
       "      <td>0</td>\n",
       "      <td>1</td>\n",
       "      <td>0</td>\n",
       "      <td>0</td>\n",
       "      <td>1</td>\n",
       "      <td>0</td>\n",
       "      <td>0</td>\n",
       "      <td>0</td>\n",
       "    </tr>\n",
       "    <tr>\n",
       "      <th>...</th>\n",
       "      <td>...</td>\n",
       "      <td>...</td>\n",
       "      <td>...</td>\n",
       "      <td>...</td>\n",
       "      <td>...</td>\n",
       "      <td>...</td>\n",
       "      <td>...</td>\n",
       "      <td>...</td>\n",
       "    </tr>\n",
       "    <tr>\n",
       "      <th>188812</th>\n",
       "      <td>1</td>\n",
       "      <td>0</td>\n",
       "      <td>0</td>\n",
       "      <td>0</td>\n",
       "      <td>0</td>\n",
       "      <td>1</td>\n",
       "      <td>0</td>\n",
       "      <td>0</td>\n",
       "    </tr>\n",
       "    <tr>\n",
       "      <th>188813</th>\n",
       "      <td>1</td>\n",
       "      <td>0</td>\n",
       "      <td>0</td>\n",
       "      <td>0</td>\n",
       "      <td>1</td>\n",
       "      <td>0</td>\n",
       "      <td>0</td>\n",
       "      <td>0</td>\n",
       "    </tr>\n",
       "    <tr>\n",
       "      <th>188814</th>\n",
       "      <td>1</td>\n",
       "      <td>0</td>\n",
       "      <td>0</td>\n",
       "      <td>0</td>\n",
       "      <td>1</td>\n",
       "      <td>0</td>\n",
       "      <td>0</td>\n",
       "      <td>0</td>\n",
       "    </tr>\n",
       "    <tr>\n",
       "      <th>188815</th>\n",
       "      <td>1</td>\n",
       "      <td>0</td>\n",
       "      <td>0</td>\n",
       "      <td>0</td>\n",
       "      <td>1</td>\n",
       "      <td>0</td>\n",
       "      <td>0</td>\n",
       "      <td>0</td>\n",
       "    </tr>\n",
       "    <tr>\n",
       "      <th>188816</th>\n",
       "      <td>1</td>\n",
       "      <td>0</td>\n",
       "      <td>0</td>\n",
       "      <td>0</td>\n",
       "      <td>1</td>\n",
       "      <td>0</td>\n",
       "      <td>0</td>\n",
       "      <td>0</td>\n",
       "    </tr>\n",
       "  </tbody>\n",
       "</table>\n",
       "<p>188817 rows × 8 columns</p>\n",
       "</div>"
      ],
      "text/plain": [
       "        gender_unisex  gender_women  merchandise_label_Exclusive  \\\n",
       "0                   0             1                            0   \n",
       "1                   0             1                            0   \n",
       "2                   0             1                            0   \n",
       "3                   0             1                            0   \n",
       "4                   0             1                            0   \n",
       "...               ...           ...                          ...   \n",
       "188812              1             0                            0   \n",
       "188813              1             0                            0   \n",
       "188814              1             0                            0   \n",
       "188815              1             0                            0   \n",
       "188816              1             0                            0   \n",
       "\n",
       "        merchandise_label_New Season  merchandise_label_NoTag  \\\n",
       "0                                  0                        1   \n",
       "1                                  0                        1   \n",
       "2                                  0                        1   \n",
       "3                                  0                        1   \n",
       "4                                  0                        1   \n",
       "...                              ...                      ...   \n",
       "188812                             0                        0   \n",
       "188813                             0                        1   \n",
       "188814                             0                        1   \n",
       "188815                             0                        1   \n",
       "188816                             0                        1   \n",
       "\n",
       "        merchandise_label_Permanent Collection  \\\n",
       "0                                            0   \n",
       "1                                            0   \n",
       "2                                            0   \n",
       "3                                            0   \n",
       "4                                            0   \n",
       "...                                        ...   \n",
       "188812                                       1   \n",
       "188813                                       0   \n",
       "188814                                       0   \n",
       "188815                                       0   \n",
       "188816                                       0   \n",
       "\n",
       "        merchandise_label_Positively Conscious  \\\n",
       "0                                            0   \n",
       "1                                            0   \n",
       "2                                            0   \n",
       "3                                            0   \n",
       "4                                            0   \n",
       "...                                        ...   \n",
       "188812                                       0   \n",
       "188813                                       0   \n",
       "188814                                       0   \n",
       "188815                                       0   \n",
       "188816                                       0   \n",
       "\n",
       "        merchandise_label_Seasonal Pick  \n",
       "0                                     0  \n",
       "1                                     0  \n",
       "2                                     0  \n",
       "3                                     0  \n",
       "4                                     0  \n",
       "...                                 ...  \n",
       "188812                                0  \n",
       "188813                                0  \n",
       "188814                                0  \n",
       "188815                                0  \n",
       "188816                                0  \n",
       "\n",
       "[188817 rows x 8 columns]"
      ]
     },
     "execution_count": 70,
     "metadata": {},
     "output_type": "execute_result"
    }
   ],
   "source": [
    "categoricald"
   ]
  },
  {
   "cell_type": "code",
   "execution_count": 71,
   "metadata": {},
   "outputs": [
    {
     "data": {
      "text/html": [
       "<div>\n",
       "<style scoped>\n",
       "    .dataframe tbody tr th:only-of-type {\n",
       "        vertical-align: middle;\n",
       "    }\n",
       "\n",
       "    .dataframe tbody tr th {\n",
       "        vertical-align: top;\n",
       "    }\n",
       "\n",
       "    .dataframe thead th {\n",
       "        text-align: right;\n",
       "    }\n",
       "</style>\n",
       "<table border=\"1\" class=\"dataframe\">\n",
       "  <thead>\n",
       "    <tr style=\"text-align: right;\">\n",
       "      <th></th>\n",
       "      <th>0</th>\n",
       "      <th>1</th>\n",
       "      <th>2</th>\n",
       "      <th>3</th>\n",
       "      <th>4</th>\n",
       "      <th>5</th>\n",
       "      <th>gender_unisex</th>\n",
       "      <th>gender_women</th>\n",
       "      <th>merchandise_label_Exclusive</th>\n",
       "      <th>merchandise_label_New Season</th>\n",
       "      <th>merchandise_label_NoTag</th>\n",
       "      <th>merchandise_label_Permanent Collection</th>\n",
       "      <th>merchandise_label_Positively Conscious</th>\n",
       "      <th>merchandise_label_Seasonal Pick</th>\n",
       "    </tr>\n",
       "  </thead>\n",
       "  <tbody>\n",
       "    <tr>\n",
       "      <th>0</th>\n",
       "      <td>-0.555411</td>\n",
       "      <td>0.574021</td>\n",
       "      <td>-0.873408</td>\n",
       "      <td>-0.076002</td>\n",
       "      <td>0.219906</td>\n",
       "      <td>-1.176955</td>\n",
       "      <td>0</td>\n",
       "      <td>1</td>\n",
       "      <td>0</td>\n",
       "      <td>0</td>\n",
       "      <td>1</td>\n",
       "      <td>0</td>\n",
       "      <td>0</td>\n",
       "      <td>0</td>\n",
       "    </tr>\n",
       "    <tr>\n",
       "      <th>1</th>\n",
       "      <td>0.374526</td>\n",
       "      <td>0.574021</td>\n",
       "      <td>-0.921126</td>\n",
       "      <td>-0.373379</td>\n",
       "      <td>-0.029775</td>\n",
       "      <td>2.653887</td>\n",
       "      <td>0</td>\n",
       "      <td>1</td>\n",
       "      <td>0</td>\n",
       "      <td>0</td>\n",
       "      <td>1</td>\n",
       "      <td>0</td>\n",
       "      <td>0</td>\n",
       "      <td>0</td>\n",
       "    </tr>\n",
       "    <tr>\n",
       "      <th>2</th>\n",
       "      <td>-0.552152</td>\n",
       "      <td>0.574021</td>\n",
       "      <td>-1.134665</td>\n",
       "      <td>0.007163</td>\n",
       "      <td>0.086456</td>\n",
       "      <td>-1.176955</td>\n",
       "      <td>0</td>\n",
       "      <td>1</td>\n",
       "      <td>0</td>\n",
       "      <td>0</td>\n",
       "      <td>1</td>\n",
       "      <td>0</td>\n",
       "      <td>0</td>\n",
       "      <td>0</td>\n",
       "    </tr>\n",
       "    <tr>\n",
       "      <th>3</th>\n",
       "      <td>-0.536673</td>\n",
       "      <td>-1.742095</td>\n",
       "      <td>-1.264697</td>\n",
       "      <td>-0.426302</td>\n",
       "      <td>-0.057756</td>\n",
       "      <td>-0.538481</td>\n",
       "      <td>0</td>\n",
       "      <td>1</td>\n",
       "      <td>0</td>\n",
       "      <td>0</td>\n",
       "      <td>1</td>\n",
       "      <td>0</td>\n",
       "      <td>0</td>\n",
       "      <td>0</td>\n",
       "    </tr>\n",
       "    <tr>\n",
       "      <th>4</th>\n",
       "      <td>-0.543445</td>\n",
       "      <td>0.574021</td>\n",
       "      <td>-0.897267</td>\n",
       "      <td>0.008675</td>\n",
       "      <td>0.107980</td>\n",
       "      <td>-1.176955</td>\n",
       "      <td>0</td>\n",
       "      <td>1</td>\n",
       "      <td>0</td>\n",
       "      <td>0</td>\n",
       "      <td>1</td>\n",
       "      <td>0</td>\n",
       "      <td>0</td>\n",
       "      <td>0</td>\n",
       "    </tr>\n",
       "    <tr>\n",
       "      <th>...</th>\n",
       "      <td>...</td>\n",
       "      <td>...</td>\n",
       "      <td>...</td>\n",
       "      <td>...</td>\n",
       "      <td>...</td>\n",
       "      <td>...</td>\n",
       "      <td>...</td>\n",
       "      <td>...</td>\n",
       "      <td>...</td>\n",
       "      <td>...</td>\n",
       "      <td>...</td>\n",
       "      <td>...</td>\n",
       "      <td>...</td>\n",
       "      <td>...</td>\n",
       "    </tr>\n",
       "    <tr>\n",
       "      <th>188812</th>\n",
       "      <td>-0.532159</td>\n",
       "      <td>-1.742095</td>\n",
       "      <td>-1.195506</td>\n",
       "      <td>-0.516019</td>\n",
       "      <td>-0.046994</td>\n",
       "      <td>-0.538481</td>\n",
       "      <td>1</td>\n",
       "      <td>0</td>\n",
       "      <td>0</td>\n",
       "      <td>0</td>\n",
       "      <td>0</td>\n",
       "      <td>1</td>\n",
       "      <td>0</td>\n",
       "      <td>0</td>\n",
       "    </tr>\n",
       "    <tr>\n",
       "      <th>188813</th>\n",
       "      <td>-0.532159</td>\n",
       "      <td>-1.742095</td>\n",
       "      <td>-1.195506</td>\n",
       "      <td>-0.516019</td>\n",
       "      <td>-0.055604</td>\n",
       "      <td>-0.538481</td>\n",
       "      <td>1</td>\n",
       "      <td>0</td>\n",
       "      <td>0</td>\n",
       "      <td>0</td>\n",
       "      <td>1</td>\n",
       "      <td>0</td>\n",
       "      <td>0</td>\n",
       "      <td>0</td>\n",
       "    </tr>\n",
       "    <tr>\n",
       "      <th>188814</th>\n",
       "      <td>-0.532159</td>\n",
       "      <td>-1.742095</td>\n",
       "      <td>-1.195506</td>\n",
       "      <td>-0.516019</td>\n",
       "      <td>-0.055604</td>\n",
       "      <td>-0.538481</td>\n",
       "      <td>1</td>\n",
       "      <td>0</td>\n",
       "      <td>0</td>\n",
       "      <td>0</td>\n",
       "      <td>1</td>\n",
       "      <td>0</td>\n",
       "      <td>0</td>\n",
       "      <td>0</td>\n",
       "    </tr>\n",
       "    <tr>\n",
       "      <th>188815</th>\n",
       "      <td>-0.532159</td>\n",
       "      <td>-1.742095</td>\n",
       "      <td>-1.195506</td>\n",
       "      <td>-0.516019</td>\n",
       "      <td>-0.038384</td>\n",
       "      <td>-0.538481</td>\n",
       "      <td>1</td>\n",
       "      <td>0</td>\n",
       "      <td>0</td>\n",
       "      <td>0</td>\n",
       "      <td>1</td>\n",
       "      <td>0</td>\n",
       "      <td>0</td>\n",
       "      <td>0</td>\n",
       "    </tr>\n",
       "    <tr>\n",
       "      <th>188816</th>\n",
       "      <td>-0.532159</td>\n",
       "      <td>-1.742095</td>\n",
       "      <td>-1.195506</td>\n",
       "      <td>-0.516019</td>\n",
       "      <td>-0.053451</td>\n",
       "      <td>-0.538481</td>\n",
       "      <td>1</td>\n",
       "      <td>0</td>\n",
       "      <td>0</td>\n",
       "      <td>0</td>\n",
       "      <td>1</td>\n",
       "      <td>0</td>\n",
       "      <td>0</td>\n",
       "      <td>0</td>\n",
       "    </tr>\n",
       "  </tbody>\n",
       "</table>\n",
       "<p>188817 rows × 14 columns</p>\n",
       "</div>"
      ],
      "text/plain": [
       "               0         1         2         3         4         5  \\\n",
       "0      -0.555411  0.574021 -0.873408 -0.076002  0.219906 -1.176955   \n",
       "1       0.374526  0.574021 -0.921126 -0.373379 -0.029775  2.653887   \n",
       "2      -0.552152  0.574021 -1.134665  0.007163  0.086456 -1.176955   \n",
       "3      -0.536673 -1.742095 -1.264697 -0.426302 -0.057756 -0.538481   \n",
       "4      -0.543445  0.574021 -0.897267  0.008675  0.107980 -1.176955   \n",
       "...          ...       ...       ...       ...       ...       ...   \n",
       "188812 -0.532159 -1.742095 -1.195506 -0.516019 -0.046994 -0.538481   \n",
       "188813 -0.532159 -1.742095 -1.195506 -0.516019 -0.055604 -0.538481   \n",
       "188814 -0.532159 -1.742095 -1.195506 -0.516019 -0.055604 -0.538481   \n",
       "188815 -0.532159 -1.742095 -1.195506 -0.516019 -0.038384 -0.538481   \n",
       "188816 -0.532159 -1.742095 -1.195506 -0.516019 -0.053451 -0.538481   \n",
       "\n",
       "        gender_unisex  gender_women  merchandise_label_Exclusive  \\\n",
       "0                   0             1                            0   \n",
       "1                   0             1                            0   \n",
       "2                   0             1                            0   \n",
       "3                   0             1                            0   \n",
       "4                   0             1                            0   \n",
       "...               ...           ...                          ...   \n",
       "188812              1             0                            0   \n",
       "188813              1             0                            0   \n",
       "188814              1             0                            0   \n",
       "188815              1             0                            0   \n",
       "188816              1             0                            0   \n",
       "\n",
       "        merchandise_label_New Season  merchandise_label_NoTag  \\\n",
       "0                                  0                        1   \n",
       "1                                  0                        1   \n",
       "2                                  0                        1   \n",
       "3                                  0                        1   \n",
       "4                                  0                        1   \n",
       "...                              ...                      ...   \n",
       "188812                             0                        0   \n",
       "188813                             0                        1   \n",
       "188814                             0                        1   \n",
       "188815                             0                        1   \n",
       "188816                             0                        1   \n",
       "\n",
       "        merchandise_label_Permanent Collection  \\\n",
       "0                                            0   \n",
       "1                                            0   \n",
       "2                                            0   \n",
       "3                                            0   \n",
       "4                                            0   \n",
       "...                                        ...   \n",
       "188812                                       1   \n",
       "188813                                       0   \n",
       "188814                                       0   \n",
       "188815                                       0   \n",
       "188816                                       0   \n",
       "\n",
       "        merchandise_label_Positively Conscious  \\\n",
       "0                                            0   \n",
       "1                                            0   \n",
       "2                                            0   \n",
       "3                                            0   \n",
       "4                                            0   \n",
       "...                                        ...   \n",
       "188812                                       0   \n",
       "188813                                       0   \n",
       "188814                                       0   \n",
       "188815                                       0   \n",
       "188816                                       0   \n",
       "\n",
       "        merchandise_label_Seasonal Pick  \n",
       "0                                     0  \n",
       "1                                     0  \n",
       "2                                     0  \n",
       "3                                     0  \n",
       "4                                     0  \n",
       "...                                 ...  \n",
       "188812                                0  \n",
       "188813                                0  \n",
       "188814                                0  \n",
       "188815                                0  \n",
       "188816                                0  \n",
       "\n",
       "[188817 rows x 14 columns]"
      ]
     },
     "execution_count": 71,
     "metadata": {},
     "output_type": "execute_result"
    }
   ],
   "source": [
    "new_farfetch=pd.concat([numericals,categoricald], axis=1)\n",
    "new_farfetch"
   ]
  },
  {
   "cell_type": "markdown",
   "metadata": {},
   "source": [
    "### X-Y split test for the data"
   ]
  },
  {
   "cell_type": "code",
   "execution_count": 72,
   "metadata": {},
   "outputs": [],
   "source": [
    "X = new_farfetch"
   ]
  },
  {
   "cell_type": "code",
   "execution_count": 73,
   "metadata": {},
   "outputs": [],
   "source": [
    "y = farfetch['on_sale']"
   ]
  },
  {
   "cell_type": "code",
   "execution_count": 74,
   "metadata": {},
   "outputs": [],
   "source": [
    "# loading the train test split library \n",
    "\n",
    "from sklearn.model_selection import train_test_split\n",
    "\n",
    "X_train, X_test, y_train, y_test = train_test_split(X, y, test_size=0.2, random_state=42)"
   ]
  },
  {
   "cell_type": "markdown",
   "metadata": {},
   "source": [
    "#### Logistics Regression model"
   ]
  },
  {
   "cell_type": "code",
   "execution_count": 75,
   "metadata": {},
   "outputs": [
    {
     "name": "stderr",
     "output_type": "stream",
     "text": [
      "C:\\Users\\parag\\anaconda3\\lib\\site-packages\\sklearn\\utils\\validation.py:1858: FutureWarning: Feature names only support names that are all strings. Got feature names with dtypes: ['int', 'str']. An error will be raised in 1.2.\n",
      "  warnings.warn(\n",
      "C:\\Users\\parag\\anaconda3\\lib\\site-packages\\sklearn\\utils\\validation.py:1858: FutureWarning: Feature names only support names that are all strings. Got feature names with dtypes: ['int', 'str']. An error will be raised in 1.2.\n",
      "  warnings.warn(\n"
     ]
    }
   ],
   "source": [
    "# Logistics regression model (loading library in first place)\n",
    "\n",
    "from sklearn.linear_model import LogisticRegression\n",
    "\n",
    "clf = LogisticRegression(random_state=42, max_iter=500).fit(X_train, y_train)\n",
    "predictions = clf.predict(X_test)"
   ]
  },
  {
   "cell_type": "code",
   "execution_count": 76,
   "metadata": {},
   "outputs": [
    {
     "name": "stdout",
     "output_type": "stream",
     "text": [
      "Confusion matrix\n",
      "[[16716  2481]\n",
      " [ 7122 11445]]\n",
      "-------------------------------------------------------\n",
      "Accuracy score\n",
      "0.7457102001906578\n",
      "-------------------------------------------------------\n",
      "Classification report\n",
      "              precision    recall  f1-score   support\n",
      "\n",
      "       False       0.70      0.87      0.78     19197\n",
      "        True       0.82      0.62      0.70     18567\n",
      "\n",
      "    accuracy                           0.75     37764\n",
      "   macro avg       0.76      0.74      0.74     37764\n",
      "weighted avg       0.76      0.75      0.74     37764\n",
      "\n"
     ]
    }
   ],
   "source": [
    "#check accuracy score (first load library needed), confusion matrix and classification report\n",
    "\n",
    "from sklearn.metrics import confusion_matrix, accuracy_score, classification_report\n",
    "\n",
    "# compare predictions to actual answers\n",
    "print('Confusion matrix')\n",
    "print(confusion_matrix(predictions,y_test))\n",
    "print('-------------------------------------------------------')\n",
    "# accuracy_score\n",
    "# fitted X_test data vs. y_test data (actual answer)\n",
    "print('Accuracy score')\n",
    "print(accuracy_score(predictions,y_test))\n",
    "print('-------------------------------------------------------')\n",
    "# classification report\n",
    "print('Classification report')\n",
    "print(classification_report(predictions,y_test)) "
   ]
  },
  {
   "cell_type": "code",
   "execution_count": 77,
   "metadata": {},
   "outputs": [
    {
     "name": "stderr",
     "output_type": "stream",
     "text": [
      "C:\\Users\\parag\\anaconda3\\lib\\site-packages\\sklearn\\utils\\deprecation.py:87: FutureWarning: Function plot_confusion_matrix is deprecated; Function `plot_confusion_matrix` is deprecated in 1.0 and will be removed in 1.2. Use one of the class methods: ConfusionMatrixDisplay.from_predictions or ConfusionMatrixDisplay.from_estimator.\n",
      "  warnings.warn(msg, category=FutureWarning)\n",
      "C:\\Users\\parag\\anaconda3\\lib\\site-packages\\sklearn\\utils\\validation.py:1858: FutureWarning: Feature names only support names that are all strings. Got feature names with dtypes: ['int', 'str']. An error will be raised in 1.2.\n",
      "  warnings.warn(\n"
     ]
    },
    {
     "name": "stdout",
     "output_type": "stream",
     "text": [
      "The accuracy of your model is: %4.2f  0.7457102001906578\n"
     ]
    },
    {
     "data": {
      "image/png": "[encoded data removed]",
      "text/plain": [
       "<Figure size 432x288 with 2 Axes>"
      ]
     },
     "metadata": {
      "needs_background": "light"
     },
     "output_type": "display_data"
    }
   ],
   "source": [
    "#plot confusion matrix\n",
    "\n",
    "from sklearn.metrics import plot_confusion_matrix\n",
    "\n",
    "plot_confusion_matrix(clf, X_test, y_test)\n",
    "print(\"The accuracy of your model is: %4.2f \", accuracy_score(y_test, predictions))"
   ]
  },
  {
   "cell_type": "markdown",
   "metadata": {},
   "source": [
    "#### Logistics Regression (SMOTE)"
   ]
  },
  {
   "cell_type": "code",
   "execution_count": 79,
   "metadata": {},
   "outputs": [
    {
     "name": "stderr",
     "output_type": "stream",
     "text": [
      "C:\\Users\\parag\\anaconda3\\lib\\site-packages\\sklearn\\utils\\validation.py:1858: FutureWarning: Feature names only support names that are all strings. Got feature names with dtypes: ['int', 'str']. An error will be raised in 1.2.\n",
      "  warnings.warn(\n"
     ]
    },
    {
     "data": {
      "text/plain": [
       "False    119458\n",
       "True     119458\n",
       "dtype: int64"
      ]
     },
     "execution_count": 79,
     "metadata": {},
     "output_type": "execute_result"
    }
   ],
   "source": [
    "#SMOTE\n",
    "\n",
    "from imblearn.over_sampling import SMOTE\n",
    "smote = SMOTE()\n",
    "\n",
    "X_sm, y_sm = smote.fit_resample(X, y)\n",
    "y_sm = y_sm.to_numpy()\n",
    "y_sm = pd.Series(data=y_sm.flatten())\n",
    "y_sm.value_counts()"
   ]
  },
  {
   "cell_type": "code",
   "execution_count": 80,
   "metadata": {},
   "outputs": [],
   "source": [
    "X_train, X_test, y_train, y_test = train_test_split(X_sm, y_sm, test_size=0.2, random_state=100)"
   ]
  },
  {
   "cell_type": "code",
   "execution_count": 81,
   "metadata": {},
   "outputs": [
    {
     "name": "stderr",
     "output_type": "stream",
     "text": [
      "C:\\Users\\parag\\anaconda3\\lib\\site-packages\\sklearn\\utils\\validation.py:1858: FutureWarning: Feature names only support names that are all strings. Got feature names with dtypes: ['int', 'str']. An error will be raised in 1.2.\n",
      "  warnings.warn(\n"
     ]
    },
    {
     "name": "stdout",
     "output_type": "stream",
     "text": [
      "The accuracy of the logistic_regression model is: 0.76 \n",
      "The kappa of the logistic regression model is: 0.53 \n"
     ]
    },
    {
     "name": "stderr",
     "output_type": "stream",
     "text": [
      "C:\\Users\\parag\\anaconda3\\lib\\site-packages\\sklearn\\utils\\validation.py:1858: FutureWarning: Feature names only support names that are all strings. Got feature names with dtypes: ['int', 'str']. An error will be raised in 1.2.\n",
      "  warnings.warn(\n",
      "C:\\Users\\parag\\anaconda3\\lib\\site-packages\\sklearn\\utils\\validation.py:1858: FutureWarning: Feature names only support names that are all strings. Got feature names with dtypes: ['int', 'str']. An error will be raised in 1.2.\n",
      "  warnings.warn(\n"
     ]
    }
   ],
   "source": [
    "classification = LogisticRegression(random_state=0, multi_class='ovr', max_iter=10000).fit(X_sm, y_sm.values.ravel())\n",
    "y_pred = classification.predict(X_test)\n",
    "print(\"The accuracy of the logistic_regression model is: %4.2f \"% (classification.score(X_test, y_test)))\n",
    "\n",
    "from sklearn.metrics import cohen_kappa_score\n",
    "print(\"The kappa of the logistic regression model is: %4.2f \" %(cohen_kappa_score(y_pred,y_test)) )"
   ]
  },
  {
   "cell_type": "markdown",
   "metadata": {},
   "source": [
    "#### Decision Tree Classifier"
   ]
  },
  {
   "cell_type": "code",
   "execution_count": 82,
   "metadata": {},
   "outputs": [
    {
     "name": "stderr",
     "output_type": "stream",
     "text": [
      "C:\\Users\\parag\\anaconda3\\lib\\site-packages\\sklearn\\utils\\validation.py:1858: FutureWarning: Feature names only support names that are all strings. Got feature names with dtypes: ['int', 'str']. An error will be raised in 1.2.\n",
      "  warnings.warn(\n"
     ]
    },
    {
     "name": "stdout",
     "output_type": "stream",
     "text": [
      "The accuracy of the model is: 0.87\n",
      "The kappa of the logistic regression model is: 0.53 \n"
     ]
    },
    {
     "name": "stderr",
     "output_type": "stream",
     "text": [
      "C:\\Users\\parag\\anaconda3\\lib\\site-packages\\sklearn\\utils\\validation.py:1858: FutureWarning: Feature names only support names that are all strings. Got feature names with dtypes: ['int', 'str']. An error will be raised in 1.2.\n",
      "  warnings.warn(\n"
     ]
    }
   ],
   "source": [
    "# Using Decision Tree Classifier to improve the accuracy of the model\n",
    "\n",
    "from sklearn.tree import DecisionTreeClassifier\n",
    "\n",
    "model = DecisionTreeClassifier()\n",
    "model_dt= model.fit(X_train, y_train)\n",
    "print(\"The accuracy of the model is: {:4.2f}\".format(model.score(X_test, y_test)))\n",
    "print(\"The kappa of the logistic regression model is: %4.2f \" %(cohen_kappa_score(y_pred,y_test)) )"
   ]
  },
  {
   "cell_type": "code",
   "execution_count": 83,
   "metadata": {},
   "outputs": [],
   "source": [
    "with open('model_dt.pkl', 'wb') as file:\n",
    "    pickle.dump(model_dt, file)"
   ]
  },
  {
   "cell_type": "markdown",
   "metadata": {},
   "source": [
    "#### Ada Boost Classifier"
   ]
  },
  {
   "cell_type": "code",
   "execution_count": 84,
   "metadata": {},
   "outputs": [],
   "source": [
    "# Load libraries\n",
    "from sklearn.ensemble import AdaBoostClassifier\n",
    "from sklearn import datasets\n",
    "# Import train_test_split function\n",
    "from sklearn.model_selection import train_test_split\n",
    "#Import scikit-learn metrics module for accuracy calculation\n",
    "from sklearn import metrics"
   ]
  },
  {
   "cell_type": "code",
   "execution_count": 85,
   "metadata": {},
   "outputs": [],
   "source": [
    "# Split dataset into training set and test set\n",
    "X_train, X_test, y_train, y_test = train_test_split(X, y, test_size=0.3,random_state=100) # 70% training and 30% test"
   ]
  },
  {
   "cell_type": "code",
   "execution_count": 86,
   "metadata": {},
   "outputs": [
    {
     "name": "stderr",
     "output_type": "stream",
     "text": [
      "C:\\Users\\parag\\anaconda3\\lib\\site-packages\\sklearn\\utils\\validation.py:1858: FutureWarning: Feature names only support names that are all strings. Got feature names with dtypes: ['int', 'str']. An error will be raised in 1.2.\n",
      "  warnings.warn(\n",
      "C:\\Users\\parag\\anaconda3\\lib\\site-packages\\sklearn\\utils\\validation.py:1858: FutureWarning: Feature names only support names that are all strings. Got feature names with dtypes: ['int', 'str']. An error will be raised in 1.2.\n",
      "  warnings.warn(\n"
     ]
    }
   ],
   "source": [
    "# Create adaboost classifer object\n",
    "abc = AdaBoostClassifier(n_estimators=1000,learning_rate=1,random_state=100)\n",
    "# Train Adaboost Classifer\n",
    "model = abc.fit(X_train, y_train)\n",
    "\n",
    "#Predict the response for test dataset\n",
    "y_pred = model.predict(X_test)"
   ]
  },
  {
   "cell_type": "code",
   "execution_count": 87,
   "metadata": {},
   "outputs": [
    {
     "name": "stdout",
     "output_type": "stream",
     "text": [
      "Accuracy: 0.80 \n",
      "The kappa of the logistic regression model is: 0.58 \n"
     ]
    }
   ],
   "source": [
    "print(\"Accuracy: %4.2f \" %(metrics.accuracy_score(y_test, y_pred)) )\n",
    "print(\"The kappa of the logistic regression model is: %4.2f \" %(cohen_kappa_score(y_pred,y_test)) )"
   ]
  },
  {
   "cell_type": "markdown",
   "metadata": {},
   "source": [
    "#### Random Forest"
   ]
  },
  {
   "cell_type": "code",
   "execution_count": 88,
   "metadata": {},
   "outputs": [],
   "source": [
    "## importing Library\n",
    "from sklearn.ensemble import RandomForestClassifier\n",
    "from sklearn.datasets import make_classification"
   ]
  },
  {
   "cell_type": "code",
   "execution_count": 89,
   "metadata": {},
   "outputs": [
    {
     "name": "stderr",
     "output_type": "stream",
     "text": [
      "C:\\Users\\parag\\anaconda3\\lib\\site-packages\\sklearn\\utils\\validation.py:1858: FutureWarning: Feature names only support names that are all strings. Got feature names with dtypes: ['int', 'str']. An error will be raised in 1.2.\n",
      "  warnings.warn(\n"
     ]
    }
   ],
   "source": [
    "## Taking the X,Y values from smote\n",
    "X_train, X_test, y_train, y_test = train_test_split(X, y, test_size=0.2, random_state=56)\n",
    "\n",
    "clf = RandomForestClassifier(n_estimators=500, random_state=100).fit(X_train, y_train.values.ravel())"
   ]
  },
  {
   "cell_type": "code",
   "execution_count": 92,
   "metadata": {},
   "outputs": [
    {
     "name": "stderr",
     "output_type": "stream",
     "text": [
      "C:\\Users\\parag\\anaconda3\\lib\\site-packages\\sklearn\\utils\\validation.py:1858: FutureWarning: Feature names only support names that are all strings. Got feature names with dtypes: ['int', 'str']. An error will be raised in 1.2.\n",
      "  warnings.warn(\n"
     ]
    },
    {
     "data": {
      "text/plain": [
       "array([ True,  True,  True, ..., False, False,  True])"
      ]
     },
     "execution_count": 92,
     "metadata": {},
     "output_type": "execute_result"
    }
   ],
   "source": [
    "predictions = clf.predict(X_test)\n",
    "predictions"
   ]
  },
  {
   "cell_type": "code",
   "execution_count": 93,
   "metadata": {},
   "outputs": [
    {
     "name": "stderr",
     "output_type": "stream",
     "text": [
      "C:\\Users\\parag\\anaconda3\\lib\\site-packages\\sklearn\\utils\\validation.py:1858: FutureWarning: Feature names only support names that are all strings. Got feature names with dtypes: ['int', 'str']. An error will be raised in 1.2.\n",
      "  warnings.warn(\n",
      "C:\\Users\\parag\\anaconda3\\lib\\site-packages\\sklearn\\utils\\validation.py:1858: FutureWarning: Feature names only support names that are all strings. Got feature names with dtypes: ['int', 'str']. An error will be raised in 1.2.\n",
      "  warnings.warn(\n"
     ]
    },
    {
     "name": "stdout",
     "output_type": "stream",
     "text": [
      "The accuracy of the logistic_regression model is: 0.88 \n",
      "The kappa of the logistic regression model is: 0.74 \n"
     ]
    }
   ],
   "source": [
    "y_pred = clf.predict(X_test)\n",
    "print(\"The accuracy of the logistic_regression model is: %4.2f \"% (clf.score(X_test, y_test)))\n",
    "\n",
    "from sklearn.metrics import cohen_kappa_score\n",
    "print(\"The kappa of the logistic regression model is: %4.2f \" %(cohen_kappa_score(y_pred,y_test)) )"
   ]
  },
  {
   "cell_type": "markdown",
   "metadata": {},
   "source": [
    "#### Feature importance"
   ]
  },
  {
   "cell_type": "code",
   "execution_count": 94,
   "metadata": {},
   "outputs": [
    {
     "name": "stdout",
     "output_type": "stream",
     "text": [
      "              precision    recall  f1-score   support\n",
      "\n",
      "       False       0.91      0.89      0.90     23789\n",
      "        True       0.82      0.86      0.84     13975\n",
      "\n",
      "    accuracy                           0.88     37764\n",
      "   macro avg       0.87      0.87      0.87     37764\n",
      "weighted avg       0.88      0.88      0.88     37764\n",
      "\n"
     ]
    },
    {
     "name": "stderr",
     "output_type": "stream",
     "text": [
      "C:\\Users\\parag\\anaconda3\\lib\\site-packages\\sklearn\\utils\\deprecation.py:87: FutureWarning: Function plot_confusion_matrix is deprecated; Function `plot_confusion_matrix` is deprecated in 1.0 and will be removed in 1.2. Use one of the class methods: ConfusionMatrixDisplay.from_predictions or ConfusionMatrixDisplay.from_estimator.\n",
      "  warnings.warn(msg, category=FutureWarning)\n",
      "C:\\Users\\parag\\anaconda3\\lib\\site-packages\\sklearn\\utils\\validation.py:1858: FutureWarning: Feature names only support names that are all strings. Got feature names with dtypes: ['int', 'str']. An error will be raised in 1.2.\n",
      "  warnings.warn(\n"
     ]
    },
    {
     "data": {
      "image/png": "[encoded data removed]",
      "text/plain": [
       "<Figure size 432x288 with 2 Axes>"
      ]
     },
     "metadata": {
      "needs_background": "light"
     },
     "output_type": "display_data"
    },
    {
     "name": "stdout",
     "output_type": "stream",
     "text": [
      "Feature: 0, Score: 0.19933\n",
      "Feature: 1, Score: 0.07712\n",
      "Feature: 2, Score: 0.21135\n",
      "Feature: 3, Score: 0.19394\n",
      "Feature: 4, Score: 0.07959\n",
      "Feature: 5, Score: 0.04701\n",
      "Feature: 6, Score: 0.00505\n",
      "Feature: 7, Score: 0.00489\n",
      "Feature: 8, Score: 0.00088\n",
      "Feature: 9, Score: 0.07610\n",
      "Feature: 10, Score: 0.09388\n",
      "Feature: 11, Score: 0.00161\n",
      "Feature: 12, Score: 0.00839\n",
      "Feature: 13, Score: 0.00086\n"
     ]
    },
    {
     "data": {
      "image/png": "[encoded data removed]",
      "text/plain": [
       "<Figure size 432x288 with 1 Axes>"
      ]
     },
     "metadata": {
      "needs_background": "light"
     },
     "output_type": "display_data"
    }
   ],
   "source": [
    "from sklearn.metrics import classification_report\n",
    "print(classification_report(y_test, y_pred, labels=[False,True]))\n",
    "\n",
    "plot_confusion_matrix(clf, X_test, y_test)  # doctest: +SKIP\n",
    "plt.show()\n",
    "\n",
    "# get importance\n",
    "\n",
    "importance = clf.feature_importances_\n",
    "\n",
    "# summarize feature importance\n",
    "\n",
    "for i,v in enumerate(importance):\n",
    "    print('Feature: %0d, Score: %.5f' % (i,v))\n",
    "    \n",
    "# plot feature importance\n",
    "\n",
    "from matplotlib import pyplot\n",
    "\n",
    "pyplot.bar([x for x in range(len(importance))], importance)\n",
    "pyplot.show()"
   ]
  },
  {
   "cell_type": "markdown",
   "metadata": {},
   "source": [
    "## Building a function for the model"
   ]
  },
  {
   "cell_type": "code",
   "execution_count": 95,
   "metadata": {},
   "outputs": [
    {
     "data": {
      "text/plain": [
       "array([False])"
      ]
     },
     "execution_count": 95,
     "metadata": {},
     "output_type": "execute_result"
    }
   ],
   "source": [
    "model_dt.predict([[0,1,2,3,4,5,0,1,1,0,0,0,0,0]])"
   ]
  },
  {
   "cell_type": "code",
   "execution_count": 96,
   "metadata": {},
   "outputs": [
    {
     "data": {
      "text/plain": [
       "0                                        -0.208558\n",
       "1                                         0.574021\n",
       "2                                        -0.485698\n",
       "3                                         1.037902\n",
       "4                                        -0.053451\n",
       "5                                         0.099993\n",
       "gender_unisex                             0.000000\n",
       "gender_women                              1.000000\n",
       "merchandise_label_Exclusive               0.000000\n",
       "merchandise_label_New Season              0.000000\n",
       "merchandise_label_NoTag                   1.000000\n",
       "merchandise_label_Permanent Collection    0.000000\n",
       "merchandise_label_Positively Conscious    0.000000\n",
       "merchandise_label_Seasonal Pick           0.000000\n",
       "Name: 47395, dtype: float64"
      ]
     },
     "execution_count": 96,
     "metadata": {},
     "output_type": "execute_result"
    }
   ],
   "source": [
    "X_test.iloc[0]"
   ]
  },
  {
   "cell_type": "code",
   "execution_count": 97,
   "metadata": {},
   "outputs": [],
   "source": [
    "def input_farfetch():\n",
    "    dct = {'female': [0,1], 'unissex': [1,0], 'exclusive': [1,0,0,0,0,0], 'new season': [0,1,0,0,0,0], 'notag': [0,0,1,0,0,0], 'permanent collection': [0,0,0,1,0,0], 'positively conscious': [0,0,0,0,1,0], 'seasonal pick': [0,0,0,0,0,1]}\n",
    "    with open('model_dt.pkl', 'rb') as file:\n",
    "        model_dt = pickle.load(file)\n",
    "    with open('scaler.pkl', 'rb') as file:\n",
    "        scaler = pickle.load(file) \n",
    "    input_1 = input('brand id: ')\n",
    "    input_2 = input('similar products: ')\n",
    "    input_3 = input('merchant id: ')\n",
    "    input_4 = input('initial price: ')\n",
    "    input_5 = input('stock total: ')\n",
    "    input_6 = input('sizes: ')\n",
    "    input_7 = input('sex: ')\n",
    "    input_8 = input('label: ')\n",
    "    numericals = scaler.transform([[input_1,input_2,input_3,input_4,input_5,input_6]])[0]\n",
    "    new_data = [list(numericals) +dct[input_7] + dct[input_8]]\n",
    "    prediction = model.predict(new_data)[0]\n",
    "    if prediction == True:\n",
    "        print()\n",
    "        print()\n",
    "        \n",
    "        print(\"The item is going to be on sale soon!\")\n",
    "    else: \n",
    "        print()\n",
    "        print()\n",
    "        \n",
    "        print(\"The item is not going to be on sale soon!\")\n",
    "    "
   ]
  },
  {
   "cell_type": "code",
   "execution_count": null,
   "metadata": {},
   "outputs": [],
   "source": [
    "input_farfetch()"
   ]
  },
  {
   "cell_type": "code",
   "execution_count": null,
   "metadata": {},
   "outputs": [],
   "source": [
    "input_farfetch()"
   ]
  },
  {
   "cell_type": "code",
   "execution_count": null,
   "metadata": {},
   "outputs": [],
   "source": [
    "# Saving function in the function.py (the last one, and then use the bellow code to use in a new notebook)\n",
    "# do an example in new notebook with the code bellow\n",
    "\n",
    "from function import input_farfetch #(the function is saved on the function.py)"
   ]
  },
  {
   "cell_type": "code",
   "execution_count": null,
   "metadata": {},
   "outputs": [],
   "source": []
  }
 ],
 "metadata": {
  "kernelspec": {
   "display_name": "Python 3 (ipykernel)",
   "language": "python",
   "name": "python3"
  },
  "language_info": {
   "codemirror_mode": {
    "name": "ipython",
    "version": 3
   },
   "file_extension": ".py",
   "mimetype": "text/x-python",
   "name": "python",
   "nbconvert_exporter": "python",
   "pygments_lexer": "ipython3",
   "version": "3.9.7"
  }
 },
 "nbformat": 4,
 "nbformat_minor": 4
}
